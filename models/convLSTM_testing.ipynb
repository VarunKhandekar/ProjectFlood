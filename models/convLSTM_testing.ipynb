{
 "cells": [
  {
   "cell_type": "code",
   "execution_count": 1,
   "metadata": {},
   "outputs": [
    {
     "name": "stdout",
     "output_type": "stream",
     "text": [
      "['/usr/lib/python310.zip', '/usr/lib/python3.10', '/usr/lib/python3.10/lib-dynload', '', '/home/vkhandekar/project_flood/.venv/lib/python3.10/site-packages', '/homes/vk223/ProjectFlood', '/home/vkhandekar/project_flood']\n"
     ]
    }
   ],
   "source": [
    "import sys\n",
    "paths_to_add = [\"/homes/vk223/ProjectFlood\", \"/home/vkhandekar/project_flood\"]\n",
    "for p in paths_to_add:\n",
    "    if p not in sys.path:\n",
    "        sys.path.append(p)\n",
    "print(sys.path)\n",
    "import torch\n",
    "import torch.nn as nn\n",
    "import torch.optim as optim\n",
    "import os\n",
    "import time\n",
    "from torch.utils.data import DataLoader\n",
    "from dataloaders.convLSTM_dataset import *\n",
    "from dataloaders.custom_image_transforms import *\n",
    "import matplotlib.pyplot as plt\n",
    "from matplotlib import colors\n",
    "from datetime import date"
   ]
  },
  {
   "cell_type": "code",
   "execution_count": 3,
   "metadata": {},
   "outputs": [
    {
     "name": "stdout",
     "output_type": "stream",
     "text": [
      "torch.Size([8, 256, 256])\n"
     ]
    }
   ],
   "source": [
    "class ConvBlock(nn.Module):\n",
    "    def __init__(self, in_channels, out_channels, dropout_prob):\n",
    "        super(ConvBlock, self).__init__()\n",
    "        self.conv = nn.Sequential(\n",
    "            nn.Conv2d(in_channels, out_channels, kernel_size=3, padding=1),\n",
    "            nn.BatchNorm2d(out_channels),\n",
    "            nn.ReLU(),\n",
    "            nn.Dropout2d(dropout_prob),\n",
    "            nn.Conv2d(out_channels, out_channels, kernel_size=3, padding=1),\n",
    "            nn.BatchNorm2d(out_channels),\n",
    "            nn.ReLU(),\n",
    "            nn.Dropout2d(dropout_prob)\n",
    "        )\n",
    "    \n",
    "    def forward(self, x):\n",
    "        return self.conv(x)\n",
    "\n",
    "class ConvLSTMCell(nn.Module):\n",
    "    def __init__(self, input_dim, hidden_dim, kernel_size, dropout_prob, bias=True):\n",
    "        super(ConvLSTMCell, self).__init__()\n",
    "        self.dropout = nn.Dropout2d(dropout_prob)\n",
    "        self.hidden_dim = hidden_dim\n",
    "        self.conv = nn.Conv2d(\n",
    "            in_channels=input_dim + hidden_dim,\n",
    "            out_channels=4 * hidden_dim,\n",
    "            kernel_size=kernel_size,\n",
    "            padding=kernel_size // 2,\n",
    "            bias=bias\n",
    "        )\n",
    "\n",
    "    def forward(self, input_tensor, cur_state):\n",
    "        h_cur, c_cur = cur_state\n",
    "        combined = torch.cat([input_tensor, h_cur], dim=1)\n",
    "        combined_conv = self.conv(combined)\n",
    "        combined_conv = self.dropout(combined_conv)\n",
    "        cc_i, cc_f, cc_o, cc_g = torch.split(combined_conv, self.hidden_dim, dim=1) #split combined conv into 4 (each has as many channels as self.hidden_dim)\n",
    "        i = torch.sigmoid(cc_i)\n",
    "        f = torch.sigmoid(cc_f)\n",
    "        o = torch.sigmoid(cc_o)\n",
    "        g = torch.tanh(cc_g)\n",
    "        c_next = f * c_cur + i * g\n",
    "        h_next = o * torch.tanh(c_next)\n",
    "        return h_next, c_next\n",
    "\n",
    "    def init_hidden(self, batch_size, image_size):\n",
    "        height, width = image_size\n",
    "        return (torch.zeros(batch_size, self.hidden_dim, height, width, device=self.conv.weight.device),\n",
    "                torch.zeros(batch_size, self.hidden_dim, height, width, device=self.conv.weight.device))\n",
    "\n",
    "class ConvLSTM(nn.Module):\n",
    "    def __init__(self, input_dim, hidden_dim, kernel_size, num_layers, dropout_prob):\n",
    "        super(ConvLSTM, self).__init__()\n",
    "        self.hidden_dim = hidden_dim\n",
    "        self.num_layers = num_layers\n",
    "        self.dropout_prob = dropout_prob\n",
    "        self.cell_list = nn.ModuleList([ConvLSTMCell(input_dim, hidden_dim, kernel_size, self.dropout_prob)])\n",
    "        for _ in range(1, num_layers):\n",
    "            self.cell_list.append(ConvLSTMCell(hidden_dim, hidden_dim, kernel_size, self.dropout_prob))\n",
    "\n",
    "    def forward(self, input_tensor):\n",
    "        b, seq_len, c, h, w = input_tensor.size()\n",
    "        hidden_states = [cell.init_hidden(b, (h, w)) for cell in self.cell_list]\n",
    "        cur_layer_input = input_tensor\n",
    "        for layer_idx in range(self.num_layers):\n",
    "            h, c = hidden_states[layer_idx]\n",
    "            output_inner = []\n",
    "            for t in range(seq_len):\n",
    "                h, c = self.cell_list[layer_idx](cur_layer_input[:, t, :, :, :], (h, c))\n",
    "                output_inner.append(h)\n",
    "            cur_layer_input = torch.stack(output_inner, dim=1)\n",
    "        return cur_layer_input[:, -1, :, :, :]\n",
    "\n",
    "class ConvLSTMSeparateBranches(nn.Module):\n",
    "    def __init__(self, preceding_rainfall_days, forecast_rainfall_days, dropout_prob):\n",
    "        super(ConvLSTMSeparateBranches, self).__init__()\n",
    "        self.preceding_rainfall_days = preceding_rainfall_days\n",
    "        self.forecast_rainfall_days = forecast_rainfall_days\n",
    "        self.rainfall_sequence_length = preceding_rainfall_days + forecast_rainfall_days\n",
    "        self.dropout_prob = dropout_prob\n",
    "        self.name = \"convLSTM_separate_branches\"\n",
    "\n",
    "        self.conv1 = ConvBlock(1, 16, self.dropout_prob)\n",
    "        self.conv2 = ConvBlock(1, 16, self.dropout_prob)\n",
    "        self.convlstm = ConvLSTM(1, 16, 3, 1, self.dropout_prob)\n",
    "        self.final_conv = nn.Sequential(\n",
    "            nn.Conv2d(48, 32, kernel_size=3, padding=1),\n",
    "            nn.ReLU(),\n",
    "            nn.Conv2d(32, 1, kernel_size=1),\n",
    "            # nn.Sigmoid() # No sigmoid as BCELogitsLoss as a criterion is more stable\n",
    "        )\n",
    "\n",
    "    def forward(self, x):\n",
    "        b, c, h, w = x.size()\n",
    "        rainfall_sequence = x[:, :self.rainfall_sequence_length].view(b, self.rainfall_sequence_length, 1, h, w)\n",
    "        topology = x[:, self.rainfall_sequence_length:self.rainfall_sequence_length+1].view(b, 1, h, w)\n",
    "        soil_moisture = x[:, self.rainfall_sequence_length+1:self.rainfall_sequence_length+2].view(b, 1, h, w)\n",
    "        \n",
    "        rainfall_out = self.convlstm(rainfall_sequence)\n",
    "        topology_out = self.conv1(topology)\n",
    "        soil_moisture_out = self.conv2(soil_moisture)\n",
    "\n",
    "        combined = torch.cat([rainfall_out, topology_out, soil_moisture_out], dim=1)\n",
    "        output = self.final_conv(combined) #NCXY, where C is 1\n",
    "        output = output.squeeze(1) #NXY\n",
    "        return output\n",
    "\n",
    "# Example usage\n",
    "model = ConvLSTMSeparateBranches(1, 1, 0.0)\n",
    "input_data = torch.randn(8, 16, 256, 256)  # Batch size of 8, 64 sequenced images + 2 static images\n",
    "output = model(input_data)\n",
    "print(output.shape)  # Should be (8, 256, 256)\n",
    "\n"
   ]
  },
  {
   "cell_type": "code",
   "execution_count": 4,
   "metadata": {},
   "outputs": [
    {
     "name": "stdout",
     "output_type": "stream",
     "text": [
      "Device: cpu\n"
     ]
    }
   ],
   "source": [
    "# CUDA device\n",
    "device = torch.device('cuda' if torch.cuda.is_available() else 'cpu')\n",
    "print('Device: {0}'.format(device))\n",
    "\n",
    "# Build the model\n",
    "num_class = 1\n",
    "model = ConvLSTMSeparateBranches(preceding_rainfall_days=1, forecast_rainfall_days=1, dropout_prob=0.0)\n",
    "model = model.to(device)\n",
    "params = list(model.parameters())\n",
    "\n",
    "with open(os.environ[\"PROJECT_FLOOD_DATA\"]) as config_file_path:\n",
    "    config_data = json.load(config_file_path)\n",
    "\n",
    "if not os.path.exists(config_data[\"saved_models_path\"]):\n",
    "    os.makedirs(config_data[\"saved_models_path\"])\n",
    "\n",
    "# Optimizer\n",
    "optimizer = optim.Adam(params, lr=0.01)\n",
    "\n",
    "# Segmentation loss\n",
    "criterion = nn.BCEWithLogitsLoss()\n",
    "\n",
    "# Datasets\n",
    "train_set = FloodPredictionDataset(os.environ[\"PROJECT_FLOOD_DATA\"], \"training_labels_path\", resolution=256, preceding_rainfall_days=1, forecast_rainfall_days=1, transform=train_transform)\n",
    "validation_set = FloodPredictionDataset(os.environ[\"PROJECT_FLOOD_DATA\"], \"validation_labels_path\", resolution=256, preceding_rainfall_days=1, forecast_rainfall_days=1, transform=train_transform)\n",
    "test_set = FloodPredictionDataset(os.environ[\"PROJECT_FLOOD_DATA\"], \"test_labels_path\", resolution=256, preceding_rainfall_days=1, forecast_rainfall_days=1, transform=None)\n",
    "\n",
    "train_batch_size = 16\n",
    "val_batch_size = 16\n",
    "test_batch_size = 8\n",
    "\n",
    "train_dataloader = DataLoader(train_set, batch_size=train_batch_size, shuffle=True, num_workers=4)\n",
    "validation_dataloader = DataLoader(validation_set, batch_size=val_batch_size, shuffle=True, num_workers=4)\n",
    "test_dataloader = DataLoader(test_set, batch_size=test_batch_size, shuffle=True, num_workers=4)"
   ]
  },
  {
   "cell_type": "code",
   "execution_count": null,
   "metadata": {},
   "outputs": [],
   "source": [
    "start = time.time()\n",
    "# Train the model\n",
    "num_epochs = 100\n",
    "train_batch_size = 16\n",
    "\n",
    "start = time.time()\n",
    "\n",
    "# Set the modules in training mode, which will have effects on certain modules, e.g. dropout or batchnorm.\n",
    "model.train()\n",
    "for epoch in range(1, 1 + num_epochs):\n",
    "    start_epoch = time.time()\n",
    "    for images, label in train_dataloader:\n",
    "        images, label = images.to(device, dtype=torch.float32), label.to(device, dtype=torch.float32)\n",
    "        optimizer.zero_grad()\n",
    "        outputs = model(images)\n",
    "        # logits = torch.sigmoid(outputs)\n",
    "        # print(outputs.shape, label.shape)\n",
    "        loss = criterion(outputs, label) #pytorch does internal reshaping, BCEwithLogitsLoss means we don't need to apply sigmoid\n",
    "        loss.backward()\n",
    "        optimizer.step()\n",
    "    print(f\"Training loss, batch {epoch} :  {loss.item():.3f}\")\n",
    "    \n",
    "\n",
    "torch.save(model.state_dict(), os.path.join(config_data[\"saved_models_path\"], f\"convLSTM_separate_branch_{epoch}_{date.today().strftime(r'%Y%m%d')}.pt\"))\n",
    "#     # Get a batch of images and labels\n",
    "#     images, label = train_set.get_random_batch(train_batch_size)\n",
    "#     images, label = torch.from_numpy(images), torch.from_numpy(labels)\n",
    "    \n",
    "#     logits = model(images)\n",
    "\n",
    "#     # Perform optimisation and print out the training loss\n",
    "#     loss = criterion(logits, label) #pytorch does internal reshaping\n",
    "#     optimizer.zero_grad()\n",
    "#     loss.backward()\n",
    "#     optimizer.step()\n",
    "#     print(f\"Training loss, batch {epoch} :  {loss.item():.3f}\")\n",
    "\n",
    "#     # Evaluate\n",
    "#     if epoch % 100 == 0:\n",
    "#         model.eval()\n",
    "#         # Disabling gradient calculation during reference to reduce memory consumption\n",
    "#         with torch.no_grad():\n",
    "#             # Evaluate on a batch of test images and print out the test loss\n",
    "#             test_images, test_labels = test_set.get_random_batch(eval_batch_size)\n",
    "#             test_images, test_labels = torch.from_numpy(test_images), torch.from_numpy(test_labels)\n",
    "#             test_images, test_labels = test_images.to(device, dtype=torch.float32), test_labels.to(device, dtype=torch.long)\n",
    "#             test_logits = model(test_images)\n",
    "#             test_loss = criterion(test_logits, test_labels)\n",
    "#             print(f\"Test loss, batch {epoch} :  {test_loss.item():.3f}\")\n",
    "\n",
    "#     # Save the model\n",
    "#     if epoch % 10 == 0:\n",
    "#         torch.save(model.state_dict(), os.path.join(model_dir, f\"convLSTM_separate_branch_{epoch}.pt\"))\n",
    "# print(f'Training took {time.time() - start:.3f}s in total.')\n"
   ]
  },
  {
   "cell_type": "code",
   "execution_count": null,
   "metadata": {},
   "outputs": [],
   "source": [
    "model_path = \"models/saved_models/convLSTM_separate_branch_100.pt\"\n",
    "model = ConvLSTMSeparateBranches(preceding_rainfall_days=1, forecast_rainfall_days=1)\n",
    "model.load_state_dict(torch.load(model_path))\n",
    "model.eval()"
   ]
  },
  {
   "cell_type": "code",
   "execution_count": null,
   "metadata": {},
   "outputs": [],
   "source": [
    "# Compare vs test\n",
    "test_batch_size = 8\n",
    "test_dataiter = iter(test_dataloader)\n",
    "test_images, test_labels = next(test_dataiter)\n",
    "# test_images, test_labels = test_set.get_random_batch(4)\n",
    "# test_images, test_labels = torch.from_numpy(test_images), torch.from_numpy(test_labels)\n",
    "# test_images, test_labels = test_images.to(device, dtype=torch.float32), test_labels.to(device, dtype=torch.long)\n",
    "outputs = model(test_images)\n",
    "logits = torch.sigmoid(outputs)\n",
    "# predictions = logits > 0.6\n",
    "# print(predictions.shape)\n"
   ]
  },
  {
   "cell_type": "code",
   "execution_count": null,
   "metadata": {},
   "outputs": [],
   "source": [
    "fig, ax = plt.subplots(8, 2, figsize=(8, 32))\n",
    "# label_cmap = colors.ListedColormap(['black', 'green', 'blue', 'red'])\n",
    "plt.tight_layout()\n",
    "for i in range(test_batch_size):\n",
    "    ax[i, 0].imshow(test_labels[i].squeeze(0).cpu(), cmap='gray')\n",
    "    ax[i, 0].set_title(\"Truth\")\n",
    "\n",
    "    # get logit with largest soft max probability\n",
    "    # probabilities = torch.softmax(test_logits[i].cpu(), dim=0)\n",
    "    # best_prediction = torch.argmax(logits, dim=0)\n",
    "    ax[i, 1].imshow(logits[i].squeeze(0).detach().cpu().numpy(), cmap='gray')\n",
    "    ax[i, 1].set_title(\"Predicted probabilities\")\n"
   ]
  },
  {
   "cell_type": "code",
   "execution_count": null,
   "metadata": {},
   "outputs": [
    {
     "data": {
      "text/plain": [
       "str"
      ]
     },
     "execution_count": 11,
     "metadata": {},
     "output_type": "execute_result"
    }
   ],
   "source": [
    "type(optimizer.__class__.__name__)"
   ]
  },
  {
   "cell_type": "code",
   "execution_count": null,
   "metadata": {},
   "outputs": [
    {
     "data": {
      "text/plain": [
       "'BCEWithLogitsLoss'"
      ]
     },
     "execution_count": 10,
     "metadata": {},
     "output_type": "execute_result"
    }
   ],
   "source": [
    "criterion.__class__.__name__"
   ]
  },
  {
   "cell_type": "code",
   "execution_count": null,
   "metadata": {},
   "outputs": [
    {
     "name": "stdout",
     "output_type": "stream",
     "text": [
      "Adam\n"
     ]
    }
   ],
   "source": [
    "a = getattr(optim, optimizer.__class__.__name__)(model.parameters(), lr=0.01)\n",
    "print(a.__class__.__name__)"
   ]
  },
  {
   "cell_type": "code",
   "execution_count": 5,
   "metadata": {},
   "outputs": [
    {
     "name": "stdout",
     "output_type": "stream",
     "text": [
      "ConvLSTMSeparateBranches\n"
     ]
    }
   ],
   "source": [
    "print(model.__class__.__name__)"
   ]
  }
 ],
 "metadata": {
  "kernelspec": {
   "display_name": ".venv",
   "language": "python",
   "name": "python3"
  },
  "language_info": {
   "codemirror_mode": {
    "name": "ipython",
    "version": 3
   },
   "file_extension": ".py",
   "mimetype": "text/x-python",
   "name": "python",
   "nbconvert_exporter": "python",
   "pygments_lexer": "ipython3",
   "version": "3.10.12"
  }
 },
 "nbformat": 4,
 "nbformat_minor": 2
}
