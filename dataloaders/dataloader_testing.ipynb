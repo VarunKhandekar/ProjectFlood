{
 "cells": [
  {
   "cell_type": "code",
   "execution_count": 6,
   "metadata": {},
   "outputs": [],
   "source": [
    "import tarfile\n",
    "import imageio\n",
    "import torch\n",
    "import torch.nn as nn\n",
    "import torch.nn.functional as F\n",
    "import torch.optim as optim\n",
    "from torch.utils.data import Dataset, DataLoader\n",
    "from torchvision.transforms import ToTensor\n",
    "\n",
    "import numpy as np\n",
    "import pandas as pd\n",
    "import time\n",
    "import os\n",
    "os.chdir('/home/vkhandekar/project_flood')\n",
    "import json\n",
    "import random\n",
    "import matplotlib.pyplot as plt\n",
    "from matplotlib import colors\n",
    "from data_extraction.generic_helpers import *\n",
    "from dataloaders.custom_image_transforms import *"
   ]
  },
  {
   "cell_type": "code",
   "execution_count": 7,
   "metadata": {},
   "outputs": [],
   "source": [
    "# def get_rainfall_stats(rainfall_path: str):\n",
    "#     minimum, maximum = 0.0, 0.0\n",
    "    \n",
    "#     for i in os.listdir(rainfall_path):\n",
    "#         im = imageio.imread(os.path.join(rainfall_path, i))\n",
    "#         maximum = max(maximum, np.max(im))\n",
    "#         minimum = min(minimum, np.min(im))\n",
    "\n",
    "#     return minimum, maximum\n",
    "\n",
    "# min, max = get_rainfall_stats(\"data/BangladeshRainfall\")\n",
    "# print(min, max)"
   ]
  },
  {
   "cell_type": "code",
   "execution_count": 8,
   "metadata": {},
   "outputs": [
    {
     "name": "stderr",
     "output_type": "stream",
     "text": [
      "/tmp/ipykernel_37191/2858784766.py:11: DeprecationWarning: Starting with ImageIO v3 the behavior of this function will switch to that of iio.v3.imread. To keep the current behavior (and make this warning disappear) use `import imageio.v2 as imageio` or call `imageio.v2.imread` directly.\n",
      "  rain_image = imageio.imread(rain_image_name)\n"
     ]
    },
    {
     "name": "stdout",
     "output_type": "stream",
     "text": [
      "0.0 4.197201728820801\n"
     ]
    }
   ],
   "source": [
    "def get_log_rainfall_stats_training(training_path: str, rainfall_dir: str, preceding_rainfall_days: int, forecast_rainfall_days: int = 1):\n",
    "    minimum, maximum = 0.0, 0.0\n",
    "    \n",
    "    for im in os.listdir(training_path):\n",
    "        date_str = im[15:-4]\n",
    "        date = pd.to_datetime(date_str, format=r\"%Y%m%d\")\n",
    "        \n",
    "        rainfall_dates = generate_timestamps(date, preceding_rainfall_days, forecast_rainfall_days, \"3h\")\n",
    "        for rd in rainfall_dates:\n",
    "            rain_image_name = os.path.join(rainfall_dir, rd.strftime(r\"%Y%j.%H\")+\".tif\")\n",
    "            rain_image = imageio.imread(rain_image_name)\n",
    "            rain_image = rain_image.astype(np.float32) # De quantize\n",
    "            rain_image /= 1000.0\n",
    "            rain_image = np.log(rain_image + 1) #Take log\n",
    "            maximum = np.maximum(maximum, np.max(rain_image))\n",
    "            minimum = np.minimum(minimum, np.min(rain_image))\n",
    "\n",
    "    return minimum, maximum\n",
    "\n",
    "min, max = get_log_rainfall_stats_training(\"data/BangladeshWaterImagesTraining_256_256\", \"data/BangladeshRainfall_256_256\", 7)\n",
    "print(min, max)\n"
   ]
  },
  {
   "cell_type": "code",
   "execution_count": 9,
   "metadata": {},
   "outputs": [
    {
     "name": "stderr",
     "output_type": "stream",
     "text": [
      "/tmp/ipykernel_37191/2858784766.py:11: DeprecationWarning: Starting with ImageIO v3 the behavior of this function will switch to that of iio.v3.imread. To keep the current behavior (and make this warning disappear) use `import imageio.v2 as imageio` or call `imageio.v2.imread` directly.\n",
      "  rain_image = imageio.imread(rain_image_name)\n"
     ]
    },
    {
     "name": "stdout",
     "output_type": "stream",
     "text": [
      "0.0 4.197201728820801\n"
     ]
    }
   ],
   "source": [
    "min, max = get_log_rainfall_stats_training(\"data/BangladeshWaterImagesTraining_256_256\", \"data/BangladeshRainfall_256_256\", 7)\n",
    "print(min, max)"
   ]
  },
  {
   "cell_type": "code",
   "execution_count": 21,
   "metadata": {},
   "outputs": [],
   "source": [
    "\n",
    "def normalise_rainfall(image, min, max):\n",
    "    return (image - min)/(max - min)\n",
    "\n",
    "def standardise_locally(image, thres_roi = 1.0):\n",
    "    val_l = np.percentile(image, thres_roi)\n",
    "    roi = (image >= val_l)\n",
    "    mu, sigma = np.mean(image[roi]), np.std(image[roi])\n",
    "    eps = 1e-6\n",
    "    image2 = (image - mu) / (sigma + eps)\n",
    "    return image2\n",
    "    \n",
    "\n",
    "# def generate_image_label_sets(water_image_dir, soil_moisture_dir, topology_dir, rainfall_dir, rainfall_min, rainfall_max, preceding_rainfall_days):\n",
    "#     images = []\n",
    "#     labels = []\n",
    "\n",
    "#     for im in sorted(os.listdir(water_image_dir)):\n",
    "#         # Get 'label' i.e. the water inundation image\n",
    "#         label_name = os.path.join(water_image_dir, im)\n",
    "#         label = imageio.imread(label_name)\n",
    "#         labels.append(label)\n",
    "\n",
    "#         # Get 'conditioning' images and collate into a dictionary\n",
    "#         images_dict = {}\n",
    "#         date_str = im[15:-4]\n",
    "#         date = pd.to_datetime(date_str, format=r\"%Y%m%d\")\n",
    "\n",
    "#         #Topology - standardisation\n",
    "#         topology_name = os.path.join(topology_dir, \"BangladeshTopology.tif\")\n",
    "#         images_dict['topology'] = imageio.read(topology_name) #standardise: mid height regions can still be of importance\n",
    "\n",
    "#         #Soil Moisture - pseudo min-max scaling\n",
    "#         soil_moisture_date = date - pd.Timedelta(days=1)\n",
    "#         soil_moisture_name = os.path.join(soil_moisture_dir, \n",
    "#                                             \"BangladeshSoilMoisture\" + soil_moisture_date.strftime(r\"%Y%m%d\") + \".tif\")\n",
    "#         soil_moisture_image = imageio.imread(soil_moisture_name)\n",
    "#         soil_moisture_image = np.clip(soil_moisture_image, 0, 1) # pseudo-mix-max-scaling!\n",
    "#         # images_dict['soil_moisture'] = imageio.imread(soil_moisture_name)\n",
    "#         images_dict['soil_moisture'] = soil_moisture_image\n",
    "\n",
    "#         #Rainfall - log min-max scaling\n",
    "#         rainfall_dates = generate_timestamps(date, preceding_rainfall_days, 1, \"3h\")\n",
    "#         preceding = []\n",
    "#         forecast = []\n",
    "#         for rd in rainfall_dates:\n",
    "#             rain_image_name = os.path.join(rainfall_dir, rd.strftime(r\"%Y%j.%H\")+\".tif\")\n",
    "#             rain_image = imageio.imread(rain_image_name)\n",
    "#             rain_image = rain_image.astype(np.float32) # De quantize\n",
    "#             rain_image /= 1000.0\n",
    "#             rain_image = normalise_rainfall(rain_image, rainfall_min, rainfall_max)\n",
    "#             if rd < date:\n",
    "#                 preceding.append(rain_image)\n",
    "#             else:\n",
    "#                 forecast.append(rain_image)\n",
    "        \n",
    "#         images_dict['preceding'] = preceding\n",
    "#         images_dict['forecast'] = forecast\n",
    "        \n",
    "#         images.append(images_dict)\n",
    "#     return images, labels\n",
    "\n",
    "\n",
    "def generate_label_images(label_name, soil_moisture_dir, topology_dir, rainfall_dir, rainfall_min, rainfall_max, preceding_rainfall_days, forecast_rainfall_days = 1):\n",
    "\n",
    "    # Get 'conditioning' images and collate into a dictionary\n",
    "    # Extract date from file path\n",
    "    images_dict = {}\n",
    "    print(label_name)\n",
    "    date_str = label_name[15:-4]\n",
    "    date = pd.to_datetime(date_str, format=r\"%Y%m%d\")\n",
    "\n",
    "    #Topology - standardisation\n",
    "    topology_name = os.path.join(topology_dir, \"BangladeshTopology.tif\")\n",
    "    # images_dict['topology'] = imageio.imread(topology_name).toTensor()\n",
    "    topology_image = imageio.imread(topology_name)\n",
    "    topology_image = standardise_locally(topology_image)\n",
    "    images_dict['topology'] = [topology_image]\n",
    "\n",
    "    #Soil Moisture - pseudo min-max scaling\n",
    "    soil_moisture_date = date - pd.Timedelta(days=1)\n",
    "    soil_moisture_name = os.path.join(soil_moisture_dir, \n",
    "                                        \"BangladeshSoilMoisture\" + soil_moisture_date.strftime(r\"%Y%m%d\") + \".tif\")\n",
    "    soil_moisture_image = imageio.imread(soil_moisture_name)\n",
    "    soil_moisture_image = np.clip(soil_moisture_image, 0, 1) # pseudo-mix-max-scaling!\n",
    "    images_dict['soil_moisture'] = [soil_moisture_image]\n",
    "\n",
    "    #Rainfall - log min-max scaling\n",
    "    rainfall_dates = generate_timestamps(date, preceding_rainfall_days, forecast_rainfall_days, \"3h\")\n",
    "    preceding = []\n",
    "    forecast = []\n",
    "    for rd in rainfall_dates:\n",
    "        rain_image_name = os.path.join(rainfall_dir, rd.strftime(r\"%Y%j.%H\")+\".tif\")\n",
    "        rain_image = imageio.imread(rain_image_name)\n",
    "        rain_image = rain_image.astype(np.float32) # De quantize\n",
    "        rain_image /= 1000.0\n",
    "        rain_image = normalise_rainfall(rain_image, rainfall_min, rainfall_max)\n",
    "        if rd < date:\n",
    "            preceding.append(rain_image)\n",
    "        else:\n",
    "            forecast.append(rain_image)\n",
    "    \n",
    "    images_dict['preceding'] = preceding\n",
    "    images_dict['forecast'] = forecast\n",
    "    \n",
    "    return images_dict"
   ]
  },
  {
   "cell_type": "code",
   "execution_count": 11,
   "metadata": {},
   "outputs": [],
   "source": [
    "#Define the transformation\n",
    "train_transform = Compose([\n",
    "    RandomHorizontalFlip(),\n",
    "    RandomVerticalFlip(),\n",
    "    RandomRotation(180),\n",
    "])"
   ]
  },
  {
   "cell_type": "code",
   "execution_count": 23,
   "metadata": {},
   "outputs": [],
   "source": [
    "class FloodPredictionDataset(Dataset):\n",
    "    def __init__(self, config_file_path, label_file_name, resolution, preceding_rainfall_days, forecast_rainfall_days, transform=None):\n",
    "        with open(config_file_path) as config_file:\n",
    "            config = json.load(config_file)\n",
    "            \n",
    "        self.rainfall_dir = f\"{config['rainfall_path']}_{resolution}_{resolution}\"\n",
    "        self.topology_dir = f\"{config['topology_path']}_{resolution}_{resolution}\"\n",
    "        self.soil_moisture_combo_dir = f\"{config['soil_moisture_combo_path']}_{resolution}_{resolution}\"\n",
    "        self.water_images_dir = f\"{config[label_file_name]}_{resolution}_{resolution}\"\n",
    "        # self.topology_dir = config['topology_path']\n",
    "        # self.soil_moisture_flood_dir = config['soil_moisture_flood_path']\n",
    "        # self.soil_moisture_non_flood_dir = config['soil_moisture_non_flood_path']\n",
    "        # self.soil_moisture_combo_dir = config['soil_moisture_combo_path']\n",
    "        # self.flood_images_dir = config['flood_file_path']\n",
    "        # self.non_flood_images_dir = config['non_flood_file_path']\n",
    "        # self.water_images_dir = config['water_images_file_path']\n",
    "        self.preceding_rainfall_days = preceding_rainfall_days\n",
    "        self.forecast_rainfall_days = forecast_rainfall_days\n",
    "        self.transform = transform\n",
    "        self.resolution = resolution\n",
    "\n",
    "        self.rainfall_min, self.rainfall_max = get_log_rainfall_stats_training(f\"{config['training_labels_path']}_{self.resolution}_{self.resolution}\", \n",
    "                                                                               self.rainfall_dir,\n",
    "                                                                               self.preceding_rainfall_days)\n",
    "        \n",
    "    def __len__(self):\n",
    "        return len(os.listdir(self.water_images_dir))\n",
    "\n",
    "    def __getitem__(self, idx):\n",
    "\n",
    "        label_name = sorted(os.listdir(self.water_images_dir))[idx]\n",
    "        print(os.path.join(self.water_images_dir, label_name))\n",
    "        label = imageio.imread(os.path.join(self.water_images_dir, label_name))\n",
    "\n",
    "        # Get images, transform each if needed, then combine into a single tensor\n",
    "        images = generate_label_images(label_name, \n",
    "                                       self.soil_moisture_combo_dir, \n",
    "                                       self.topology_dir, \n",
    "                                       self.rainfall_dir, \n",
    "                                       self.rainfall_min, \n",
    "                                       self.rainfall_max, \n",
    "                                       self.preceding_rainfall_days)\n",
    "        if self.transform:\n",
    "            images, label = self.transform(images, label)\n",
    "        \n",
    "        image_tensor = torch.stack(torch.stack(images['preceding']), \n",
    "                                   torch.stack(images['forecast']), \n",
    "                                   images['topology'], \n",
    "                                   images['soil_moisture'])\n",
    "        \n",
    "        label_tensor = label.toTensor()\n",
    "        \n",
    "        return image_tensor, label_tensor\n"
   ]
  },
  {
   "cell_type": "code",
   "execution_count": 24,
   "metadata": {},
   "outputs": [
    {
     "name": "stderr",
     "output_type": "stream",
     "text": [
      "/tmp/ipykernel_37191/2858784766.py:11: DeprecationWarning: Starting with ImageIO v3 the behavior of this function will switch to that of iio.v3.imread. To keep the current behavior (and make this warning disappear) use `import imageio.v2 as imageio` or call `imageio.v2.imread` directly.\n",
      "  rain_image = imageio.imread(rain_image_name)\n"
     ]
    },
    {
     "name": "stdout",
     "output_type": "stream",
     "text": [
      "data/BangladeshWaterImagesTraining_256_256/BangladeshWater20000918.tif\n",
      "BangladeshWater20000918.tif\n"
     ]
    },
    {
     "name": "stderr",
     "output_type": "stream",
     "text": [
      "/tmp/ipykernel_37191/1235937682.py:33: DeprecationWarning: Starting with ImageIO v3 the behavior of this function will switch to that of iio.v3.imread. To keep the current behavior (and make this warning disappear) use `import imageio.v2 as imageio` or call `imageio.v2.imread` directly.\n",
      "  label = imageio.imread(os.path.join(self.water_images_dir, label_name))\n",
      "/tmp/ipykernel_37191/87622571.py:75: DeprecationWarning: Starting with ImageIO v3 the behavior of this function will switch to that of iio.v3.imread. To keep the current behavior (and make this warning disappear) use `import imageio.v2 as imageio` or call `imageio.v2.imread` directly.\n",
      "  topology_image = imageio.imread(topology_name)\n",
      "/tmp/ipykernel_37191/87622571.py:83: DeprecationWarning: Starting with ImageIO v3 the behavior of this function will switch to that of iio.v3.imread. To keep the current behavior (and make this warning disappear) use `import imageio.v2 as imageio` or call `imageio.v2.imread` directly.\n",
      "  soil_moisture_image = imageio.imread(soil_moisture_name)\n",
      "/tmp/ipykernel_37191/87622571.py:93: DeprecationWarning: Starting with ImageIO v3 the behavior of this function will switch to that of iio.v3.imread. To keep the current behavior (and make this warning disappear) use `import imageio.v2 as imageio` or call `imageio.v2.imread` directly.\n",
      "  rain_image = imageio.imread(rain_image_name)\n"
     ]
    },
    {
     "ename": "TypeError",
     "evalue": "Functional F.horizontal_flip supports inputs of type dict_keys([<class 'torchvision.tv_tensors._image.Image'>, <class 'torch.Tensor'>, <class 'PIL.Image.Image'>, <class 'torchvision.tv_tensors._mask.Mask'>, <class 'torchvision.tv_tensors._bounding_boxes.BoundingBoxes'>, <class 'torchvision.tv_tensors._video.Video'>]), but got <class 'imageio.core.util.Array'> instead.",
     "output_type": "error",
     "traceback": [
      "\u001b[0;31m---------------------------------------------------------------------------\u001b[0m",
      "\u001b[0;31mTypeError\u001b[0m                                 Traceback (most recent call last)",
      "Cell \u001b[0;32mIn[24], line 6\u001b[0m\n\u001b[1;32m      3\u001b[0m batch_size \u001b[38;5;241m=\u001b[39m \u001b[38;5;241m16\u001b[39m\n\u001b[1;32m      4\u001b[0m training_dataloader \u001b[38;5;241m=\u001b[39m DataLoader(training_dataset, batch_size\u001b[38;5;241m=\u001b[39mbatch_size, shuffle\u001b[38;5;241m=\u001b[39m\u001b[38;5;28;01mTrue\u001b[39;00m, num_workers\u001b[38;5;241m=\u001b[39m\u001b[38;5;241m4\u001b[39m)\n\u001b[0;32m----> 6\u001b[0m \u001b[38;5;28mprint\u001b[39m(\u001b[43mtraining_dataset\u001b[49m\u001b[38;5;241;43m.\u001b[39;49m\u001b[38;5;21;43m__getitem__\u001b[39;49m\u001b[43m(\u001b[49m\u001b[38;5;241;43m0\u001b[39;49m\u001b[43m)\u001b[49m)\n",
      "Cell \u001b[0;32mIn[23], line 44\u001b[0m, in \u001b[0;36mFloodPredictionDataset.__getitem__\u001b[0;34m(self, idx)\u001b[0m\n\u001b[1;32m     36\u001b[0m images \u001b[38;5;241m=\u001b[39m generate_label_images(label_name, \n\u001b[1;32m     37\u001b[0m                                \u001b[38;5;28mself\u001b[39m\u001b[38;5;241m.\u001b[39msoil_moisture_combo_dir, \n\u001b[1;32m     38\u001b[0m                                \u001b[38;5;28mself\u001b[39m\u001b[38;5;241m.\u001b[39mtopology_dir, \n\u001b[0;32m   (...)\u001b[0m\n\u001b[1;32m     41\u001b[0m                                \u001b[38;5;28mself\u001b[39m\u001b[38;5;241m.\u001b[39mrainfall_max, \n\u001b[1;32m     42\u001b[0m                                \u001b[38;5;28mself\u001b[39m\u001b[38;5;241m.\u001b[39mpreceding_rainfall_days)\n\u001b[1;32m     43\u001b[0m \u001b[38;5;28;01mif\u001b[39;00m \u001b[38;5;28mself\u001b[39m\u001b[38;5;241m.\u001b[39mtransform:\n\u001b[0;32m---> 44\u001b[0m     images, label \u001b[38;5;241m=\u001b[39m \u001b[38;5;28;43mself\u001b[39;49m\u001b[38;5;241;43m.\u001b[39;49m\u001b[43mtransform\u001b[49m\u001b[43m(\u001b[49m\u001b[43mimages\u001b[49m\u001b[43m,\u001b[49m\u001b[43m \u001b[49m\u001b[43mlabel\u001b[49m\u001b[43m)\u001b[49m\n\u001b[1;32m     46\u001b[0m image_tensor \u001b[38;5;241m=\u001b[39m torch\u001b[38;5;241m.\u001b[39mstack(torch\u001b[38;5;241m.\u001b[39mstack(images[\u001b[38;5;124m'\u001b[39m\u001b[38;5;124mpreceding\u001b[39m\u001b[38;5;124m'\u001b[39m]), \n\u001b[1;32m     47\u001b[0m                            torch\u001b[38;5;241m.\u001b[39mstack(images[\u001b[38;5;124m'\u001b[39m\u001b[38;5;124mforecast\u001b[39m\u001b[38;5;124m'\u001b[39m]), \n\u001b[1;32m     48\u001b[0m                            images[\u001b[38;5;124m'\u001b[39m\u001b[38;5;124mtopology\u001b[39m\u001b[38;5;124m'\u001b[39m], \n\u001b[1;32m     49\u001b[0m                            images[\u001b[38;5;124m'\u001b[39m\u001b[38;5;124msoil_moisture\u001b[39m\u001b[38;5;124m'\u001b[39m])\n\u001b[1;32m     51\u001b[0m label_tensor \u001b[38;5;241m=\u001b[39m label\u001b[38;5;241m.\u001b[39mtoTensor()\n",
      "File \u001b[0;32m~/project_flood/dataloaders/custom_image_transforms.py:64\u001b[0m, in \u001b[0;36mCompose.__call__\u001b[0;34m(self, image, label)\u001b[0m\n\u001b[1;32m     62\u001b[0m \u001b[38;5;28;01mdef\u001b[39;00m \u001b[38;5;21m__call__\u001b[39m(\u001b[38;5;28mself\u001b[39m, image, label):\n\u001b[1;32m     63\u001b[0m     \u001b[38;5;28;01mfor\u001b[39;00m t \u001b[38;5;129;01min\u001b[39;00m \u001b[38;5;28mself\u001b[39m\u001b[38;5;241m.\u001b[39mtransforms:\n\u001b[0;32m---> 64\u001b[0m         image, label \u001b[38;5;241m=\u001b[39m \u001b[43mt\u001b[49m\u001b[43m(\u001b[49m\u001b[43mimage\u001b[49m\u001b[43m,\u001b[49m\u001b[43m \u001b[49m\u001b[43mlabel\u001b[49m\u001b[43m)\u001b[49m\n\u001b[1;32m     65\u001b[0m     \u001b[38;5;28;01mreturn\u001b[39;00m image, label\n",
      "File \u001b[0;32m~/project_flood/dataloaders/custom_image_transforms.py:10\u001b[0m, in \u001b[0;36mRandomHorizontalFlip.__call__\u001b[0;34m(self, images, label)\u001b[0m\n\u001b[1;32m      8\u001b[0m \u001b[38;5;28;01mdef\u001b[39;00m \u001b[38;5;21m__call__\u001b[39m(\u001b[38;5;28mself\u001b[39m, images, label):\n\u001b[1;32m      9\u001b[0m     \u001b[38;5;28;01mif\u001b[39;00m random\u001b[38;5;241m.\u001b[39mrandom() \u001b[38;5;241m>\u001b[39m \u001b[38;5;241m0.5\u001b[39m:\n\u001b[0;32m---> 10\u001b[0m         label \u001b[38;5;241m=\u001b[39m \u001b[43mF\u001b[49m\u001b[38;5;241;43m.\u001b[39;49m\u001b[43mhorizontal_flip\u001b[49m\u001b[43m(\u001b[49m\u001b[43mlabel\u001b[49m\u001b[43m)\u001b[49m\n\u001b[1;32m     11\u001b[0m         transformed_images \u001b[38;5;241m=\u001b[39m {}\n\u001b[1;32m     12\u001b[0m         \u001b[38;5;28;01mfor\u001b[39;00m key, value \u001b[38;5;129;01min\u001b[39;00m images\u001b[38;5;241m.\u001b[39mitems():\n",
      "File \u001b[0;32m~/project_flood/.venv/lib/python3.10/site-packages/torchvision/transforms/v2/functional/_geometry.py:48\u001b[0m, in \u001b[0;36mhorizontal_flip\u001b[0;34m(inpt)\u001b[0m\n\u001b[1;32m     44\u001b[0m     \u001b[38;5;28;01mreturn\u001b[39;00m horizontal_flip_image(inpt)\n\u001b[1;32m     46\u001b[0m _log_api_usage_once(horizontal_flip)\n\u001b[0;32m---> 48\u001b[0m kernel \u001b[38;5;241m=\u001b[39m \u001b[43m_get_kernel\u001b[49m\u001b[43m(\u001b[49m\u001b[43mhorizontal_flip\u001b[49m\u001b[43m,\u001b[49m\u001b[43m \u001b[49m\u001b[38;5;28;43mtype\u001b[39;49m\u001b[43m(\u001b[49m\u001b[43minpt\u001b[49m\u001b[43m)\u001b[49m\u001b[43m)\u001b[49m\n\u001b[1;32m     49\u001b[0m \u001b[38;5;28;01mreturn\u001b[39;00m kernel(inpt)\n",
      "File \u001b[0;32m~/project_flood/.venv/lib/python3.10/site-packages/torchvision/transforms/v2/functional/_utils.py:115\u001b[0m, in \u001b[0;36m_get_kernel\u001b[0;34m(functional, input_type, allow_passthrough)\u001b[0m\n\u001b[1;32m    112\u001b[0m \u001b[38;5;28;01mif\u001b[39;00m allow_passthrough:\n\u001b[1;32m    113\u001b[0m     \u001b[38;5;28;01mreturn\u001b[39;00m \u001b[38;5;28;01mlambda\u001b[39;00m inpt, \u001b[38;5;241m*\u001b[39margs, \u001b[38;5;241m*\u001b[39m\u001b[38;5;241m*\u001b[39mkwargs: inpt\n\u001b[0;32m--> 115\u001b[0m \u001b[38;5;28;01mraise\u001b[39;00m \u001b[38;5;167;01mTypeError\u001b[39;00m(\n\u001b[1;32m    116\u001b[0m     \u001b[38;5;124mf\u001b[39m\u001b[38;5;124m\"\u001b[39m\u001b[38;5;124mFunctional F.\u001b[39m\u001b[38;5;132;01m{\u001b[39;00mfunctional\u001b[38;5;241m.\u001b[39m\u001b[38;5;18m__name__\u001b[39m\u001b[38;5;132;01m}\u001b[39;00m\u001b[38;5;124m supports inputs of type \u001b[39m\u001b[38;5;132;01m{\u001b[39;00mregistry\u001b[38;5;241m.\u001b[39mkeys()\u001b[38;5;132;01m}\u001b[39;00m\u001b[38;5;124m, \u001b[39m\u001b[38;5;124m\"\u001b[39m\n\u001b[1;32m    117\u001b[0m     \u001b[38;5;124mf\u001b[39m\u001b[38;5;124m\"\u001b[39m\u001b[38;5;124mbut got \u001b[39m\u001b[38;5;132;01m{\u001b[39;00minput_type\u001b[38;5;132;01m}\u001b[39;00m\u001b[38;5;124m instead.\u001b[39m\u001b[38;5;124m\"\u001b[39m\n\u001b[1;32m    118\u001b[0m )\n",
      "\u001b[0;31mTypeError\u001b[0m: Functional F.horizontal_flip supports inputs of type dict_keys([<class 'torchvision.tv_tensors._image.Image'>, <class 'torch.Tensor'>, <class 'PIL.Image.Image'>, <class 'torchvision.tv_tensors._mask.Mask'>, <class 'torchvision.tv_tensors._bounding_boxes.BoundingBoxes'>, <class 'torchvision.tv_tensors._video.Video'>]), but got <class 'imageio.core.util.Array'> instead."
     ]
    }
   ],
   "source": [
    "from torch.utils.data import Dataset, DataLoader\n",
    "training_dataset = FloodPredictionDataset(\"static/config.json\", \"training_labels_path\", 256, 1, 1, train_transform)\n",
    "batch_size = 16\n",
    "training_dataloader = DataLoader(training_dataset, batch_size=batch_size, shuffle=True, num_workers=4)\n",
    "\n",
    "print(training_dataset.__getitem__(0))"
   ]
  }
 ],
 "metadata": {
  "kernelspec": {
   "display_name": ".venv",
   "language": "python",
   "name": "python3"
  },
  "language_info": {
   "codemirror_mode": {
    "name": "ipython",
    "version": 3
   },
   "file_extension": ".py",
   "mimetype": "text/x-python",
   "name": "python",
   "nbconvert_exporter": "python",
   "pygments_lexer": "ipython3",
   "version": "3.10.12"
  }
 },
 "nbformat": 4,
 "nbformat_minor": 2
}
