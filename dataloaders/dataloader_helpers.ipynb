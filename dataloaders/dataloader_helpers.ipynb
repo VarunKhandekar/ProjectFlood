{
 "cells": [
  {
   "cell_type": "code",
   "execution_count": 30,
   "metadata": {},
   "outputs": [],
   "source": [
    "import tarfile\n",
    "import imageio\n",
    "import torch\n",
    "import torch.nn as nn\n",
    "import torch.nn.functional as F\n",
    "import torch.optim as optim\n",
    "from torch.utils.data import Dataset, DataLoader\n",
    "from torchvision.transforms import ToTensor\n",
    "\n",
    "import numpy as np\n",
    "import pandas as pd\n",
    "import time\n",
    "import os\n",
    "os.chdir('/home/vkhandekar/project_flood')\n",
    "import json\n",
    "import random\n",
    "import matplotlib.pyplot as plt\n",
    "from matplotlib import colors\n",
    "from data_extraction.generic_helpers import *\n",
    "from dataloaders.custom_image_transforms import *"
   ]
  },
  {
   "cell_type": "code",
   "execution_count": 1,
   "metadata": {},
   "outputs": [],
   "source": [
    "# def get_rainfall_stats(rainfall_path: str):\n",
    "#     minimum, maximum = 0.0, 0.0\n",
    "    \n",
    "#     for i in os.listdir(rainfall_path):\n",
    "#         im = imageio.imread(os.path.join(rainfall_path, i))\n",
    "#         maximum = max(maximum, np.max(im))\n",
    "#         minimum = min(minimum, np.min(im))\n",
    "\n",
    "#     return minimum, maximum\n",
    "\n",
    "# min, max = get_rainfall_stats(\"data/BangladeshRainfall\")\n",
    "# print(min, max)"
   ]
  },
  {
   "cell_type": "code",
   "execution_count": 25,
   "metadata": {},
   "outputs": [
    {
     "name": "stderr",
     "output_type": "stream",
     "text": [
      "/tmp/ipykernel_28231/2858784766.py:11: DeprecationWarning: Starting with ImageIO v3 the behavior of this function will switch to that of iio.v3.imread. To keep the current behavior (and make this warning disappear) use `import imageio.v2 as imageio` or call `imageio.v2.imread` directly.\n",
      "  rain_image = imageio.imread(rain_image_name)\n"
     ]
    },
    {
     "name": "stdout",
     "output_type": "stream",
     "text": [
      "0.0 4.197201728820801\n"
     ]
    }
   ],
   "source": [
    "def get_log_rainfall_stats_training(training_path: str, rainfall_dir: str, preceding_rainfall_days: int, forecast_rainfall_days: int = 1):\n",
    "    minimum, maximum = 0.0, 0.0\n",
    "    \n",
    "    for im in os.listdir(training_path):\n",
    "        date_str = im[15:-4]\n",
    "        date = pd.to_datetime(date_str, format=r\"%Y%m%d\")\n",
    "        \n",
    "        rainfall_dates = generate_timestamps(date, preceding_rainfall_days, forecast_rainfall_days, \"3h\")\n",
    "        for rd in rainfall_dates:\n",
    "            rain_image_name = os.path.join(rainfall_dir, rd.strftime(r\"%Y%j.%H\")+\".tif\")\n",
    "            rain_image = imageio.imread(rain_image_name)\n",
    "            rain_image = rain_image.astype(np.float32) # De quantize\n",
    "            rain_image /= 1000.0\n",
    "            rain_image = np.log(rain_image + 1) #Take log\n",
    "            maximum = np.maximum(maximum, np.max(rain_image))\n",
    "            minimum = np.minimum(minimum, np.min(rain_image))\n",
    "\n",
    "    return minimum, maximum\n",
    "\n",
    "min, max = get_log_rainfall_stats_training(\"data/BangladeshWaterImagesTraining_256_256\", \"data/BangladeshRainfall_256_256\", 7)\n",
    "print(min, max)\n"
   ]
  },
  {
   "cell_type": "code",
   "execution_count": 24,
   "metadata": {},
   "outputs": [
    {
     "name": "stderr",
     "output_type": "stream",
     "text": [
      "/tmp/ipykernel_28231/3188206568.py:11: DeprecationWarning: Starting with ImageIO v3 the behavior of this function will switch to that of iio.v3.imread. To keep the current behavior (and make this warning disappear) use `import imageio.v2 as imageio` or call `imageio.v2.imread` directly.\n",
      "  rain_image = imageio.imread(rain_image_name)\n"
     ]
    },
    {
     "name": "stdout",
     "output_type": "stream",
     "text": [
      "0.0 4.197201728820801\n"
     ]
    }
   ],
   "source": [
    "min, max = get_log_rainfall_stats_training(\"data/BangladeshWaterImagesTraining_256_256\", \"data/BangladeshRainfall_256_256\", 7)\n",
    "print(min, max)"
   ]
  },
  {
   "cell_type": "code",
   "execution_count": 4,
   "metadata": {},
   "outputs": [],
   "source": [
    "\n",
    "def normalise_rainfall(image, min, max):\n",
    "    return (image - min)/(max - min)\n",
    "\n",
    "def standardise_locally(image, thres_roi = 1.0):\n",
    "    val_l = np.percentile(image, thres_roi)\n",
    "    roi = (image >= val_l)\n",
    "    mu, sigma = np.mean(image[roi]), np.std(image[roi])\n",
    "    eps = 1e-6\n",
    "    image2 = (image - mu) / (sigma + eps)\n",
    "    return image2\n",
    "    \n",
    "\n",
    "# def generate_image_label_sets(water_image_dir, soil_moisture_dir, topology_dir, rainfall_dir, rainfall_min, rainfall_max, preceding_rainfall_days):\n",
    "#     images = []\n",
    "#     labels = []\n",
    "\n",
    "#     for im in sorted(os.listdir(water_image_dir)):\n",
    "#         # Get 'label' i.e. the water inundation image\n",
    "#         label_name = os.path.join(water_image_dir, im)\n",
    "#         label = imageio.imread(label_name)\n",
    "#         labels.append(label)\n",
    "\n",
    "#         # Get 'conditioning' images and collate into a dictionary\n",
    "#         images_dict = {}\n",
    "#         date_str = im[15:-4]\n",
    "#         date = pd.to_datetime(date_str, format=r\"%Y%m%d\")\n",
    "\n",
    "#         #Topology - standardisation\n",
    "#         topology_name = os.path.join(topology_dir, \"BangladeshTopology.tif\")\n",
    "#         images_dict['topology'] = imageio.read(topology_name) #standardise: mid height regions can still be of importance\n",
    "\n",
    "#         #Soil Moisture - pseudo min-max scaling\n",
    "#         soil_moisture_date = date - pd.Timedelta(days=1)\n",
    "#         soil_moisture_name = os.path.join(soil_moisture_dir, \n",
    "#                                             \"BangladeshSoilMoisture\" + soil_moisture_date.strftime(r\"%Y%m%d\") + \".tif\")\n",
    "#         soil_moisture_image = imageio.imread(soil_moisture_name)\n",
    "#         soil_moisture_image = np.clip(soil_moisture_image, 0, 1) # pseudo-mix-max-scaling!\n",
    "#         # images_dict['soil_moisture'] = imageio.imread(soil_moisture_name)\n",
    "#         images_dict['soil_moisture'] = soil_moisture_image\n",
    "\n",
    "#         #Rainfall - log min-max scaling\n",
    "#         rainfall_dates = generate_timestamps(date, preceding_rainfall_days, 1, \"3h\")\n",
    "#         preceding = []\n",
    "#         forecast = []\n",
    "#         for rd in rainfall_dates:\n",
    "#             rain_image_name = os.path.join(rainfall_dir, rd.strftime(r\"%Y%j.%H\")+\".tif\")\n",
    "#             rain_image = imageio.imread(rain_image_name)\n",
    "#             rain_image = rain_image.astype(np.float32) # De quantize\n",
    "#             rain_image /= 1000.0\n",
    "#             rain_image = normalise_rainfall(rain_image, rainfall_min, rainfall_max)\n",
    "#             if rd < date:\n",
    "#                 preceding.append(rain_image)\n",
    "#             else:\n",
    "#                 forecast.append(rain_image)\n",
    "        \n",
    "#         images_dict['preceding'] = preceding\n",
    "#         images_dict['forecast'] = forecast\n",
    "        \n",
    "#         images.append(images_dict)\n",
    "#     return images, labels\n",
    "\n",
    "\n",
    "def generate_label_images(label_name, soil_moisture_dir, topology_dir, rainfall_dir, rainfall_min, rainfall_max, preceding_rainfall_days, forecast_rainfall_days = 1):\n",
    "\n",
    "    # Get 'conditioning' images and collate into a dictionary\n",
    "    # Extract date from file path\n",
    "    images_dict = {}\n",
    "    date_str = label_name[15:-4]\n",
    "    date = pd.to_datetime(date_str, format=r\"%Y%m%d\")\n",
    "\n",
    "    #Topology - standardisation\n",
    "    topology_name = os.path.join(topology_dir, \"BangladeshTopology.tif\")\n",
    "    # images_dict['topology'] = imageio.imread(topology_name).toTensor()\n",
    "    topology_image = imageio.imread(topology_name)\n",
    "    topology_image = standardise_locally(topology_image)\n",
    "    images_dict['topology'] = [topology_image]\n",
    "\n",
    "    #Soil Moisture - pseudo min-max scaling\n",
    "    soil_moisture_date = date - pd.Timedelta(days=1)\n",
    "    soil_moisture_name = os.path.join(soil_moisture_dir, \n",
    "                                        \"BangladeshSoilMoisture\" + soil_moisture_date.strftime(r\"%Y%m%d\") + \".tif\")\n",
    "    soil_moisture_image = imageio.imread(soil_moisture_name)\n",
    "    soil_moisture_image = np.clip(soil_moisture_image, 0, 1) # pseudo-mix-max-scaling!\n",
    "    images_dict['soil_moisture'] = [soil_moisture_image]\n",
    "\n",
    "    #Rainfall - log min-max scaling\n",
    "    rainfall_dates = generate_timestamps(date, preceding_rainfall_days, forecast_rainfall_days, \"3h\")\n",
    "    preceding = []\n",
    "    forecast = []\n",
    "    for rd in rainfall_dates:\n",
    "        rain_image_name = os.path.join(rainfall_dir, rd.strftime(r\"%Y%j.%H\")+\".tif\")\n",
    "        rain_image = imageio.imread(rain_image_name)\n",
    "        rain_image = rain_image.astype(np.float32) # De quantize\n",
    "        rain_image /= 1000.0\n",
    "        rain_image = normalise_rainfall(rain_image, rainfall_min, rainfall_max)\n",
    "        if rd < date:\n",
    "            preceding.append(rain_image)\n",
    "        else:\n",
    "            forecast.append(rain_image)\n",
    "    \n",
    "    images_dict['preceding'] = preceding\n",
    "    images_dict['forecast'] = forecast\n",
    "    \n",
    "    return images_dict"
   ]
  },
  {
   "cell_type": "code",
   "execution_count": 5,
   "metadata": {},
   "outputs": [],
   "source": [
    "#Define the transformation\n",
    "train_transform = Compose([\n",
    "    RandomHorizontalFlip(),\n",
    "    RandomVerticalFlip(),\n",
    "    RandomRotation(180),\n",
    "])"
   ]
  },
  {
   "cell_type": "code",
   "execution_count": 26,
   "metadata": {},
   "outputs": [],
   "source": [
    "class FloodPredictionDataset(Dataset):\n",
    "    def __init__(self, config_file_path, label_file_name, resolution, preceding_rainfall_days, forecast_rainfall_days, transform=None):\n",
    "        with open(config_file_path) as config_file:\n",
    "            config = json.load(config_file)\n",
    "            \n",
    "        self.rainfall_dir = f\"{config['rainfall_path']}_{resolution}_{resolution}\"\n",
    "        self.topology_dir = f\"{config['topology_path']}_{resolution}_{resolution}\"\n",
    "        self.soil_moisture_combo_dir = f\"{config['soil_moisture_combo_path']}_{resolution}_{resolution}\"\n",
    "        self.water_images_dir = f\"{config[label_file_name]}_{resolution}_{resolution}\"\n",
    "        # self.topology_dir = config['topology_path']\n",
    "        # self.soil_moisture_flood_dir = config['soil_moisture_flood_path']\n",
    "        # self.soil_moisture_non_flood_dir = config['soil_moisture_non_flood_path']\n",
    "        # self.soil_moisture_combo_dir = config['soil_moisture_combo_path']\n",
    "        # self.flood_images_dir = config['flood_file_path']\n",
    "        # self.non_flood_images_dir = config['non_flood_file_path']\n",
    "        # self.water_images_dir = config['water_images_file_path']\n",
    "        self.preceding_rainfall_days = preceding_rainfall_days\n",
    "        self.forecast_rainfall_days = forecast_rainfall_days\n",
    "        self.transform = transform\n",
    "        self.resolution = resolution\n",
    "\n",
    "        self.rainfall_min, self.rainfall_max = get_log_rainfall_stats_training(f\"{config['training_labels_path']}_{self.resolution}_{self.resolution}\", \n",
    "                                                                               self.rainfall_dir,\n",
    "                                                                               self.preceding_rainfall_days)\n",
    "        \n",
    "    def __len__(self):\n",
    "        return len(os.listdir(self.water_images_dir))\n",
    "\n",
    "    def __getitem__(self, idx):\n",
    "\n",
    "        label_name = sorted(os.listdir(self.water_images_dir))[idx]\n",
    "        label = imageio.imread(label_name)\n",
    "\n",
    "        # Get images, transform each if needed, then combine into a single tensor\n",
    "        images = generate_label_images(idx, \n",
    "                                       self.soil_moisture_combo_dir, \n",
    "                                       self.topology_dir, \n",
    "                                       self.rainfall_dir, \n",
    "                                       self.rainfall_min, \n",
    "                                       self.rainfall_max, \n",
    "                                       self.preceding_rainfall_days)\n",
    "        if self.transform:\n",
    "            images, label = self.transform(images, label)\n",
    "        \n",
    "        image_tensor = torch.stack(torch.stack(images['preceding']), \n",
    "                                   torch.stack(images['forecast']), \n",
    "                                   images['topology'], \n",
    "                                   images['soil_moisture'])\n",
    "        \n",
    "        label_tensor = label.toTensor()\n",
    "        \n",
    "        return image_tensor, label_tensor\n"
   ]
  },
  {
   "cell_type": "code",
   "execution_count": 31,
   "metadata": {},
   "outputs": [
    {
     "name": "stderr",
     "output_type": "stream",
     "text": [
      "/tmp/ipykernel_28231/2858784766.py:11: DeprecationWarning: Starting with ImageIO v3 the behavior of this function will switch to that of iio.v3.imread. To keep the current behavior (and make this warning disappear) use `import imageio.v2 as imageio` or call `imageio.v2.imread` directly.\n",
      "  rain_image = imageio.imread(rain_image_name)\n"
     ]
    }
   ],
   "source": [
    "from torch.utils.data import Dataset, DataLoader\n",
    "training_dataset = FloodPredictionDataset(\"static/config.json\", \"training_labels_path\", 256, 1, 1, train_transform)\n",
    "batch_size = 16\n",
    "training_dataloader = DataLoader(training_dataset, batch_size=batch_size, shuffle=True, num_workers=4)"
   ]
  }
 ],
 "metadata": {
  "kernelspec": {
   "display_name": ".venv",
   "language": "python",
   "name": "python3"
  },
  "language_info": {
   "codemirror_mode": {
    "name": "ipython",
    "version": 3
   },
   "file_extension": ".py",
   "mimetype": "text/x-python",
   "name": "python",
   "nbconvert_exporter": "python",
   "pygments_lexer": "ipython3",
   "version": "3.10.12"
  }
 },
 "nbformat": 4,
 "nbformat_minor": 2
}
