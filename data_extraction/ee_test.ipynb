{
 "cells": [
  {
   "cell_type": "code",
   "execution_count": 1,
   "id": "b9a42c62",
   "metadata": {
    "metadata": {}
   },
   "outputs": [
    {
     "name": "stdout",
     "output_type": "stream",
     "text": [
      "/home/vkhandekar/project_flood/data_extraction\n"
     ]
    }
   ],
   "source": [
    "# import ipyleaflet\n",
    "import geopandas as gpd\n",
    "from shapely.geometry import box\n",
    "import os\n",
    "print(os.getcwd())\n",
    "os.chdir(\"/home/vkhandekar/project_flood\")\n",
    "# import rioxarray\n",
    "# from pathlib import Path\n",
    "import ee\n",
    "# import geemap.core as geemap\n",
    "import geemap\n",
    "import xarray as xr\n",
    "import cdsapi\n",
    "import zipfile\n",
    "import json\n",
    "import pandas as pd\n",
    "import numpy as np\n",
    "import rasterio\n",
    "from rasterio.mask import mask\n",
    "import geopandas as gpd\n",
    "from shapely.geometry import Polygon, mapping, box\n",
    "import matplotlib.pyplot as plt\n",
    "from osgeo import gdal\n",
    "from scipy.ndimage import zoom\n",
    "from pydrive.auth import GoogleAuth\n",
    "from pydrive.drive import GoogleDrive\n",
    "# import cfgrib\n"
   ]
  },
  {
   "cell_type": "code",
   "execution_count": 5,
   "id": "4c57898f",
   "metadata": {},
   "outputs": [
    {
     "data": {
      "text/html": [
       "\n",
       "            <style>\n",
       "                .geemap-dark {\n",
       "                    --jp-widgets-color: white;\n",
       "                    --jp-widgets-label-color: white;\n",
       "                    --jp-ui-font-color1: white;\n",
       "                    --jp-layout-color2: #454545;\n",
       "                    background-color: #383838;\n",
       "                }\n",
       "\n",
       "                .geemap-dark .jupyter-button {\n",
       "                    --jp-layout-color3: #383838;\n",
       "                }\n",
       "\n",
       "                .geemap-colab {\n",
       "                    background-color: var(--colab-primary-surface-color, white);\n",
       "                }\n",
       "\n",
       "                .geemap-colab .jupyter-button {\n",
       "                    --jp-layout-color3: var(--colab-primary-surface-color, white);\n",
       "                }\n",
       "            </style>\n",
       "            "
      ],
      "text/plain": [
       "<IPython.core.display.HTML object>"
      ]
     },
     "metadata": {},
     "output_type": "display_data"
    },
    {
     "name": "stdout",
     "output_type": "stream",
     "text": [
      "Hello from the Earth Engine servers!\n"
     ]
    }
   ],
   "source": [
    "ee.Authenticate()\n",
    "ee.Initialize(project='ee-varunkhandekar')\n",
    "print(ee.String('Hello from the Earth Engine servers!').getInfo())"
   ]
  },
  {
   "cell_type": "code",
   "execution_count": 6,
   "id": "ab11e447",
   "metadata": {},
   "outputs": [
    {
     "data": {
      "text/html": [
       "\n",
       "            <style>\n",
       "                .geemap-dark {\n",
       "                    --jp-widgets-color: white;\n",
       "                    --jp-widgets-label-color: white;\n",
       "                    --jp-ui-font-color1: white;\n",
       "                    --jp-layout-color2: #454545;\n",
       "                    background-color: #383838;\n",
       "                }\n",
       "\n",
       "                .geemap-dark .jupyter-button {\n",
       "                    --jp-layout-color3: #383838;\n",
       "                }\n",
       "\n",
       "                .geemap-colab {\n",
       "                    background-color: var(--colab-primary-surface-color, white);\n",
       "                }\n",
       "\n",
       "                .geemap-colab .jupyter-button {\n",
       "                    --jp-layout-color3: var(--colab-primary-surface-color, white);\n",
       "                }\n",
       "            </style>\n",
       "            "
      ],
      "text/plain": [
       "<IPython.core.display.HTML object>"
      ]
     },
     "metadata": {},
     "output_type": "display_data"
    },
    {
     "name": "stdout",
     "output_type": "stream",
     "text": [
      "(88.084422, 20.670883, 92.672721, 26.446526)\n",
      "{'geodesic': False, 'type': 'Polygon', 'coordinates': [[[88.084422, 20.670882999999975], [92.672721, 20.670882999999975], [92.672721, 26.446526000000024], [88.084422, 26.446526000000024], [88.084422, 20.670882999999975]]]}\n"
     ]
    },
    {
     "data": {
      "text/plain": [
       "[{'type': 'Polygon',\n",
       "  'coordinates': (((92.672721, 20.670883),\n",
       "    (92.672721, 26.446526),\n",
       "    (88.084422, 26.446526),\n",
       "    (88.084422, 20.670883),\n",
       "    (92.672721, 20.670883)),)}]"
      ]
     },
     "execution_count": 6,
     "metadata": {},
     "output_type": "execute_result"
    }
   ],
   "source": [
    "shapefile_path = 'static/bangladesh-outline_68.geojson'\n",
    "# 'bangladesh-detailed-boundary_858.geojson' 'bangladesh-outline_68.geojson'\n",
    "\n",
    "\n",
    "with open(shapefile_path, 'r') as file:\n",
    "    geojson_data = json.load(file)\n",
    "\n",
    "# Extract polygon coordinates\n",
    "polygon_coordinates = []\n",
    "\n",
    "for feature in geojson_data['features']:\n",
    "    if feature['geometry']['type'] == 'Polygon':\n",
    "        polygon_coordinates.append(feature['geometry']['coordinates'])\n",
    "    elif feature['geometry']['type'] == 'MultiPolygon':\n",
    "        for polygon in feature['geometry']['coordinates']:\n",
    "            polygon_coordinates.append(polygon)\n",
    "\n",
    "ee_geometry = ee.Geometry.MultiPolygon(polygon_coordinates)\n",
    "# Create the polygon\n",
    "polygon = Polygon(polygon_coordinates[0][0])\n",
    "\n",
    "# print(ee_geometry.getInfo()['coordinates'])\n",
    "# print(polygon_coordinates[0])\n",
    "# print(ee_geometry.getInfo()['coordinates']==polygon_coordinates[0])\n",
    "print(polygon.bounds)\n",
    "print(ee_geometry.bounds().getInfo())\n",
    "bbox_ee = ee.Geometry.BBox(*polygon.bounds)\n",
    "\n",
    "bbox = box(*polygon.bounds)\n",
    "\n",
    "geojson = [mapping(bbox)]\n",
    "geojson"
   ]
  },
  {
   "cell_type": "code",
   "execution_count": 139,
   "id": "c5ebfeae",
   "metadata": {},
   "outputs": [
    {
     "data": {
      "text/html": [
       "\n",
       "            <style>\n",
       "                .geemap-dark {\n",
       "                    --jp-widgets-color: white;\n",
       "                    --jp-widgets-label-color: white;\n",
       "                    --jp-ui-font-color1: white;\n",
       "                    --jp-layout-color2: #454545;\n",
       "                    background-color: #383838;\n",
       "                }\n",
       "\n",
       "                .geemap-dark .jupyter-button {\n",
       "                    --jp-layout-color3: #383838;\n",
       "                }\n",
       "\n",
       "                .geemap-colab {\n",
       "                    background-color: var(--colab-primary-surface-color, white);\n",
       "                }\n",
       "\n",
       "                .geemap-colab .jupyter-button {\n",
       "                    --jp-layout-color3: var(--colab-primary-surface-color, white);\n",
       "                }\n",
       "            </style>\n",
       "            "
      ],
      "text/plain": [
       "<IPython.core.display.HTML object>"
      ]
     },
     "metadata": {},
     "output_type": "display_data"
    },
    {
     "name": "stdout",
     "output_type": "stream",
     "text": [
      "[[[0. 0. 0. ... 0. 0. 0.]\n",
      "  [0. 0. 0. ... 0. 0. 0.]\n",
      "  [0. 0. 0. ... 0. 0. 0.]\n",
      "  ...\n",
      "  [0. 0. 0. ... 0. 0. 0.]\n",
      "  [0. 0. 0. ... 0. 0. 0.]\n",
      "  [0. 0. 0. ... 0. 0. 0.]]]\n",
      "float32\n",
      "0.7450695\n",
      "0.00051842246\n",
      "0.0\n",
      "5259212\n",
      "(1, 2573, 2044)\n"
     ]
    }
   ],
   "source": [
    "# precipitation_upsampled\n",
    "# ERA5-LAND\n",
    "# BangladeshTopology\n",
    "# BangladeshFloodedCombo_MASTER\n",
    "# BangladeshFloodedCombo_vF\n",
    "with rasterio.open(\"precipitation_upsampled.tif\") as src:\n",
    "    dataset = src.read()\n",
    "\n",
    "print(dataset)\n",
    "print(dataset.dtype)\n",
    "print(dataset.max())\n",
    "print(dataset.mean())\n",
    "print(dataset.min())\n",
    "print(dataset.size)\n",
    "print(dataset.shape)"
   ]
  },
  {
   "cell_type": "markdown",
   "id": "4774e728",
   "metadata": {},
   "source": [
    "Initial Exploration with Landsat Dataset"
   ]
  },
  {
   "cell_type": "code",
   "execution_count": null,
   "id": "ef23c987",
   "metadata": {},
   "outputs": [],
   "source": [
    "# Load an image.\n",
    "image = ee.Image('LANDSAT/LC08/C02/T1_TOA/LC08_044034_20140318')\n",
    "\n",
    "\n",
    "point = ee.Geometry.Point(-122.1899, 37.5010)\n",
    "\n",
    "# Get the pixel values at the defined point\n",
    "pixel_values = image.reduceRegion(\n",
    "    reducer=ee.Reducer.first(),\n",
    "    geometry=point,\n",
    "    scale=30\n",
    ")\n",
    "\n",
    "# Print the pixel values to the console\n",
    "print(pixel_values.getInfo())\n"
   ]
  },
  {
   "cell_type": "code",
   "execution_count": null,
   "id": "40fdd7f7",
   "metadata": {},
   "outputs": [],
   "source": [
    "\n",
    "# Extract individual bands\n",
    "band5 = image.select('B5')\n",
    "band4 = image.select('B4')\n",
    "band3 = image.select('B3')\n",
    "\n",
    "# Apply a color palette to the bands\n",
    "band5_colored = band5.visualize(min=0, max=0.5, palette=['#add8e6'])  # Light blue\n",
    "band4_colored = band4.visualize(min=0, max=0.5, palette=['#00008b'])  # Dark blue\n",
    "band3_colored = band3.visualize(min=0, max=0.5, palette=['#008b8b'])  # Cyan as an example\n",
    "\n",
    "# Combine the colored bands into an RGB image\n",
    "rgb_image = ee.ImageCollection([band5_colored, band4_colored, band3_colored]).mosaic()\n",
    "\n",
    "# Define a map centered on San Francisco Bay.\n",
    "map_l8 = geemap.Map(center=[37.5010, -122.1899], zoom=10)\n",
    "\n",
    "# Add the image layer to the map and display it.\n",
    "map_l8.addLayer(rgb_image, {}, 'Custom Color Composite')\n",
    "map_l8"
   ]
  },
  {
   "cell_type": "code",
   "execution_count": null,
   "id": "dfeabd80",
   "metadata": {
    "metadata": {}
   },
   "outputs": [],
   "source": [
    "Map = geemap.Map()\n",
    "\n",
    "image = ee.Image('LANDSAT/LC08/C02/T1_TOA/LC08_044034_20140318').select(\n",
    "    ['B5', 'B4', 'B3']\n",
    ")\n",
    "\n",
    "vis_params = {'min': 0, 'max': 0.5, 'gamma': [0.95, 1.1, 1]}\n",
    "\n",
    "region = ee.Geometry.BBox(-122.5955, 37.5339, -122.0982, 37.8252) #bottom left to top right\n",
    "clipped_image = image.clip(region) #clipping event to bounding box\n",
    "\n",
    "\n",
    "Map.centerObject(image, 8)\n",
    "Map.addLayer(image, vis_params, 'Landsat')\n",
    "# Map.addLayer(clipped_image, vis_params, 'Landsat')\n",
    "Map"
   ]
  },
  {
   "cell_type": "code",
   "execution_count": null,
   "id": "4e1c86db",
   "metadata": {
    "metadata": {}
   },
   "outputs": [],
   "source": [
    "\n",
    "fc = ee.FeatureCollection(region)\n",
    "style = {'color': 'ffff00ff', 'fillColor': '00000000'}\n",
    "Map.addLayer(fc.style(**style), {}, 'ROI')\n",
    "Map"
   ]
  },
  {
   "cell_type": "code",
   "execution_count": null,
   "id": "3b484894",
   "metadata": {
    "metadata": {}
   },
   "outputs": [],
   "source": [
    "geemap.ee_export_image(image, filename=\"landsat.tif\", scale=30, region=region)"
   ]
  },
  {
   "cell_type": "code",
   "execution_count": null,
   "id": "900d05b4",
   "metadata": {},
   "outputs": [],
   "source": [
    "# # Load the shapefile\n",
    "# shapefile_path = 'hybas_as_lev05_v1c.shp'\n",
    "# gdf = gpd.read_file(shapefile_path)\n",
    "\n",
    "# # Define the bounding box (xmin, ymin, xmax, ymax)\n",
    "# bbox = box(xmin, ymin, xmax, ymax)\n",
    "\n",
    "# # Create a GeoDataFrame for the bounding box\n",
    "# bbox_gdf = gpd.GeoDataFrame([[1]], geometry=[bbox], crs=gdf.crs)\n",
    "\n",
    "# # Find the polygons that intersect with the bounding box\n",
    "# intersecting_polygons = gdf[gdf.intersects(bbox)]\n",
    "\n",
    "# # Output the result\n",
    "# print(intersecting_polygons)\n",
    "\n",
    "# # Optionally, save the intersecting polygons to a new shapefile\n",
    "# intersecting_polygons.to_file('intersecting_polygons.shp')\n",
    "\n"
   ]
  },
  {
   "cell_type": "markdown",
   "id": "321f2ee9",
   "metadata": {},
   "source": [
    "Permanent Water Overlay"
   ]
  },
  {
   "cell_type": "code",
   "execution_count": null,
   "id": "ac9d4b9a",
   "metadata": {},
   "outputs": [],
   "source": [
    "Map = geemap.Map()\n",
    "\n",
    "# Load the dataset and filter for the month of December\n",
    "dataset = ee.ImageCollection('JRC/GSW1_4/MonthlyRecurrence')\n",
    "im = ee.Image(dataset.filterMetadata('month', 'equals', 12).first())\n",
    "print(im.getInfo())\n",
    "\n",
    "occurrence_band = im.select('monthly_recurrence')\n",
    "\n",
    "# Apply a threshold to filter values greater than x%\n",
    "filtered_occurrence = occurrence_band.gt(25) #boolean output\n",
    "print(filtered_occurrence.getInfo())\n",
    "\n",
    "point = ee.Geometry.Point(89.97, 23.65)\n",
    "\n",
    "# Get the pixel values at the defined point\n",
    "pixel_values = filtered_occurrence.reduceRegion(\n",
    "    reducer=ee.Reducer.first(),\n",
    "    geometry=point,\n",
    "    scale=30\n",
    ")\n",
    "# Print the pixel values to the console\n",
    "print(pixel_values.getInfo())\n",
    "\n",
    "# Set visualization parameters\n",
    "visualization = {\n",
    "    'min': 0.0,\n",
    "    'max': 100.0,\n",
    "    'palette': ['blue']\n",
    "}\n",
    "\n",
    "# Add the filtered layer to the map\n",
    "Map.setCenter(89.42, 24.23, 9)\n",
    "Map.addLayer(filtered_occurrence.selfMask(), visualization, 'Monthly Recurrence')\n",
    "\n",
    "\n",
    "fc = ee.FeatureCollection(ee_geometry)\n",
    "style = {'color': 'ffff00ff', 'fillColor': '00000000'}\n",
    "Map.addLayer(fc.style(**style), {}, 'ROI')\n",
    "\n",
    "# Display the map\n",
    "Map"
   ]
  },
  {
   "cell_type": "markdown",
   "id": "685526f5",
   "metadata": {},
   "source": [
    "Topology"
   ]
  },
  {
   "cell_type": "code",
   "execution_count": 7,
   "id": "8e13eaff",
   "metadata": {},
   "outputs": [
    {
     "data": {
      "text/html": [
       "\n",
       "            <style>\n",
       "                .geemap-dark {\n",
       "                    --jp-widgets-color: white;\n",
       "                    --jp-widgets-label-color: white;\n",
       "                    --jp-ui-font-color1: white;\n",
       "                    --jp-layout-color2: #454545;\n",
       "                    background-color: #383838;\n",
       "                }\n",
       "\n",
       "                .geemap-dark .jupyter-button {\n",
       "                    --jp-layout-color3: #383838;\n",
       "                }\n",
       "\n",
       "                .geemap-colab {\n",
       "                    background-color: var(--colab-primary-surface-color, white);\n",
       "                }\n",
       "\n",
       "                .geemap-colab .jupyter-button {\n",
       "                    --jp-layout-color3: var(--colab-primary-surface-color, white);\n",
       "                }\n",
       "            </style>\n",
       "            "
      ],
      "text/plain": [
       "<IPython.core.display.HTML object>"
      ]
     },
     "metadata": {},
     "output_type": "display_data"
    },
    {
     "name": "stdout",
     "output_type": "stream",
     "text": [
      "{'type': 'Image', 'bands': [{'id': 'elevation', 'data_type': {'type': 'PixelType', 'precision': 'int', 'min': -32768, 'max': 32767}, 'dimensions': [1288801, 421201], 'crs': 'EPSG:4326', 'crs_transform': [0.0002777777777777778, 0, -179.0001388888889, 0, -0.0002777777777777778, 61.00013888888889]}], 'version': 1641990521971299, 'id': 'NASA/NASADEM_HGT/001', 'properties': {'date_range': [950227200000, 951177600000], 'period': 0, 'type_name': 'Image', 'keywords': ['dem', 'elevation', 'geophysical', 'nasa', 'nasadem', 'srtm', 'topography', 'usgs'], 'thumb': 'https://mw1.google.com/ges/dd/images/NASADEM_HGT_001_thumb.png', 'system:time_end': 951177600000, 'description': '<p>NASADEM is a reprocessing of STRM data, with improved accuracy by incorporating auxiliary data\\nfrom ASTER GDEM, ICESat GLAS, and PRISM datasets.</p><p>The most significant processing improvements involve void reduction through improved\\nphase unwrapping and using ICESat GLAS data for control.</p><p>Documentation:</p><ul><li><a href=\"https://lpdaac.usgs.gov/documents/592/NASADEM_User_Guide_V1.pdf\">User&#39;s Guide</a></li></ul><p><b>Provider: <a href=\"https://cmr.earthdata.nasa.gov/search/concepts/C1546314043-LPDAAC_ECS.html\">NASA / USGS / JPL-Caltech</a></b><br><p><b>Bands</b><table class=\"eecat\"><tr><th scope=\"col\">Name</th><th scope=\"col\">Description</th></tr><tr><td>elevation</td><td><p>Integer heights in the merged void-free DEM files are relative to the\\nEGM96 geoid (whereas the floating-point heights in the SRTM-only DEM files are relative to\\nthe WGS84 ellipsoid).</p></td></tr><tr><td>num</td><td><p>Index indicating the data source and the number of source scenes.</p><ul><li>0: Water in corrected SRTM water body data</li><li>1-23: SRTM 1-23 (max known is 23)</li><li>41-94: PRISM 1-50 (54 max polar, 37 max elsewhere)</li><li>110-160: GDEM3 (saturated at 50)</li><li>170-220: GDEM2 (saturated at 50)</li><li>231: SRTMv3 from GDEM3</li><li>232: SRTMv2 from GDEM3</li><li>233: SRTMv2 from GDEM2</li><li>234: SRTM-with-NGA-fill from GDEM2</li><li>241: NED from GDEM2 (USA)</li><li>242: NED from GDEM3 (USA)</li><li>243: CDED from GDEM2 (Canada)</li><li>244: CDED from GDEM3 (Canada)</li><li>245: Alaska from GDEM2 (Alaska)</li><li>246: Alaska from GDEM3 (Alaska)</li><li>250: Interpolation</li><li>251: Quad edge averaged where two neighboring quads disagreed (generally a GDEM error)</li><li>255: ERROR (if NUM IS MISSING - none known to exist)</li></ul></td></tr><tr><td>swb</td><td><p>Updated SRTM water body data</p><ul><li>0: Land</li><li>255: Water</li></ul></td></tr></table><p><b>Terms of Use</b><br><p>Unless otherwise noted, all NASA-produced data may be used for any purpose without\\nprior permission. For more information and exceptions visit the\\n<a href=\"https://earthdata.nasa.gov/collaborate/open-data-services-and-software/data-information-policy\">NASA Data &amp; Information Policy page</a>.</p><p><b>Suggested citation(s)</b><ul><li><p>NASA JPL (2020). NASADEM Merged DEM Global 1 arc second V001 [Data set]. NASA EOSDIS Land\\nProcesses DAAC. Accessed 2020-12-30 from https://doi.org/10.5067/MEaSUREs/NASADEM/NASADEM_HGT.001</p></li></ul><style>\\n  table.eecat {\\n  border: 1px solid black;\\n  border-collapse: collapse;\\n  font-size: 13px;\\n  }\\n  table.eecat td, tr, th {\\n  text-align: left; vertical-align: top;\\n  border: 1px solid gray; padding: 3px;\\n  }\\n  td.nobreak { white-space: nowrap; }\\n</style>', 'source_tags': ['nasa', 'usgs'], 'visualization_0_max': '6000.0', 'provider_url': 'https://cmr.earthdata.nasa.gov/search/concepts/C1546314043-LPDAAC_ECS.html', 'title': 'NASADEM: NASA NASADEM Digital Elevation 30m', 'visualization_0_gamma': '1.6', 'sample': 'https://mw1.google.com/ges/dd/images/NASADEM_HGT_001_sample.png', 'tags': ['dem', 'elevation', 'geophysical', 'nasa', 'nasadem', 'srtm', 'topography', 'usgs'], 'system:time_start': 950227200000, 'product_tags': ['nasadem', 'srtm', 'elevation', 'topography', 'dem', 'geophysical'], 'provider': 'NASA / USGS / JPL-Caltech', 'system:footprint': {'type': 'LinearRing', 'coordinates': [[-144.73828125306034, -56.000278238368686], [-105.23242185112113, -56.00027824764527], [-37.40820312968272, -56.00027826661891], [19.752929728747688, -56.00027822905273], [77.08886723064317, -56.00027829591546], [142.6406250064462, -56.000278285607], [179.00049757955398, -56.000277936790376], [179.00057392307653, 61.000277909079024], [138.62011709218748, 61.000278275388574], [90.02441401141857, 61.000278237489134], [18.17968756388447, 61.00027824817684], [-42.127929588347705, 61.000278252741154], [-86.17871099251512, 61.00027829214559], [-152.25488278218177, 61.000278219313], [-179.00057392307653, 61.000277909079024], [-179.00049757955398, -56.000277936790376], [-144.73828125306034, -56.000278238368686]]}, 'visualization_0_min': '0.0', 'system:asset_size': 139000852947, 'visualization_0_name': 'Elevation', 'visualization_0_bands': 'elevation'}}\n",
      "{'type': 'Polygon', 'coordinates': [[[92.672721, 22.041239], [92.146035, 23.627499], [91.869928, 23.624346], [91.706475, 22.985264], [91.158963, 23.503527], [91.46773, 24.072639], [91.915093, 24.130414], [92.376202, 24.976693], [91.799596, 25.147432], [90.872211, 25.132601], [89.920693, 25.26975], [89.832481, 25.965082], [89.355094, 26.014407], [88.563049, 26.446526], [88.209789, 25.768066], [88.931554, 25.238692], [88.306373, 24.866079], [88.084422, 24.501657], [88.69994, 24.233715], [88.52977, 23.631142], [88.876312, 22.879146], [89.031961, 22.055708], [89.418863, 21.966179], [89.70205, 21.857116], [89.847467, 22.039146], [90.272971, 21.836368], [90.586957, 22.392794], [90.496006, 22.805017], [91.417087, 22.765019], [91.834891, 22.182936], [92.025215, 21.70157], [92.082886, 21.192195], [92.368554, 20.670883], [92.303234, 21.475485], [92.652257, 21.324048], [92.672721, 22.041239]]]}\n"
     ]
    },
    {
     "data": {
      "application/vnd.jupyter.widget-view+json": {
       "model_id": "6c074a3e074c44488d9e65a6e5d43eac",
       "version_major": 2,
       "version_minor": 0
      },
      "text/plain": [
       "Map(center=[24.23, 89.42], controls=(WidgetControl(options=['position', 'transparent_bg'], widget=SearchDataGU…"
      ]
     },
     "execution_count": 7,
     "metadata": {},
     "output_type": "execute_result"
    }
   ],
   "source": [
    "# \"NASA/NASADEM_HGT/001\"\n",
    "\n",
    "Map = geemap.Map()\n",
    "\n",
    "# Load the dataset and filter for the month of December\n",
    "# dataset = ee.ImageCollection('JRC/GSW1_4/MonthlyRecurrence')\n",
    "bangladeshTopology = ee.Image(\"NASA/NASADEM_HGT/001\").select(\"elevation\")\n",
    "print(bangladeshTopology.getInfo())\n",
    "\n",
    "# Set visualization parameters\n",
    "visualization = {\n",
    "    'min': 0.0,\n",
    "    'max': 2000.0,\n",
    "}\n",
    "\n",
    "# Replace all no data values with 0\n",
    "bangladeshTopology = bangladeshTopology.unmask(0)\n",
    "\n",
    "# kernel = ee.Kernel.gaussian(radius=1, sigma=1, units='pixels', normalize=True)\n",
    "# smoothed_im = im.convolve(kernel)\n",
    "\n",
    "# background = ee.Image(1);\n",
    "# Map.addLayer(background, {min: 0, max: 1});\n",
    "# print(background.getInfo())\n",
    "\n",
    "# Add the filtered layer to the map\n",
    "Map.setCenter(89.42, 24.23, 9)\n",
    "# Map.addLayer(smoothed_im, visualization, 'Elevation')\n",
    "Map.addLayer(bangladeshTopology, visualization, 'Elevation')\n",
    "\n",
    "\n",
    "print(ee_geometry.getInfo())\n",
    "\n",
    "fc = ee.FeatureCollection(ee_geometry)\n",
    "style = {'color': 'ffff00ff', 'fillColor': '00000000'}\n",
    "Map.addLayer(fc.style(**style), {}, 'ROI')\n",
    "\n",
    "# Display the map\n",
    "Map"
   ]
  },
  {
   "cell_type": "code",
   "execution_count": 10,
   "id": "ecd210ba",
   "metadata": {},
   "outputs": [
    {
     "data": {
      "text/html": [
       "\n",
       "            <style>\n",
       "                .geemap-dark {\n",
       "                    --jp-widgets-color: white;\n",
       "                    --jp-widgets-label-color: white;\n",
       "                    --jp-ui-font-color1: white;\n",
       "                    --jp-layout-color2: #454545;\n",
       "                    background-color: #383838;\n",
       "                }\n",
       "\n",
       "                .geemap-dark .jupyter-button {\n",
       "                    --jp-layout-color3: #383838;\n",
       "                }\n",
       "\n",
       "                .geemap-colab {\n",
       "                    background-color: var(--colab-primary-surface-color, white);\n",
       "                }\n",
       "\n",
       "                .geemap-colab .jupyter-button {\n",
       "                    --jp-layout-color3: var(--colab-primary-surface-color, white);\n",
       "                }\n",
       "            </style>\n",
       "            "
      ],
      "text/plain": [
       "<IPython.core.display.HTML object>"
      ]
     },
     "metadata": {},
     "output_type": "display_data"
    }
   ],
   "source": [
    "export_task = ee.batch.Export.image.toDrive(\n",
    "    image=bangladeshTopology,\n",
    "    description='BangladeshTopology',\n",
    "    folder='Topology',\n",
    "    fileNamePrefix='BangladeshTopology_small',\n",
    "    region=bbox_ee,\n",
    "    crs='EPSG:4326',\n",
    "    # scale=250,  # Adjust the scale as needed\n",
    "    crsTransform=[0.0226492347869873, 0.0, 88.08430518433968, 0.0, -0.0226492347869873, 26.44864775268901],\n",
    "    maxPixels=1e13  # Adjust maxPixels as needed\n",
    ")\n",
    "export_task.start()"
   ]
  },
  {
   "cell_type": "code",
   "execution_count": null,
   "id": "b73c5b6d",
   "metadata": {},
   "outputs": [],
   "source": [
    "bangladeshTopology = bangladeshTopology.resample(mode=\"bilinear\")\n",
    "export_task = ee.batch.Export.image.toDrive(\n",
    "    image=bangladeshTopology,\n",
    "    description='BangladeshTopology_bilinear',\n",
    "    folder='Topology',\n",
    "    fileNamePrefix='BangladeshTopology_bilinear',\n",
    "    region=bbox_ee,\n",
    "    crs='EPSG:4326',\n",
    "    # scale=250,  # Adjust the scale as needed\n",
    "    crsTransform=[0.002245788210298804, 0.0, 88.08430518433968, 0.0, -0.002245788210298804, 26.44864775268901],\n",
    "    maxPixels=1e13  # Adjust maxPixels as needed\n",
    ")\n",
    "export_task.start()"
   ]
  },
  {
   "cell_type": "code",
   "execution_count": null,
   "id": "e21dbb5a",
   "metadata": {},
   "outputs": [],
   "source": [
    "export_task.status()"
   ]
  },
  {
   "cell_type": "code",
   "execution_count": null,
   "id": "8469d85f",
   "metadata": {},
   "outputs": [],
   "source": [
    "with rasterio.open('BangladeshTopology_bilinear.tif') as src:\n",
    "    # Read the existing data\n",
    "    data = src.read()\n",
    "    \n",
    "data.max()"
   ]
  },
  {
   "cell_type": "code",
   "execution_count": null,
   "id": "09f302b3",
   "metadata": {},
   "outputs": [],
   "source": [
    "with rasterio.open('BangladeshTopology.tif') as src:\n",
    "    # Read the existing data\n",
    "    data = src.read()\n",
    "    \n",
    "data.max()"
   ]
  },
  {
   "cell_type": "markdown",
   "id": "6a4a1f92",
   "metadata": {},
   "source": [
    "Mosaicing Overlapping Flood Events"
   ]
  },
  {
   "cell_type": "code",
   "execution_count": 48,
   "id": "86d9f012",
   "metadata": {},
   "outputs": [
    {
     "data": {
      "text/html": [
       "\n",
       "            <style>\n",
       "                .geemap-dark {\n",
       "                    --jp-widgets-color: white;\n",
       "                    --jp-widgets-label-color: white;\n",
       "                    --jp-ui-font-color1: white;\n",
       "                    --jp-layout-color2: #454545;\n",
       "                    background-color: #383838;\n",
       "                }\n",
       "\n",
       "                .geemap-dark .jupyter-button {\n",
       "                    --jp-layout-color3: #383838;\n",
       "                }\n",
       "\n",
       "                .geemap-colab {\n",
       "                    background-color: var(--colab-primary-surface-color, white);\n",
       "                }\n",
       "\n",
       "                .geemap-colab .jupyter-button {\n",
       "                    --jp-layout-color3: var(--colab-primary-surface-color, white);\n",
       "                }\n",
       "            </style>\n",
       "            "
      ],
      "text/plain": [
       "<IPython.core.display.HTML object>"
      ]
     },
     "metadata": {},
     "output_type": "display_data"
    },
    {
     "data": {
      "application/vnd.jupyter.widget-view+json": {
       "model_id": "d518b793597b4faa9e5d181a9bb9958a",
       "version_major": 2,
       "version_minor": 0
      },
      "text/plain": [
       "Map(center=[26.980613506376038, 81.56867324442466], controls=(WidgetControl(options=['position', 'transparent_…"
      ]
     },
     "execution_count": 48,
     "metadata": {},
     "output_type": "execute_result"
    }
   ],
   "source": [
    "Map = geemap.Map()\n",
    "gfd = ee.ImageCollection('GLOBAL_FLOOD_DB/MODIS_EVENTS/V1')\n",
    "\n",
    "bangladeshID1 = 1789\n",
    "bangladeshID2 = 1791\n",
    "bangladesh1 = ee.Image(gfd.filterMetadata('id', 'equals', bangladeshID1).first()).select(['flooded'])\n",
    "bangladesh2 = ee.Image(gfd.filterMetadata('id', 'equals', bangladeshID2).first()).select(['flooded'])\n",
    "\n",
    "# combo = ee.ImageCollection([bangladesh1, bangladesh2]).reduce(ee.Reducer.max())\n",
    "# vis_params = {'min': 0, 'max': 1, 'palette': 'C3EFFE'}\n",
    "\n",
    "vis_params1 = {'min': 0, 'max': 1, 'palette': '#00FFFF'}\n",
    "Map.centerObject(bangladesh1, 9)\n",
    "Map.addLayer(bangladesh1.selfMask(), vis_params1, '1 - Inundation Extent')\n",
    "vis_params2 = {'min': 0, 'max': 1, 'palette': '#FF0000'}\n",
    "Map.centerObject(bangladesh2, 9)\n",
    "Map.addLayer(bangladesh2.selfMask(), vis_params2, '2 - Inundation Extent')\n",
    "Map"
   ]
  },
  {
   "cell_type": "code",
   "execution_count": 11,
   "id": "c303d4c4",
   "metadata": {},
   "outputs": [
    {
     "data": {
      "text/html": [
       "\n",
       "            <style>\n",
       "                .geemap-dark {\n",
       "                    --jp-widgets-color: white;\n",
       "                    --jp-widgets-label-color: white;\n",
       "                    --jp-ui-font-color1: white;\n",
       "                    --jp-layout-color2: #454545;\n",
       "                    background-color: #383838;\n",
       "                }\n",
       "\n",
       "                .geemap-dark .jupyter-button {\n",
       "                    --jp-layout-color3: #383838;\n",
       "                }\n",
       "\n",
       "                .geemap-colab {\n",
       "                    background-color: var(--colab-primary-surface-color, white);\n",
       "                }\n",
       "\n",
       "                .geemap-colab .jupyter-button {\n",
       "                    --jp-layout-color3: var(--colab-primary-surface-color, white);\n",
       "                }\n",
       "            </style>\n",
       "            "
      ],
      "text/plain": [
       "<IPython.core.display.HTML object>"
      ]
     },
     "metadata": {},
     "output_type": "display_data"
    },
    {
     "name": "stdout",
     "output_type": "stream",
     "text": [
      "{'type': 'Image', 'bands': [{'id': 'flooded', 'data_type': {'type': 'PixelType', 'precision': 'int', 'min': 0, 'max': 1}, 'crs': 'EPSG:4326', 'crs_transform': [0.002245788210298804, 0, 88.08430518433968, 0, -0.002245788210298804, 26.44864775268901]}]}\n",
      "{'type': 'Image', 'bands': [{'id': 'flooded', 'data_type': {'type': 'PixelType', 'precision': 'int', 'min': 0, 'max': 1}, 'crs': 'EPSG:4326', 'crs_transform': [0.002245788210298804, 0, 88.08430518433968, 0, -0.002245788210298804, 26.44864775268901]}]}\n",
      "{'type': 'Image', 'bands': [{'id': 'flooded', 'data_type': {'type': 'PixelType', 'precision': 'int', 'min': 0, 'max': 1}, 'dimensions': [7289, 4017], 'crs': 'EPSG:4326', 'crs_transform': [0.002245788210298804, 0, 73.38337555972372, 0, -0.002245788210298804, 31.47023019091714]}], 'properties': {'system:footprint': {'type': 'LinearRing', 'coordinates': [[74.9189332257506, 31.47135703503598], [73.38186075192326, 31.471351758720346], [73.38206428482283, 22.447768263234146], [74.6631941194119, 22.44475082950059], [76.70910714110627, 22.44475079957042], [78.75502022052356, 22.444750845151145], [80.54519417402383, 22.44616079386882], [82.33536810498833, 22.444750830855458], [84.12554203747956, 22.446160717213434], [85.65997678226478, 22.446160787421476], [86.93867244982836, 22.447167851624695], [88.47310728054725, 22.444750818334672], [89.7542370600222, 22.447768258585825], [89.75444062623627, 31.471351754830803], [86.68293334254838, 31.471357033664617], [83.1025854947685, 31.47135701668062], [80.54519417402383, 31.471356977655336], [76.96484634869351, 31.47135703601424], [74.9189332257506, 31.47135703503598]]}}}\n",
      "{'type': 'Image', 'bands': [{'id': 'flooded', 'data_type': {'type': 'PixelType', 'precision': 'int', 'min': 0, 'max': 1}, 'dimensions': [7289, 4017], 'crs': 'EPSG:4326', 'crs_transform': [0.002245788210298804, 0, 73.38337555972372, 0, -0.002245788210298804, 31.47023019091714]}], 'properties': {'system:footprint': {'type': 'LinearRing', 'coordinates': [[74.9189332257506, 31.47135703503598], [73.38186075192326, 31.471351758720346], [73.38206428482283, 22.447768263234146], [74.6631941194119, 22.44475082950059], [76.70910714110627, 22.44475079957042], [78.75502022052356, 22.444750845151145], [80.54519417402383, 22.44616079386882], [82.33536810498833, 22.444750830855458], [84.12554203747956, 22.446160717213434], [85.65997678226478, 22.446160787421476], [86.93867244982836, 22.447167851624695], [88.47310728054725, 22.444750818334672], [89.7542370600222, 22.447768258585825], [89.75444062623627, 31.471351754830803], [86.68293334254838, 31.471357033664617], [83.1025854947685, 31.47135701668062], [80.54519417402383, 31.471356977655336], [76.96484634869351, 31.47135703601424], [74.9189332257506, 31.47135703503598]]}}}\n",
      "{'type': 'Image', 'bands': [{'id': 'flooded_max', 'data_type': {'type': 'PixelType', 'precision': 'int', 'min': 0, 'max': 1}, 'crs': 'EPSG:4326', 'crs_transform': [1, 0, 0, 0, 1, 0]}]}\n"
     ]
    },
    {
     "data": {
      "application/vnd.jupyter.widget-view+json": {
       "model_id": "84f291e3a6854411be0d674b47977108",
       "version_major": 2,
       "version_minor": 0
      },
      "text/plain": [
       "Map(center=[26.980613506376038, 81.56867324442466], controls=(WidgetControl(options=['position', 'transparent_…"
      ]
     },
     "execution_count": 11,
     "metadata": {},
     "output_type": "execute_result"
    }
   ],
   "source": [
    "Map = geemap.Map()\n",
    "gfd = ee.ImageCollection('GLOBAL_FLOOD_DB/MODIS_EVENTS/V1')\n",
    "\n",
    "# Load the dataset\n",
    "dataset = ee.ImageCollection('JRC/GSW1_4/MonthlyRecurrence')\n",
    "im = ee.Image(dataset.filterMetadata('month', 'equals', 12).first())\n",
    "\n",
    "occurrence_band = im.select('monthly_recurrence')\n",
    "\n",
    "# Apply a threshold to filter values greater than x%\n",
    "filtered_occurrence = occurrence_band.gt(50)\n",
    "filtered_occurrence = filtered_occurrence.rename('flooded')\n",
    "# filtered_occurrence = filtered_occurrence.resample(mode=\"bilinear\")\n",
    "\n",
    "# print(filtered_occurrence.projection().crs().getInfo())\n",
    "\n",
    "filtered_occurrence = filtered_occurrence.setDefaultProjection(\"EPSG:4326\", [0.002245788210298804, 0.0, 88.08430518433968, 0.0, -0.002245788210298804, 26.44864775268901])\n",
    "filtered_occurrence = filtered_occurrence.reduceResolution(reducer=ee.Reducer.mode())\n",
    "print(filtered_occurrence.getInfo())\n",
    "\n",
    "sea = ee.Image(ee.ImageCollection('MODIS/006/MOD44W').filterDate('2015-01-01', '2015-01-02').first()).select(['water_mask'])\n",
    "sea = sea.gt(0.5)\n",
    "sea = sea.rename('flooded')\n",
    "sea = sea.setDefaultProjection(\"EPSG:4326\", [0.002245788210298804, 0.0, 88.08430518433968, 0.0, -0.002245788210298804, 26.44864775268901])\n",
    "# sea = sea.resample(mode=\"bicubic\")\n",
    "print(sea.getInfo())\n",
    "\n",
    "bangladeshID1 = 1789\n",
    "bangladeshID2 = 1791\n",
    "bangladesh1 = ee.Image(gfd.filterMetadata('id', 'equals', bangladeshID1).first()).select(['flooded'])\n",
    "bangladesh1 = bangladesh1.gt(0.5)\n",
    "# bangladesh1 = bangladesh1.resample(mode=\"bilinear\")\n",
    "# bangladesh1 = bangladesh1.reduceResolution(reducer=ee.Reducer.mode())\n",
    "# print(bangladesh1.projection().crs().getInfo())\n",
    "# print(bangladesh1.projection().transform())\n",
    "print(bangladesh1.getInfo())\n",
    "\n",
    "bangladesh2 = ee.Image(gfd.filterMetadata('id', 'equals', bangladeshID2).first()).select(['flooded'])\n",
    "bangladesh2 = bangladesh2.gt(0.5)\n",
    "print(bangladesh2.getInfo())\n",
    "# bangladesh2 = bangladesh2.resample(mode=\"bilinear\")\n",
    "# bangladesh2 = bangladesh2.reduceResolution(reducer=ee.Reducer.mode())\n",
    "\n",
    "combo = ee.ImageCollection([bangladesh1, bangladesh2, filtered_occurrence, sea]).reduce(ee.Reducer.max())\n",
    "# combo = ee.ImageCollection([bangladesh1, bangladesh2, filtered_occurrence]).reduce(ee.Reducer.max())\n",
    "# print(type(combo))\n",
    "\n",
    "\n",
    "# combo = combo.setDefaultProjection(\"EPSG:4326\", [0.002245788210298804, 0.0, 88.08430518433968, 0.0, -0.002245788210298804, 26.44864775268901]).reduceResolution(ee.Reducer.mode())\n",
    "print(combo.getInfo())\n",
    "# point = ee.Geometry.Point(89.97, 23.65)\n",
    "\n",
    "# # Get the pixel values at the defined point\n",
    "# pixel_values = combo.reduceRegion(\n",
    "#     reducer=ee.Reducer.first(),\n",
    "#     geometry=point,\n",
    "#     scale=30\n",
    "# )\n",
    "# # Print the pixel values to the console\n",
    "# print(pixel_values.getInfo())\n",
    "\n",
    "# combo_gfd = ee.ImageCollection([bangladesh1, bangladesh2])\n",
    "# filtered_occurrence = ee.ImageCollection([filtered_occurrence])\n",
    "\n",
    "# combo = combo_gfd.merge(filtered_occurrence).max()\n",
    "\n",
    "vis_params = {'min': 0, 'max': 1, 'palette': '#00FFFF'}\n",
    "\n",
    "Map.centerObject(bangladesh1, 9)\n",
    "Map.addLayer(combo.selfMask(), vis_params, 'combo - Inundation Extent')\n",
    "Map"
   ]
  },
  {
   "cell_type": "code",
   "execution_count": 12,
   "id": "a1e2b786",
   "metadata": {},
   "outputs": [
    {
     "data": {
      "text/html": [
       "\n",
       "            <style>\n",
       "                .geemap-dark {\n",
       "                    --jp-widgets-color: white;\n",
       "                    --jp-widgets-label-color: white;\n",
       "                    --jp-ui-font-color1: white;\n",
       "                    --jp-layout-color2: #454545;\n",
       "                    background-color: #383838;\n",
       "                }\n",
       "\n",
       "                .geemap-dark .jupyter-button {\n",
       "                    --jp-layout-color3: #383838;\n",
       "                }\n",
       "\n",
       "                .geemap-colab {\n",
       "                    background-color: var(--colab-primary-surface-color, white);\n",
       "                }\n",
       "\n",
       "                .geemap-colab .jupyter-button {\n",
       "                    --jp-layout-color3: var(--colab-primary-surface-color, white);\n",
       "                }\n",
       "            </style>\n",
       "            "
      ],
      "text/plain": [
       "<IPython.core.display.HTML object>"
      ]
     },
     "metadata": {},
     "output_type": "display_data"
    }
   ],
   "source": [
    "export_task = ee.batch.Export.image.toDrive(\n",
    "    image=combo,\n",
    "    description='BangladeshFloodedCombo_vF',\n",
    "    folder='ProjectFlood',\n",
    "    fileNamePrefix='BangladeshFloodedCombo_vF',\n",
    "    region=bbox_ee,\n",
    "    crs='EPSG:4326',\n",
    "    # scale=250,  # Adjust the scale as needed\n",
    "    crsTransform=[0.0226492347869873, 0.0, 88.08430518433968, 0.0, -0.0226492347869873, 26.44864775268901],\n",
    "    maxPixels=1e13  # Adjust maxPixels as needed\n",
    ")\n",
    "export_task.start()\n",
    "\n",
    "# [0.002245788210298804, 0.0, 88.08430518433968, 0.0, -0.002245788210298804, 26.44864775268901] approx 250m"
   ]
  },
  {
   "cell_type": "code",
   "execution_count": 33,
   "id": "bcea155f",
   "metadata": {},
   "outputs": [
    {
     "data": {
      "text/html": [
       "\n",
       "            <style>\n",
       "                .geemap-dark {\n",
       "                    --jp-widgets-color: white;\n",
       "                    --jp-widgets-label-color: white;\n",
       "                    --jp-ui-font-color1: white;\n",
       "                    --jp-layout-color2: #454545;\n",
       "                    background-color: #383838;\n",
       "                }\n",
       "\n",
       "                .geemap-dark .jupyter-button {\n",
       "                    --jp-layout-color3: #383838;\n",
       "                }\n",
       "\n",
       "                .geemap-colab {\n",
       "                    background-color: var(--colab-primary-surface-color, white);\n",
       "                }\n",
       "\n",
       "                .geemap-colab .jupyter-button {\n",
       "                    --jp-layout-color3: var(--colab-primary-surface-color, white);\n",
       "                }\n",
       "            </style>\n",
       "            "
      ],
      "text/plain": [
       "<IPython.core.display.HTML object>"
      ]
     },
     "metadata": {},
     "output_type": "display_data"
    },
    {
     "name": "stdout",
     "output_type": "stream",
     "text": [
      "{'type': 'Image', 'bands': [{'id': 'flooded_max', 'data_type': {'type': 'PixelType', 'precision': 'int', 'min': 0, 'max': 255}, 'crs': 'EPSG:4326', 'crs_transform': [1, 0, 0, 0, 1, 0]}]}\n"
     ]
    }
   ],
   "source": [
    "transform = [0.0226492347869873, 0.0, 88.08430518433968, 0.0, -0.0226492347869873, 26.44864775268901]\n",
    "transform_high_res = [0.002245788210298804, 0.0, 88.08430518433968, 0.0, -0.002245788210298804, 26.44864775268901]\n",
    "gfd = ee.ImageCollection('GLOBAL_FLOOD_DB/MODIS_EVENTS/V1')\n",
    "perm_water = ee.ImageCollection('JRC/GSW1_4/MonthlyRecurrence')\n",
    "inundation_images = []\n",
    "bangladeshID1 = 1789\n",
    "bangladeshID2 = 1791\n",
    "bangladesh1 = ee.Image(gfd.filterMetadata('id', 'equals', bangladeshID1).first()).select(['flooded']).toByte()\n",
    "bangladesh2 = ee.Image(gfd.filterMetadata('id', 'equals', bangladeshID2).first()).select(['flooded']).toByte()\n",
    "\n",
    "inundation_images.append(bangladesh1)\n",
    "inundation_images.append(bangladesh2)\n",
    "\n",
    "# Add permanent water overlay\n",
    "water_overlay = ee.Image(perm_water.filterMetadata('month', 'equals', 12).first())\n",
    "occurrence_band = water_overlay.select('monthly_recurrence')\n",
    "water_overlay_filtered = occurrence_band.gt(0.5)\n",
    "water_overlay_filtered = water_overlay_filtered.rename('flooded')\n",
    "water_overlay_filtered = water_overlay_filtered.setDefaultProjection(\"EPSG:4326\", transform_high_res)\n",
    "inundation_images.append(water_overlay_filtered.toByte())\n",
    "\n",
    "# Add sea overlay\n",
    "sea = ee.Image(ee.ImageCollection('MODIS/006/MOD44W').filterDate('2015-01-01', '2015-01-02').first()).select(['water_mask'])\n",
    "sea = sea.rename('flooded')\n",
    "sea = sea.setDefaultProjection(\"EPSG:4326\", transform_high_res)\n",
    "inundation_images.append(sea.toByte())\n",
    "\n",
    "# Export combo image to gdrive\n",
    "combo = ee.ImageCollection(inundation_images).reduce(ee.Reducer.max())\n",
    "print(combo.getInfo())"
   ]
  },
  {
   "cell_type": "code",
   "execution_count": 34,
   "id": "13a84bd6",
   "metadata": {},
   "outputs": [
    {
     "data": {
      "text/html": [
       "\n",
       "            <style>\n",
       "                .geemap-dark {\n",
       "                    --jp-widgets-color: white;\n",
       "                    --jp-widgets-label-color: white;\n",
       "                    --jp-ui-font-color1: white;\n",
       "                    --jp-layout-color2: #454545;\n",
       "                    background-color: #383838;\n",
       "                }\n",
       "\n",
       "                .geemap-dark .jupyter-button {\n",
       "                    --jp-layout-color3: #383838;\n",
       "                }\n",
       "\n",
       "                .geemap-colab {\n",
       "                    background-color: var(--colab-primary-surface-color, white);\n",
       "                }\n",
       "\n",
       "                .geemap-colab .jupyter-button {\n",
       "                    --jp-layout-color3: var(--colab-primary-surface-color, white);\n",
       "                }\n",
       "            </style>\n",
       "            "
      ],
      "text/plain": [
       "<IPython.core.display.HTML object>"
      ]
     },
     "metadata": {},
     "output_type": "display_data"
    }
   ],
   "source": [
    "export_task = ee.batch.Export.image.toDrive(\n",
    "    image=combo,\n",
    "    description='BangladeshFloodedCombo_vF_high_res_shrink',\n",
    "    folder='ProjectFlood',\n",
    "    fileNamePrefix='BangladeshFloodedCombo_vF_high_res_shrink',\n",
    "    region=bbox_ee,\n",
    "    crs='EPSG:4326',\n",
    "    # scale=250,  # Adjust the scale as needed\n",
    "    crsTransform=transform,\n",
    "    maxPixels=1e13  # Adjust maxPixels as needed\n",
    ")\n",
    "\n",
    "export_task.start()"
   ]
  },
  {
   "cell_type": "code",
   "execution_count": 44,
   "id": "a631ef0b",
   "metadata": {},
   "outputs": [
    {
     "data": {
      "text/html": [
       "\n",
       "            <style>\n",
       "                .geemap-dark {\n",
       "                    --jp-widgets-color: white;\n",
       "                    --jp-widgets-label-color: white;\n",
       "                    --jp-ui-font-color1: white;\n",
       "                    --jp-layout-color2: #454545;\n",
       "                    background-color: #383838;\n",
       "                }\n",
       "\n",
       "                .geemap-dark .jupyter-button {\n",
       "                    --jp-layout-color3: #383838;\n",
       "                }\n",
       "\n",
       "                .geemap-colab {\n",
       "                    background-color: var(--colab-primary-surface-color, white);\n",
       "                }\n",
       "\n",
       "                .geemap-colab .jupyter-button {\n",
       "                    --jp-layout-color3: var(--colab-primary-surface-color, white);\n",
       "                }\n",
       "            </style>\n",
       "            "
      ],
      "text/plain": [
       "<IPython.core.display.HTML object>"
      ]
     },
     "metadata": {},
     "output_type": "display_data"
    },
    {
     "data": {
      "text/plain": [
       "{'state': 'COMPLETED',\n",
       " 'description': 'BangladeshFloodedCombo_vF_high_res_shrink',\n",
       " 'priority': 100,\n",
       " 'creation_timestamp_ms': 1721993214717,\n",
       " 'update_timestamp_ms': 1721993233182,\n",
       " 'start_timestamp_ms': 1721993224345,\n",
       " 'task_type': 'EXPORT_IMAGE',\n",
       " 'destination_uris': ['https://drive.google.com/#folders/1JloWj6E5RCbF9TfnGr757J3begjQDvR3'],\n",
       " 'attempt': 1,\n",
       " 'batch_eecu_usage_seconds': 0.18527314066886902,\n",
       " 'id': 'S2W2KX43AMAX6SDYBDPGMJEL',\n",
       " 'name': 'projects/ee-varunkhandekar/operations/S2W2KX43AMAX6SDYBDPGMJEL'}"
      ]
     },
     "execution_count": 44,
     "metadata": {},
     "output_type": "execute_result"
    }
   ],
   "source": [
    "export_task.status()"
   ]
  },
  {
   "cell_type": "code",
   "execution_count": 107,
   "id": "6a435485",
   "metadata": {},
   "outputs": [
    {
     "data": {
      "text/html": [
       "\n",
       "            <style>\n",
       "                .geemap-dark {\n",
       "                    --jp-widgets-color: white;\n",
       "                    --jp-widgets-label-color: white;\n",
       "                    --jp-ui-font-color1: white;\n",
       "                    --jp-layout-color2: #454545;\n",
       "                    background-color: #383838;\n",
       "                }\n",
       "\n",
       "                .geemap-dark .jupyter-button {\n",
       "                    --jp-layout-color3: #383838;\n",
       "                }\n",
       "\n",
       "                .geemap-colab {\n",
       "                    background-color: var(--colab-primary-surface-color, white);\n",
       "                }\n",
       "\n",
       "                .geemap-colab .jupyter-button {\n",
       "                    --jp-layout-color3: var(--colab-primary-surface-color, white);\n",
       "                }\n",
       "            </style>\n",
       "            "
      ],
      "text/plain": [
       "<IPython.core.display.HTML object>"
      ]
     },
     "metadata": {},
     "output_type": "display_data"
    }
   ],
   "source": [
    "export_task = ee.batch.Export.image.toDrive(\n",
    "    image=combo,\n",
    "    description='BangladeshFloodedCombo_vF_highres',\n",
    "    folder='ProjectFlood',\n",
    "    fileNamePrefix='BangladeshFloodedCombo_vF_highres',\n",
    "    region=bbox_ee,\n",
    "    # crs='EPSG:4326',\n",
    "    scale=30,  # Adjust the scale as needed\n",
    "    # crsTransform=[0.002245788210298804, 0.0, 88.08430518433968, 0.0, -0.002245788210298804, 26.44864775268901],\n",
    "    maxPixels=1e13  # Adjust maxPixels as needed\n",
    ")\n",
    "export_task.start()"
   ]
  },
  {
   "cell_type": "code",
   "execution_count": 123,
   "id": "8a48a17a",
   "metadata": {},
   "outputs": [
    {
     "data": {
      "text/html": [
       "\n",
       "            <style>\n",
       "                .geemap-dark {\n",
       "                    --jp-widgets-color: white;\n",
       "                    --jp-widgets-label-color: white;\n",
       "                    --jp-ui-font-color1: white;\n",
       "                    --jp-layout-color2: #454545;\n",
       "                    background-color: #383838;\n",
       "                }\n",
       "\n",
       "                .geemap-dark .jupyter-button {\n",
       "                    --jp-layout-color3: #383838;\n",
       "                }\n",
       "\n",
       "                .geemap-colab {\n",
       "                    background-color: var(--colab-primary-surface-color, white);\n",
       "                }\n",
       "\n",
       "                .geemap-colab .jupyter-button {\n",
       "                    --jp-layout-color3: var(--colab-primary-surface-color, white);\n",
       "                }\n",
       "            </style>\n",
       "            "
      ],
      "text/plain": [
       "<IPython.core.display.HTML object>"
      ]
     },
     "metadata": {},
     "output_type": "display_data"
    },
    {
     "data": {
      "text/plain": [
       "{'state': 'COMPLETED',\n",
       " 'description': 'BangladeshFloodedCombo_vF_highres',\n",
       " 'priority': 100,\n",
       " 'creation_timestamp_ms': 1720002135260,\n",
       " 'update_timestamp_ms': 1720002687374,\n",
       " 'start_timestamp_ms': 1720002138179,\n",
       " 'task_type': 'EXPORT_IMAGE',\n",
       " 'destination_uris': ['https://drive.google.com/#folders/1JloWj6E5RCbF9TfnGr757J3begjQDvR3'],\n",
       " 'attempt': 1,\n",
       " 'batch_eecu_usage_seconds': 1418.5325927734375,\n",
       " 'id': '7A2VVVW4AW6MM4ZSWLCRNFVK',\n",
       " 'name': 'projects/ee-varunkhandekar/operations/7A2VVVW4AW6MM4ZSWLCRNFVK'}"
      ]
     },
     "execution_count": 123,
     "metadata": {},
     "output_type": "execute_result"
    }
   ],
   "source": [
    "export_task.status()"
   ]
  },
  {
   "cell_type": "markdown",
   "id": "a1047e5d",
   "metadata": {},
   "source": [
    "Rainfall Data"
   ]
  },
  {
   "cell_type": "code",
   "execution_count": null,
   "id": "0141a0dc",
   "metadata": {},
   "outputs": [],
   "source": [
    "# 2020365.21.nc\n",
    "data = xr.open_dataset(\"2020365.21.nc\", engine=\"netcdf4\")\n",
    "print(data)\n",
    "# print(data.variables)\n",
    "\n",
    "\n",
    "\n",
    "# Map = geemap.Map()\n",
    "# Map.add_netcdf(\n",
    "#     \"2020365.21.nc\",\n",
    "#     variables=[\"v_wind\"],\n",
    "#     palette=\"coolwarm\",\n",
    "#     shift_lon=True,\n",
    "#     layer_name=\"v_wind\",\n",
    "# )\n",
    "# Map"
   ]
  },
  {
   "cell_type": "code",
   "execution_count": null,
   "id": "f97e125e",
   "metadata": {},
   "outputs": [],
   "source": [
    "data = geemap.read_netcdf(\"2020365.21.nc\")\n",
    "\n",
    "# precipitation_at_time = data['precipitation'].isel(time=0)\n",
    "data"
   ]
  },
  {
   "cell_type": "code",
   "execution_count": null,
   "id": "a7b2bbb7",
   "metadata": {},
   "outputs": [],
   "source": [
    "# data.sizes\n",
    "# data_at_time = data.isel(time=0).squeeze()\n",
    "# data_at_time.dims"
   ]
  },
  {
   "cell_type": "code",
   "execution_count": null,
   "id": "0a96f779",
   "metadata": {},
   "outputs": [],
   "source": [
    "# Extract precipitation data\n",
    "data = xr.open_dataset(\"2020365.21.nc\", engine=\"netcdf4\")\n",
    "precipitation = data['precipitation']\n",
    "precipitation.plot()\n",
    "print(precipitation.dtype)\n",
    "print(precipitation.min())"
   ]
  },
  {
   "cell_type": "code",
   "execution_count": null,
   "id": "4706c42e",
   "metadata": {},
   "outputs": [],
   "source": [
    "\n",
    "# Set the spatial dimensions\n",
    "precipitation.rio.set_spatial_dims('lon', 'lat', inplace=True)\n",
    "precipitation.rio.write_crs(\"EPSG:4326\", inplace=True)\n",
    "\n",
    "# Save the precipitation data to GeoTIFF\n",
    "precipitation.rio.to_raster(\"precipitation_data.tif\")\n",
    "\n",
    "# Initialize the map\n",
    "Map = geemap.Map()\n",
    "\n",
    "# Add the GeoTIFF file to the map\n",
    "geotiff_path = \"precipitation_data.tif\"\n",
    "Map.add_raster(geotiff_path, vmin=0, vmax = 3, layer_name=\"Precipitation\")\n",
    "\n",
    "# image = geemap.ee_image_from_drive(geotiff_path)\n",
    "\n",
    "# # Define visualization parameters\n",
    "# vis_params = {\n",
    "#     'min': 0,\n",
    "#     'max': 10,  # Adjust these values based on your data range\n",
    "#     'palette': ['blue', 'green', 'red']\n",
    "# }\n",
    "\n",
    "# # Add the image to the map\n",
    "# Map.addLayer(image, vis_params, 'Precipitation')\n",
    "\n",
    "# Display the map\n",
    "fc = ee.FeatureCollection(ee_geometry)\n",
    "style = {'color': 'ffff00ff', 'fillColor': '00000000'}\n",
    "Map.addLayer(fc.style(**style), {}, 'ROI')\n",
    "Map"
   ]
  },
  {
   "cell_type": "code",
   "execution_count": null,
   "id": "a6106157",
   "metadata": {},
   "outputs": [],
   "source": [
    "# from rasterio.enums import Resampling\n",
    "# Open the NetCDF file\n",
    "data = xr.open_dataset(\"2020365.21.nc\", engine=\"netcdf4\")\n",
    "precipitation = data['precipitation']\n",
    "precipitation.max()"
   ]
  },
  {
   "cell_type": "code",
   "execution_count": null,
   "id": "1b014ba4",
   "metadata": {},
   "outputs": [],
   "source": [
    "\n",
    "# Set spatial dimensions and CRS\n",
    "precipitation.rio.set_spatial_dims('lon', 'lat', inplace=True)\n",
    "precipitation.rio.write_crs(\"EPSG:4326\", inplace=True)\n",
    "\n",
    "# Define the output path for the GeoTIFF file\n",
    "output_path = 'precipitation_data_Bangladesh_new.tif'\n",
    "\n",
    "\n",
    "# Clip the precipitation data using the polygon\n",
    "precipitation_clipped = precipitation.rio.clip(geojson, all_touched=True)\n",
    "precipitation_clipped.max()"
   ]
  },
  {
   "cell_type": "code",
   "execution_count": null,
   "id": "b3323a56",
   "metadata": {},
   "outputs": [],
   "source": [
    "\n",
    "# Save the clipped data to GeoTIFF\n",
    "precipitation_clipped.rio.to_raster(output_path)\n",
    "\n",
    "print(f\"Clipped image saved to {output_path}\")\n",
    "\n",
    "# Map = geemap.Map()\n",
    "\n",
    "# Add the GeoTIFF file to the map\n",
    "# geotiff_path = \"precipitation_data_Bangladesh_new.tif\"\n",
    "# Map.add_raster(geotiff_path, vmin=0, vmax = 3, layer_name=\"Precipitation\")\n",
    "\n",
    "# # Display the map\n",
    "# fc = ee.FeatureCollection(ee_geometry)\n",
    "# style = {'color': 'ffff00ff', 'fillColor': '00000000'}\n",
    "# Map.addLayer(fc.style(**style), {}, 'ROI')\n",
    "# Map"
   ]
  },
  {
   "cell_type": "code",
   "execution_count": null,
   "id": "5640dbbd",
   "metadata": {},
   "outputs": [],
   "source": [
    "with rasterio.open('precipitation_data_Bangladesh_new.tif') as src:\n",
    "    \n",
    "    src_transform = src.transform\n",
    "    data = src.read()\n",
    "    print(data.dtype)"
   ]
  },
  {
   "cell_type": "markdown",
   "id": "27c957fc",
   "metadata": {},
   "source": [
    "Soil Moisture"
   ]
  },
  {
   "cell_type": "code",
   "execution_count": null,
   "id": "91ef1f1f",
   "metadata": {},
   "outputs": [],
   "source": [
    "c = cdsapi.Client()\n",
    "\n",
    "c.retrieve(\n",
    "    'satellite-soil-moisture',\n",
    "    {\n",
    "        'format': 'zip',\n",
    "        'year': '2019',\n",
    "        'day':'01',\n",
    "        'variable': 'surface_soil_moisture',\n",
    "        'type_of_sensor': 'active',\n",
    "        'time_aggregation': 'day_average',\n",
    "        'month': '01',\n",
    "        'type_of_record': 'cdr',\n",
    "        'version': 'v202212',\n",
    "    },\n",
    "    'download.zip'\n",
    ")\n",
    "with zipfile.ZipFile('download.zip', 'r') as zip_ref:\n",
    "    file_list = zip_ref.namelist()\n",
    "    zip_ref.extract(file_list[0], path='.')\n",
    "\n",
    "    new_path = os.path.join('.', f'soil_moisture_bangladesh_test.nc')\n",
    "    os.rename(file_list[0], new_path)\n",
    "    print(f'File extracted and renamed to: {new_path}')\n",
    "os.remove('download.zip')\n",
    "\n"
   ]
  },
  {
   "cell_type": "code",
   "execution_count": null,
   "id": "7947d9fc",
   "metadata": {},
   "outputs": [],
   "source": [
    "# from rasterio.enums import Resampling\n",
    "# Open the NetCDF file\n",
    "data = xr.open_dataset(\"C3S-SOILMOISTURE-L3S-SSMS-ACTIVE-DAILY-20190104000000-TCDR-v202212.0.0.nc\", engine=\"netcdf4\")\n",
    "data"
   ]
  },
  {
   "cell_type": "code",
   "execution_count": null,
   "id": "49dbdb39",
   "metadata": {},
   "outputs": [],
   "source": [
    "\n",
    "soil_moisture = data['sm']\n",
    "\n",
    "# Set spatial dimensions and CRS\n",
    "soil_moisture.rio.set_spatial_dims('lon', 'lat', inplace=True)\n",
    "soil_moisture.rio.write_crs(\"EPSG:4326\", inplace=True)\n",
    "soil_moisture.max()\n"
   ]
  },
  {
   "cell_type": "code",
   "execution_count": null,
   "id": "7cd38067",
   "metadata": {},
   "outputs": [],
   "source": [
    "\n",
    "soil_moisture.rio.to_raster(\"soil_moisture_test.tif\")\n",
    "\n",
    "# Initialize the map\n",
    "Map = geemap.Map()\n",
    "\n",
    "# Add the GeoTIFF file to the map\n",
    "geotiff_path = \"soil_moisture_test.tif\"\n",
    "Map.add_raster(geotiff_path, vmin=0, vmax = 100, layer_name=\"Soil_Moisture\")\n",
    "Map\n",
    "\n",
    "# Display the map\n",
    "# fc = ee.FeatureCollection(ee_geometry)\n",
    "# style = {'color': 'ffff00ff', 'fillColor': '00000000'}\n",
    "# Map.addLayer(fc.style(**style), {}, 'ROI')\n",
    "# Map\n"
   ]
  },
  {
   "cell_type": "code",
   "execution_count": null,
   "id": "cacc5524",
   "metadata": {},
   "outputs": [],
   "source": [
    "# Define the output path for the GeoTIFF file\n",
    "output_path = 'soil_moisture_test_Bangladesh.tif'\n",
    "\n",
    "\n",
    "# Get the bounding box\n",
    "minx, miny, maxx, maxy = polygon.bounds\n",
    "\n",
    "print(f\"Bounding box: ({minx}, {miny}, {maxx}, {maxy})\")\n"
   ]
  },
  {
   "cell_type": "code",
   "execution_count": null,
   "id": "a59f57a3",
   "metadata": {},
   "outputs": [],
   "source": [
    "\n",
    "# Convert the polygon to GeoJSON format\n",
    "geojson = [mapping(polygon)]\n",
    "\n",
    "# Clip the precipitation data using the polygon\n",
    "soil_moisture_clipped = soil_moisture.rio.clip(geojson, all_touched=True)\n",
    "\n",
    "# Save the clipped data to GeoTIFF\n",
    "soil_moisture_clipped.rio.to_raster(output_path)\n",
    "\n",
    "print(f\"Clipped image saved to {output_path}\")\n",
    "\n",
    "Map = geemap.Map()\n",
    "\n",
    "# Add the GeoTIFF file to the map\n",
    "geotiff_path = \"soil_moisture_test.tif\"\n",
    "Map.add_raster(geotiff_path, vmin=0, vmax = 100, layer_name=\"Soil_Moisture\")\n",
    "\n",
    "# Display the map\n",
    "fc = ee.FeatureCollection(ee_geometry)\n",
    "style = {'color': 'ffff00ff', 'fillColor': '00000000'}\n",
    "Map.addLayer(fc.style(**style), {}, 'ROI')\n",
    "Map"
   ]
  },
  {
   "cell_type": "code",
   "execution_count": null,
   "id": "978625bf",
   "metadata": {},
   "outputs": [],
   "source": [
    "c = cdsapi.Client()\n",
    "\n",
    "c.retrieve(\n",
    "    'satellite-soil-moisture',\n",
    "    {\n",
    "        'format': 'zip',\n",
    "        'year': '2019',\n",
    "        'day':'01',\n",
    "        'variable': 'surface_soil_moisture',\n",
    "        'type_of_sensor': 'active',\n",
    "        'time_aggregation': 'day_average',\n",
    "        'month': '01',\n",
    "        'type_of_record': 'cdr',\n",
    "        'version': 'v202212',\n",
    "    },\n",
    "    'download.zip'\n",
    ")\n",
    "new_path = os.path.join('.', f'soil_moisture_bangladesh_test.nc')\n",
    "with zipfile.ZipFile('download.zip', 'r') as zip_ref:\n",
    "    file_list = zip_ref.namelist()\n",
    "    zip_ref.extract(file_list[0], path='.')\n",
    "\n",
    "    \n",
    "    os.rename(file_list[0], new_path)\n",
    "    print(f'File extracted and renamed to: {new_path}')\n",
    "os.remove('download.zip')\n"
   ]
  },
  {
   "cell_type": "code",
   "execution_count": null,
   "id": "7f0bad3c",
   "metadata": {},
   "outputs": [],
   "source": [
    "new_path = os.path.join('.', f'soil_moisture_bangladesh_test.nc')\n",
    "geojson = [mapping(polygon)] # Use GeoJSON of the shape\n",
    "with xr.open_dataset(new_path, engine=\"netcdf4\") as data:\n",
    "    data = data['sm']\n",
    "    data.rio.set_spatial_dims('lon', 'lat', inplace=True)\n",
    "    data.rio.write_crs(\"EPSG:4326\", inplace=True)\n",
    "    \n",
    "    data_clipped = data.rio.clip(geojson, all_touched=True)\n",
    "data_clipped.to_netcdf(new_path)\n",
    "# data_clipped.rio.to_raster('soil_moisture_bangladesh_test_clipping.tif')\n",
    "\n"
   ]
  },
  {
   "cell_type": "code",
   "execution_count": null,
   "id": "f6570eb2",
   "metadata": {},
   "outputs": [],
   "source": [
    "print(data_clipped.to_dataframe().values)"
   ]
  },
  {
   "cell_type": "code",
   "execution_count": null,
   "id": "7c34c768",
   "metadata": {},
   "outputs": [],
   "source": [
    "import numpy as np\n",
    "\n",
    "df = data_clipped.to_dataframe()\n",
    "nan_indices = np.isnan(df['sm'])\n",
    "nan_indices = list(df.index[nan_indices].droplevel('time'))\n",
    "# nan_indices.droplevel('time')\n",
    "\n",
    "nan_indices"
   ]
  },
  {
   "cell_type": "code",
   "execution_count": null,
   "id": "d80f8a75",
   "metadata": {},
   "outputs": [],
   "source": [
    "pivot_df = df.reset_index().pivot(index='lat', columns='lon', values='sm')\n",
    "pivot_df = pivot_df.iloc[::-1]\n",
    "pivot_df\n"
   ]
  },
  {
   "cell_type": "code",
   "execution_count": null,
   "id": "f082b0be",
   "metadata": {},
   "outputs": [],
   "source": [
    "\n",
    "plt.figure(figsize=(10, 8))\n",
    "# plt.imshow(pivot_df, cmap='viridis', origin='lower', extent=[-180, 180, -90, 90])\n",
    "lat_min, lat_max = pivot_df.index.min(), pivot_df.index.max()\n",
    "lon_min, lon_max = pivot_df.columns.min(), pivot_df.columns.max()\n",
    "plt.imshow(pivot_df, cmap='viridis', origin='upper', extent = [lon_min, lon_max, lat_min, lat_max])\n",
    "plt.colorbar(label='Value')\n",
    "plt.xlabel('Longitude')\n",
    "plt.ylabel('Latitude')\n",
    "plt.title('Grid Plot of Values')\n",
    "plt.show()"
   ]
  },
  {
   "cell_type": "code",
   "execution_count": null,
   "id": "2f0eb614",
   "metadata": {},
   "outputs": [],
   "source": [
    "def get_band_number_by_name(src, band_name):\n",
    "    # Assuming the band names are stored in the metadata under 'band_descriptions'\n",
    "    descriptions = src.descriptions\n",
    "    for i, desc in enumerate(descriptions):\n",
    "        if desc == band_name:\n",
    "            return i + 1  # Bands are 1-indexed in rasterio\n",
    "    raise ValueError(f\"Band name '{band_name}' not found\")\n",
    "\n",
    "def element_wise_average(arr1, arr2):\n",
    "    # Create masks for NaN values\n",
    "    mask1 = np.isnan(arr1)\n",
    "    mask2 = np.isnan(arr2)\n",
    "    \n",
    "    # Replace NaNs in arr1 with values from arr2\n",
    "    arr1[mask1] = arr2[mask1]\n",
    "    \n",
    "    # Replace NaNs in arr2 with values from arr1\n",
    "    arr2[mask2] = arr1[mask2]\n",
    "    \n",
    "    # Calculate the average\n",
    "    avg_array = (arr1 + arr2) / 2\n",
    "    \n",
    "    return avg_array"
   ]
  },
  {
   "cell_type": "code",
   "execution_count": null,
   "id": "97528a90",
   "metadata": {},
   "outputs": [],
   "source": [
    "# SMAP L3\n",
    "dataset = ee.ImageCollection('NASA/SMAP/SPL3SMP_E/005')\n",
    "im = ee.Image(dataset.filterDate('2019-01-01', '2019-01-02').first())\n",
    "print(im.getInfo())\n",
    "\n",
    "# ee_geometry.getInfo()['coordinates']\n",
    "print(type(im))\n"
   ]
  },
  {
   "cell_type": "code",
   "execution_count": null,
   "id": "c706340f",
   "metadata": {},
   "outputs": [],
   "source": [
    "export_task = ee.batch.Export.image.toDrive(\n",
    "    image=im,\n",
    "    description='SMAP_test_L3',\n",
    "    folder='ProjectFlood',\n",
    "    fileNamePrefix='SMAP_test_L3',\n",
    "    region=ee_geometry.getInfo()['coordinates'],\n",
    "    scale=11000,  # Adjust the scale as needed\n",
    "    maxPixels=1e13  # Adjust maxPixels as needed\n",
    ")\n",
    "export_task.start()\n"
   ]
  },
  {
   "cell_type": "code",
   "execution_count": null,
   "id": "c8f62fd7",
   "metadata": {},
   "outputs": [],
   "source": [
    "export_task.status()"
   ]
  },
  {
   "cell_type": "code",
   "execution_count": null,
   "id": "bc26f76c",
   "metadata": {},
   "outputs": [],
   "source": [
    "with rasterio.open(\"SMAP_test_L3.tif\") as src:\n",
    "    band_name = \"soil_moisture_am\"\n",
    "    band_number = get_band_number_by_name(src, band_name)\n",
    "    # print(band_number)\n",
    "    band1 = src.read(band_number)  # Read the first band\n",
    "    print(band1)\n",
    "\n",
    "    band_name = \"soil_moisture_pm\"\n",
    "    band_number = get_band_number_by_name(src, band_name)\n",
    "    # print(band_number)\n",
    "    band2 = src.read(band_number)  # Read the first band\n",
    "    print(\"=================\")\n",
    "    print(band2)\n",
    "\n",
    "\n",
    "    avg_band = element_wise_average(band1.copy(), band2.copy())\n",
    "    print(\"=================\")\n",
    "    print(avg_band)\n",
    "    \n",
    "    # Get the coordinates of the pixels\n",
    "    rows, cols = np.indices(avg_band.shape)\n",
    "    xs, ys = rasterio.transform.xy(src.transform, rows, cols)\n",
    "    lats = np.array(ys).flatten()\n",
    "    lons = np.array(xs).flatten()\n",
    "    values = avg_band.flatten()\n",
    "\n",
    "    # Create a DataFrame\n",
    "    df = pd.DataFrame({\n",
    "        'latitude': lats,\n",
    "        'longitude': lons,\n",
    "        'value': values\n",
    "    })\n",
    "\n",
    "df = df.pivot_table(index='latitude', columns='longitude', values='value')\n",
    "df = df.iloc[::-1]\n",
    "\n",
    "# df = df/0.9\n",
    "# print(df.head())\n"
   ]
  },
  {
   "cell_type": "code",
   "execution_count": null,
   "id": "1dc857e1",
   "metadata": {},
   "outputs": [],
   "source": [
    "plt.figure(figsize=(10, 8))\n",
    "# plt.imshow(pivot_df, cmap='viridis', origin='lower', extent=[-180, 180, -90, 90])\n",
    "lat_min, lat_max = df.index.min(), df.index.max()\n",
    "lon_min, lon_max = df.columns.min(), df.columns.max()\n",
    "plt.imshow(df, cmap='viridis', origin='upper', extent = [lon_min, lon_max, lat_min, lat_max])\n",
    "plt.colorbar(label='Value')\n",
    "plt.xlabel('Longitude')\n",
    "plt.ylabel('Latitude')\n",
    "plt.title('Grid Plot of Values')\n",
    "plt.show()"
   ]
  },
  {
   "cell_type": "code",
   "execution_count": null,
   "id": "290eaa93",
   "metadata": {},
   "outputs": [],
   "source": [
    "with rasterio.open(\"SMAP_test_L4.tif\") as src:\n",
    "    band_name = \"sm_surface\"\n",
    "    band_number = get_band_number_by_name(src, band_name)\n",
    "    # print(band_number)\n",
    "    band = src.read(band_number)  # Read the first band\n",
    "    # print(type(band))\n",
    "    # Get the coordinates of the pixels\n",
    "    rows, cols = np.indices(band.shape)\n",
    "    xs, ys = rasterio.transform.xy(src.transform, rows, cols)\n",
    "    lats = np.array(ys).flatten()\n",
    "    lons = np.array(xs).flatten()\n",
    "    values = band.flatten()\n",
    "\n",
    "    # Create a DataFrame\n",
    "    df = pd.DataFrame({\n",
    "        'latitude': lats,\n",
    "        'longitude': lons,\n",
    "        'value': values\n",
    "    })\n",
    "\n",
    "df = df.pivot_table(index='latitude', columns='longitude', values='value')\n",
    "df = df.iloc[::-1]\n",
    "df = df/0.9\n",
    "# df\n"
   ]
  },
  {
   "cell_type": "code",
   "execution_count": null,
   "id": "403529ee",
   "metadata": {},
   "outputs": [],
   "source": [
    "plt.figure(figsize=(10, 8))\n",
    "# plt.imshow(pivot_df, cmap='viridis', origin='lower', extent=[-180, 180, -90, 90])\n",
    "lat_min, lat_max = df.index.min(), df.index.max()\n",
    "lon_min, lon_max = df.columns.min(), df.columns.max()\n",
    "plt.imshow(df, cmap='viridis', origin='upper', extent = [lon_min, lon_max, lat_min, lat_max])\n",
    "plt.colorbar(label='Value')\n",
    "plt.xlabel('Longitude')\n",
    "plt.ylabel('Latitude')\n",
    "plt.title('Grid Plot of Values')\n",
    "plt.show()"
   ]
  },
  {
   "cell_type": "code",
   "execution_count": 7,
   "id": "81393426",
   "metadata": {},
   "outputs": [
    {
     "data": {
      "text/html": [
       "\n",
       "            <style>\n",
       "                .geemap-dark {\n",
       "                    --jp-widgets-color: white;\n",
       "                    --jp-widgets-label-color: white;\n",
       "                    --jp-ui-font-color1: white;\n",
       "                    --jp-layout-color2: #454545;\n",
       "                    background-color: #383838;\n",
       "                }\n",
       "\n",
       "                .geemap-dark .jupyter-button {\n",
       "                    --jp-layout-color3: #383838;\n",
       "                }\n",
       "\n",
       "                .geemap-colab {\n",
       "                    background-color: var(--colab-primary-surface-color, white);\n",
       "                }\n",
       "\n",
       "                .geemap-colab .jupyter-button {\n",
       "                    --jp-layout-color3: var(--colab-primary-surface-color, white);\n",
       "                }\n",
       "            </style>\n",
       "            "
      ],
      "text/plain": [
       "<IPython.core.display.HTML object>"
      ]
     },
     "metadata": {},
     "output_type": "display_data"
    },
    {
     "name": "stdout",
     "output_type": "stream",
     "text": [
      "{'type': 'Image', 'bands': [{'id': 'volumetric_soil_water_layer_1', 'data_type': {'type': 'PixelType', 'precision': 'double'}, 'dimensions': [3601, 1801], 'crs': 'EPSG:4326', 'crs_transform': [0.1, 0, -180.05, 0, -0.1, 90.05]}], 'version': 1719983842605071, 'id': 'ECMWF/ERA5_LAND/DAILY_AGGR/20190101', 'properties': {'system:time_start': 1546300800000, 'month': 1, 'year': 2019, 'system:footprint': {'type': 'LinearRing', 'coordinates': [[-180, -90], [180, -90], [180, 90], [-180, 90], [-180, -90]]}, 'system:time_end': 1546387200000, 'system:asset_size': 940588144, 'day': 1, 'system:index': '20190101'}}\n",
      "<class 'ee.image.Image'>\n"
     ]
    }
   ],
   "source": [
    "# Load the dataset and filter for the month of December\n",
    "dataset = ee.ImageCollection('ECMWF/ERA5_LAND/DAILY_AGGR')\n",
    "im = ee.Image(dataset.filterDate('2019-01-01', '2019-01-02').first())\n",
    "\n",
    "# im = im.toFloat()\n",
    "im = im.select(\"volumetric_soil_water_layer_1\")\n",
    "print(im.getInfo())\n",
    "# ee_geometry.getInfo()['coordinates']\n",
    "print(type(im))\n"
   ]
  },
  {
   "cell_type": "code",
   "execution_count": 22,
   "id": "bd050bb8",
   "metadata": {},
   "outputs": [
    {
     "data": {
      "text/html": [
       "\n",
       "            <style>\n",
       "                .geemap-dark {\n",
       "                    --jp-widgets-color: white;\n",
       "                    --jp-widgets-label-color: white;\n",
       "                    --jp-ui-font-color1: white;\n",
       "                    --jp-layout-color2: #454545;\n",
       "                    background-color: #383838;\n",
       "                }\n",
       "\n",
       "                .geemap-dark .jupyter-button {\n",
       "                    --jp-layout-color3: #383838;\n",
       "                }\n",
       "\n",
       "                .geemap-colab {\n",
       "                    background-color: var(--colab-primary-surface-color, white);\n",
       "                }\n",
       "\n",
       "                .geemap-colab .jupyter-button {\n",
       "                    --jp-layout-color3: var(--colab-primary-surface-color, white);\n",
       "                }\n",
       "            </style>\n",
       "            "
      ],
      "text/plain": [
       "<IPython.core.display.HTML object>"
      ]
     },
     "metadata": {},
     "output_type": "display_data"
    }
   ],
   "source": [
    "im = im.unmask(1)\n",
    "# im = im.resample(mode=\"bicubic\")\n",
    "export_task = ee.batch.Export.image.toDrive(\n",
    "    image=im,\n",
    "    description='ERA5-LAND',\n",
    "    folder='ProjectFlood',\n",
    "    fileNamePrefix='ERA5-LAND',\n",
    "    region=bbox_ee,\n",
    "    crs='EPSG:4326',\n",
    "    # scale=250,  # Adjust the scale as needed\n",
    "    crsTransform=[0.002245788210298804, 0.0, 88.08430518433968, 0.0, -0.002245788210298804, 26.44864775268901],\n",
    "    maxPixels=1e8  # Adjust maxPixels as needed\n",
    ")\n",
    "export_task.start()\n"
   ]
  },
  {
   "cell_type": "code",
   "execution_count": 26,
   "id": "c9f38c00",
   "metadata": {},
   "outputs": [
    {
     "data": {
      "text/html": [
       "\n",
       "            <style>\n",
       "                .geemap-dark {\n",
       "                    --jp-widgets-color: white;\n",
       "                    --jp-widgets-label-color: white;\n",
       "                    --jp-ui-font-color1: white;\n",
       "                    --jp-layout-color2: #454545;\n",
       "                    background-color: #383838;\n",
       "                }\n",
       "\n",
       "                .geemap-dark .jupyter-button {\n",
       "                    --jp-layout-color3: #383838;\n",
       "                }\n",
       "\n",
       "                .geemap-colab {\n",
       "                    background-color: var(--colab-primary-surface-color, white);\n",
       "                }\n",
       "\n",
       "                .geemap-colab .jupyter-button {\n",
       "                    --jp-layout-color3: var(--colab-primary-surface-color, white);\n",
       "                }\n",
       "            </style>\n",
       "            "
      ],
      "text/plain": [
       "<IPython.core.display.HTML object>"
      ]
     },
     "metadata": {},
     "output_type": "display_data"
    },
    {
     "data": {
      "text/plain": [
       "{'state': 'READY',\n",
       " 'description': 'ERA5-LAND',\n",
       " 'priority': 100,\n",
       " 'creation_timestamp_ms': 1720010643173,\n",
       " 'update_timestamp_ms': 1720010643173,\n",
       " 'start_timestamp_ms': 0,\n",
       " 'task_type': 'EXPORT_IMAGE',\n",
       " 'id': 'XNRYPUTUI5NPAVJADTOWBMV3',\n",
       " 'name': 'projects/ee-varunkhandekar/operations/XNRYPUTUI5NPAVJADTOWBMV3'}"
      ]
     },
     "execution_count": 26,
     "metadata": {},
     "output_type": "execute_result"
    }
   ],
   "source": [
    "export_task.status()"
   ]
  },
  {
   "cell_type": "code",
   "execution_count": 17,
   "id": "91fe198b",
   "metadata": {},
   "outputs": [
    {
     "data": {
      "text/html": [
       "\n",
       "            <style>\n",
       "                .geemap-dark {\n",
       "                    --jp-widgets-color: white;\n",
       "                    --jp-widgets-label-color: white;\n",
       "                    --jp-ui-font-color1: white;\n",
       "                    --jp-layout-color2: #454545;\n",
       "                    background-color: #383838;\n",
       "                }\n",
       "\n",
       "                .geemap-dark .jupyter-button {\n",
       "                    --jp-layout-color3: #383838;\n",
       "                }\n",
       "\n",
       "                .geemap-colab {\n",
       "                    background-color: var(--colab-primary-surface-color, white);\n",
       "                }\n",
       "\n",
       "                .geemap-colab .jupyter-button {\n",
       "                    --jp-layout-color3: var(--colab-primary-surface-color, white);\n",
       "                }\n",
       "            </style>\n",
       "            "
      ],
      "text/plain": [
       "<IPython.core.display.HTML object>"
      ]
     },
     "metadata": {},
     "output_type": "display_data"
    },
    {
     "data": {
      "text/plain": [
       "42073696"
      ]
     },
     "execution_count": 17,
     "metadata": {},
     "output_type": "execute_result"
    }
   ],
   "source": [
    "with rasterio.open('ERA5-LAND.tif') as src:\n",
    "    # Read the existing data\n",
    "    data_era5 = src.read()\n",
    "    \n",
    "data_era5.nbytes"
   ]
  },
  {
   "cell_type": "code",
   "execution_count": 18,
   "id": "53393ecc",
   "metadata": {},
   "outputs": [
    {
     "data": {
      "text/html": [
       "\n",
       "            <style>\n",
       "                .geemap-dark {\n",
       "                    --jp-widgets-color: white;\n",
       "                    --jp-widgets-label-color: white;\n",
       "                    --jp-ui-font-color1: white;\n",
       "                    --jp-layout-color2: #454545;\n",
       "                    background-color: #383838;\n",
       "                }\n",
       "\n",
       "                .geemap-dark .jupyter-button {\n",
       "                    --jp-layout-color3: #383838;\n",
       "                }\n",
       "\n",
       "                .geemap-colab {\n",
       "                    background-color: var(--colab-primary-surface-color, white);\n",
       "                }\n",
       "\n",
       "                .geemap-colab .jupyter-button {\n",
       "                    --jp-layout-color3: var(--colab-primary-surface-color, white);\n",
       "                }\n",
       "            </style>\n",
       "            "
      ],
      "text/plain": [
       "<IPython.core.display.HTML object>"
      ]
     },
     "metadata": {},
     "output_type": "display_data"
    },
    {
     "data": {
      "text/plain": [
       "42073696"
      ]
     },
     "execution_count": 18,
     "metadata": {},
     "output_type": "execute_result"
    }
   ],
   "source": [
    "with rasterio.open('ERA5-LAND_bilinear.tif') as src:\n",
    "    # Read the existing data\n",
    "    data_era5_bl = src.read()\n",
    "    \n",
    "data_era5_bl.nbytes"
   ]
  },
  {
   "cell_type": "code",
   "execution_count": null,
   "id": "70deb59c",
   "metadata": {},
   "outputs": [],
   "source": [
    "with rasterio.open(\"ERA5-LAND.tif\") as src:\n",
    "    band_name = \"volumetric_soil_water_layer_1\"\n",
    "    band_number = get_band_number_by_name(src, band_name)\n",
    "    print(band_number)\n",
    "    band = src.read(band_number)\n",
    "    # Get the coordinates of the pixels\n",
    "    rows, cols = np.indices(band.shape)\n",
    "    xs, ys = rasterio.transform.xy(src.transform, rows, cols)\n",
    "    lats = np.array(ys).flatten()\n",
    "    lons = np.array(xs).flatten()\n",
    "    values = band.flatten()\n",
    "\n",
    "    # Create a DataFrame\n",
    "    df = pd.DataFrame({\n",
    "        'latitude': lats,\n",
    "        'longitude': lons,\n",
    "        'value': values\n",
    "    })\n",
    "\n",
    "df = df.pivot_table(index='latitude', columns='longitude', values='value')\n",
    "df = df.iloc[::-1]\n",
    "# df = df/0.9\n",
    "df\n"
   ]
  },
  {
   "cell_type": "code",
   "execution_count": null,
   "id": "2a4f2c95",
   "metadata": {},
   "outputs": [],
   "source": [
    "plt.figure(figsize=(10, 8))\n",
    "# plt.imshow(pivot_df, cmap='viridis', origin='lower', extent=[-180, 180, -90, 90])\n",
    "lat_min, lat_max = df.index.min(), df.index.max()\n",
    "lon_min, lon_max = df.columns.min(), df.columns.max()\n",
    "plt.imshow(df, cmap='viridis', origin='upper', extent = [lon_min, lon_max, lat_min, lat_max])\n",
    "plt.colorbar(label='Value')\n",
    "plt.xlabel('Longitude')\n",
    "plt.ylabel('Latitude')\n",
    "plt.title('Grid Plot of Values')\n",
    "plt.show()"
   ]
  },
  {
   "cell_type": "code",
   "execution_count": null,
   "id": "d9ed3c8a",
   "metadata": {},
   "outputs": [],
   "source": [
    "c = cdsapi.Client()\n",
    "\n",
    "c.retrieve(\n",
    "    'reanalysis-era5-land-monthly-means',\n",
    "    {\n",
    "        'product_type': 'monthly_averaged_reanalysis',\n",
    "        'variable': 'volumetric_soil_water_layer_1',\n",
    "        'year': '2019',\n",
    "        'month': '01',\n",
    "        'time': '00:00',\n",
    "        'area': [\n",
    "            26.4, 88.12, 20.63,\n",
    "            92.63,\n",
    "        ],\n",
    "        'format': 'grib',\n",
    "    },\n",
    "    'era5_land_soil_moisture_test.grib')"
   ]
  },
  {
   "cell_type": "code",
   "execution_count": null,
   "id": "6f9abca6",
   "metadata": {},
   "outputs": [],
   "source": [
    "\n",
    "ds = cfgrib.open_dataset('era5_land_soil_moisture_test.grib')"
   ]
  },
  {
   "cell_type": "code",
   "execution_count": null,
   "id": "6482c091",
   "metadata": {},
   "outputs": [],
   "source": [
    "# Open the NetCDF file\n",
    "nc_file = 'input.nc'\n",
    "variable_name = 'surface_soil_moisture'\n",
    "dataset = gdal.Open(f'NETCDF:\"{new_path}\":{variable_name}')\n",
    "\n",
    "# Check if the dataset was successfully opened\n",
    "if dataset is None:\n",
    "    print(\"Failed to open the NetCDF file.\")\n",
    "else:\n",
    "    # Define the output GeoTIFF file\n",
    "    tif_file = os.path.basename(new_path).split('.')[0] + '.tif'\n",
    "    \n",
    "    # Convert the dataset to GeoTIFF format\n",
    "    gdal.Translate(tif_file, dataset, format='GTiff', noData=-9999)\n",
    "\n",
    "    print(\"Conversion complete. Output saved to\", tif_file)"
   ]
  },
  {
   "cell_type": "code",
   "execution_count": null,
   "id": "07b0d22c",
   "metadata": {},
   "outputs": [],
   "source": [
    "os.path.basename(new_path).split('.')[0] + '.tif'"
   ]
  },
  {
   "cell_type": "code",
   "execution_count": null,
   "id": "914a10a2",
   "metadata": {},
   "outputs": [],
   "source": [
    "Map = geemap.Map()\n",
    "\n",
    "# Add the GeoTIFF file to the map\n",
    "geotiff_path = 'soil_moisture_bangladesh_test_clipping.tif'\n",
    "Map.add_raster(geotiff_path, vmin=0, vmax = 100, layer_name=\"Soil_Moisture\")\n",
    "Map"
   ]
  },
  {
   "cell_type": "markdown",
   "id": "bbc71990",
   "metadata": {},
   "source": [
    "Testing sending files from local to gdrive"
   ]
  },
  {
   "cell_type": "code",
   "execution_count": null,
   "id": "bec4fa6b",
   "metadata": {},
   "outputs": [],
   "source": [
    "\n",
    "def authenticate(config_file_path=\"config.json\"):\n",
    "    \"\"\"Authenticate using PyDrive and return a GoogleDrive object.\"\"\"\n",
    "    with open(config_file_path) as config_file:\n",
    "        config = json.load(config_file)\n",
    "    google_drive_credentials_path = config['google_drive_credentials']\n",
    "    google_drive_oauth_path = config['google_drive_oauth']\n",
    "\n",
    "    gauth = GoogleAuth()\n",
    "    gauth.LoadClientConfigFile(google_drive_credentials_path)\n",
    "\n",
    "    # Try to load saved credentials\n",
    "    gauth.LoadCredentialsFile(google_drive_oauth_path)\n",
    "    if gauth.credentials is None:\n",
    "        try:\n",
    "            gauth.LocalWebserverAuth()  # Creates local webserver and auto handles authentication\n",
    "        except:\n",
    "            gauth.CommandLineAuth()  # Use this if LocalWebserverAuth fails\n",
    "        gauth.SaveCredentialsFile(google_drive_oauth_path)\n",
    "    elif gauth.access_token_expired:\n",
    "        gauth.Refresh()\n",
    "        gauth.SaveCredentialsFile(google_drive_oauth_path)\n",
    "    else:\n",
    "        gauth.Authorize()\n",
    "\n",
    "    return GoogleDrive(gauth)"
   ]
  },
  {
   "cell_type": "code",
   "execution_count": 6,
   "id": "d1a957a7",
   "metadata": {},
   "outputs": [
    {
     "data": {
      "text/html": [
       "\n",
       "            <style>\n",
       "                .geemap-dark {\n",
       "                    --jp-widgets-color: white;\n",
       "                    --jp-widgets-label-color: white;\n",
       "                    --jp-ui-font-color1: white;\n",
       "                    --jp-layout-color2: #454545;\n",
       "                    background-color: #383838;\n",
       "                }\n",
       "\n",
       "                .geemap-dark .jupyter-button {\n",
       "                    --jp-layout-color3: #383838;\n",
       "                }\n",
       "\n",
       "                .geemap-colab {\n",
       "                    background-color: var(--colab-primary-surface-color, white);\n",
       "                }\n",
       "\n",
       "                .geemap-colab .jupyter-button {\n",
       "                    --jp-layout-color3: var(--colab-primary-surface-color, white);\n",
       "                }\n",
       "            </style>\n",
       "            "
      ],
      "text/plain": [
       "<IPython.core.display.HTML object>"
      ]
     },
     "metadata": {},
     "output_type": "display_data"
    }
   ],
   "source": [
    "with open(\"config.json\") as config_file:\n",
    "    config = json.load(config_file)\n",
    "google_drive_credentials_path = config['google_drive_credentials']\n",
    "google_drive_oauth_path = config['google_drive_oauth']\n",
    "\n",
    "gauth = GoogleAuth()\n"
   ]
  },
  {
   "cell_type": "code",
   "execution_count": 9,
   "id": "4ccf98cd",
   "metadata": {},
   "outputs": [
    {
     "data": {
      "text/html": [
       "\n",
       "            <style>\n",
       "                .geemap-dark {\n",
       "                    --jp-widgets-color: white;\n",
       "                    --jp-widgets-label-color: white;\n",
       "                    --jp-ui-font-color1: white;\n",
       "                    --jp-layout-color2: #454545;\n",
       "                    background-color: #383838;\n",
       "                }\n",
       "\n",
       "                .geemap-dark .jupyter-button {\n",
       "                    --jp-layout-color3: #383838;\n",
       "                }\n",
       "\n",
       "                .geemap-colab {\n",
       "                    background-color: var(--colab-primary-surface-color, white);\n",
       "                }\n",
       "\n",
       "                .geemap-colab .jupyter-button {\n",
       "                    --jp-layout-color3: var(--colab-primary-surface-color, white);\n",
       "                }\n",
       "            </style>\n",
       "            "
      ],
      "text/plain": [
       "<IPython.core.display.HTML object>"
      ]
     },
     "metadata": {},
     "output_type": "display_data"
    },
    {
     "name": "stdout",
     "output_type": "stream",
     "text": [
      "Your browser has been opened to visit:\n",
      "\n",
      "    https://accounts.google.com/o/oauth2/auth?client_id=629975352601-slkn7n0p99o6udme02pkj26fa9vvnb28.apps.googleusercontent.com&redirect_uri=http%3A%2F%2Flocalhost%3A8080%2F&scope=https%3A%2F%2Fwww.googleapis.com%2Fauth%2Fdrive&access_type=offline&response_type=code\n",
      "\n",
      "Authentication successful.\n"
     ]
    }
   ],
   "source": [
    "gauth.LocalWebserverAuth()"
   ]
  },
  {
   "cell_type": "code",
   "execution_count": 8,
   "id": "11386b87",
   "metadata": {},
   "outputs": [
    {
     "data": {
      "text/html": [
       "\n",
       "            <style>\n",
       "                .geemap-dark {\n",
       "                    --jp-widgets-color: white;\n",
       "                    --jp-widgets-label-color: white;\n",
       "                    --jp-ui-font-color1: white;\n",
       "                    --jp-layout-color2: #454545;\n",
       "                    background-color: #383838;\n",
       "                }\n",
       "\n",
       "                .geemap-dark .jupyter-button {\n",
       "                    --jp-layout-color3: #383838;\n",
       "                }\n",
       "\n",
       "                .geemap-colab {\n",
       "                    background-color: var(--colab-primary-surface-color, white);\n",
       "                }\n",
       "\n",
       "                .geemap-colab .jupyter-button {\n",
       "                    --jp-layout-color3: var(--colab-primary-surface-color, white);\n",
       "                }\n",
       "            </style>\n",
       "            "
      ],
      "text/plain": [
       "<IPython.core.display.HTML object>"
      ]
     },
     "metadata": {},
     "output_type": "display_data"
    }
   ],
   "source": [
    "\n",
    "gauth.LoadClientConfigFile(google_drive_credentials_path)\n"
   ]
  },
  {
   "cell_type": "code",
   "execution_count": 6,
   "id": "eb5dd1e8",
   "metadata": {},
   "outputs": [
    {
     "data": {
      "text/html": [
       "\n",
       "            <style>\n",
       "                .geemap-dark {\n",
       "                    --jp-widgets-color: white;\n",
       "                    --jp-widgets-label-color: white;\n",
       "                    --jp-ui-font-color1: white;\n",
       "                    --jp-layout-color2: #454545;\n",
       "                    background-color: #383838;\n",
       "                }\n",
       "\n",
       "                .geemap-dark .jupyter-button {\n",
       "                    --jp-layout-color3: #383838;\n",
       "                }\n",
       "\n",
       "                .geemap-colab {\n",
       "                    background-color: var(--colab-primary-surface-color, white);\n",
       "                }\n",
       "\n",
       "                .geemap-colab .jupyter-button {\n",
       "                    --jp-layout-color3: var(--colab-primary-surface-color, white);\n",
       "                }\n",
       "            </style>\n",
       "            "
      ],
      "text/plain": [
       "<IPython.core.display.HTML object>"
      ]
     },
     "metadata": {},
     "output_type": "display_data"
    },
    {
     "ename": "RefreshError",
     "evalue": "Access token refresh failed: invalid_grant: Bad Request",
     "output_type": "error",
     "traceback": [
      "\u001b[0;31m---------------------------------------------------------------------------\u001b[0m",
      "\u001b[0;31mHttpAccessTokenRefreshError\u001b[0m               Traceback (most recent call last)",
      "File \u001b[0;32m~/project_flood/.venv/lib/python3.10/site-packages/pydrive/auth.py:475\u001b[0m, in \u001b[0;36mGoogleAuth.Refresh\u001b[0;34m(self)\u001b[0m\n\u001b[1;32m    474\u001b[0m \u001b[38;5;28;01mtry\u001b[39;00m:\n\u001b[0;32m--> 475\u001b[0m   \u001b[38;5;28;43mself\u001b[39;49m\u001b[38;5;241;43m.\u001b[39;49m\u001b[43mcredentials\u001b[49m\u001b[38;5;241;43m.\u001b[39;49m\u001b[43mrefresh\u001b[49m\u001b[43m(\u001b[49m\u001b[38;5;28;43mself\u001b[39;49m\u001b[38;5;241;43m.\u001b[39;49m\u001b[43mhttp\u001b[49m\u001b[43m)\u001b[49m\n\u001b[1;32m    476\u001b[0m \u001b[38;5;28;01mexcept\u001b[39;00m AccessTokenRefreshError \u001b[38;5;28;01mas\u001b[39;00m error:\n",
      "File \u001b[0;32m~/project_flood/.venv/lib/python3.10/site-packages/oauth2client/client.py:545\u001b[0m, in \u001b[0;36mOAuth2Credentials.refresh\u001b[0;34m(self, http)\u001b[0m\n\u001b[1;32m    539\u001b[0m \u001b[38;5;250m\u001b[39m\u001b[38;5;124;03m\"\"\"Forces a refresh of the access_token.\u001b[39;00m\n\u001b[1;32m    540\u001b[0m \n\u001b[1;32m    541\u001b[0m \u001b[38;5;124;03mArgs:\u001b[39;00m\n\u001b[1;32m    542\u001b[0m \u001b[38;5;124;03m    http: httplib2.Http, an http object to be used to make the refresh\u001b[39;00m\n\u001b[1;32m    543\u001b[0m \u001b[38;5;124;03m          request.\u001b[39;00m\n\u001b[1;32m    544\u001b[0m \u001b[38;5;124;03m\"\"\"\u001b[39;00m\n\u001b[0;32m--> 545\u001b[0m \u001b[38;5;28;43mself\u001b[39;49m\u001b[38;5;241;43m.\u001b[39;49m\u001b[43m_refresh\u001b[49m\u001b[43m(\u001b[49m\u001b[43mhttp\u001b[49m\u001b[43m)\u001b[49m\n",
      "File \u001b[0;32m~/project_flood/.venv/lib/python3.10/site-packages/oauth2client/client.py:761\u001b[0m, in \u001b[0;36mOAuth2Credentials._refresh\u001b[0;34m(self, http)\u001b[0m\n\u001b[1;32m    760\u001b[0m     \u001b[38;5;28;01melse\u001b[39;00m:\n\u001b[0;32m--> 761\u001b[0m         \u001b[38;5;28;43mself\u001b[39;49m\u001b[38;5;241;43m.\u001b[39;49m\u001b[43m_do_refresh_request\u001b[49m\u001b[43m(\u001b[49m\u001b[43mhttp\u001b[49m\u001b[43m)\u001b[49m\n\u001b[1;32m    762\u001b[0m \u001b[38;5;28;01mfinally\u001b[39;00m:\n",
      "File \u001b[0;32m~/project_flood/.venv/lib/python3.10/site-packages/oauth2client/client.py:819\u001b[0m, in \u001b[0;36mOAuth2Credentials._do_refresh_request\u001b[0;34m(self, http)\u001b[0m\n\u001b[1;32m    818\u001b[0m     \u001b[38;5;28;01mpass\u001b[39;00m\n\u001b[0;32m--> 819\u001b[0m \u001b[38;5;28;01mraise\u001b[39;00m HttpAccessTokenRefreshError(error_msg, status\u001b[38;5;241m=\u001b[39mresp\u001b[38;5;241m.\u001b[39mstatus)\n",
      "\u001b[0;31mHttpAccessTokenRefreshError\u001b[0m: invalid_grant: Bad Request",
      "\nDuring handling of the above exception, another exception occurred:\n",
      "\u001b[0;31mRefreshError\u001b[0m                              Traceback (most recent call last)",
      "Cell \u001b[0;32mIn[6], line 10\u001b[0m\n\u001b[1;32m      8\u001b[0m     gauth\u001b[38;5;241m.\u001b[39mSaveCredentialsFile(google_drive_oauth_path)\n\u001b[1;32m      9\u001b[0m \u001b[38;5;28;01melif\u001b[39;00m gauth\u001b[38;5;241m.\u001b[39maccess_token_expired:\n\u001b[0;32m---> 10\u001b[0m     \u001b[43mgauth\u001b[49m\u001b[38;5;241;43m.\u001b[39;49m\u001b[43mRefresh\u001b[49m\u001b[43m(\u001b[49m\u001b[43m)\u001b[49m\n\u001b[1;32m     11\u001b[0m     gauth\u001b[38;5;241m.\u001b[39mSaveCredentialsFile(google_drive_oauth_path)\n\u001b[1;32m     12\u001b[0m \u001b[38;5;28;01melse\u001b[39;00m:\n",
      "File \u001b[0;32m~/project_flood/.venv/lib/python3.10/site-packages/pydrive/auth.py:477\u001b[0m, in \u001b[0;36mGoogleAuth.Refresh\u001b[0;34m(self)\u001b[0m\n\u001b[1;32m    475\u001b[0m   \u001b[38;5;28mself\u001b[39m\u001b[38;5;241m.\u001b[39mcredentials\u001b[38;5;241m.\u001b[39mrefresh(\u001b[38;5;28mself\u001b[39m\u001b[38;5;241m.\u001b[39mhttp)\n\u001b[1;32m    476\u001b[0m \u001b[38;5;28;01mexcept\u001b[39;00m AccessTokenRefreshError \u001b[38;5;28;01mas\u001b[39;00m error:\n\u001b[0;32m--> 477\u001b[0m   \u001b[38;5;28;01mraise\u001b[39;00m RefreshError(\u001b[38;5;124m'\u001b[39m\u001b[38;5;124mAccess token refresh failed: \u001b[39m\u001b[38;5;132;01m%s\u001b[39;00m\u001b[38;5;124m'\u001b[39m \u001b[38;5;241m%\u001b[39m error)\n",
      "\u001b[0;31mRefreshError\u001b[0m: Access token refresh failed: invalid_grant: Bad Request"
     ]
    }
   ],
   "source": [
    "\n",
    "# Try to load saved credentials\n",
    "gauth.LoadCredentialsFile(google_drive_oauth_path)\n",
    "if gauth.credentials is None:\n",
    "    try:\n",
    "        gauth.LocalWebserverAuth()  # Creates local webserver and auto handles authentication\n",
    "    except:\n",
    "        gauth.CommandLineAuth()  # Use this if LocalWebserverAuth fails\n",
    "    gauth.SaveCredentialsFile(google_drive_oauth_path)\n",
    "elif gauth.access_token_expired:\n",
    "    gauth.Refresh()\n",
    "    gauth.SaveCredentialsFile(google_drive_oauth_path)\n",
    "else:\n",
    "    gauth.Authorize()"
   ]
  },
  {
   "cell_type": "code",
   "execution_count": 8,
   "id": "cb92abad",
   "metadata": {},
   "outputs": [
    {
     "data": {
      "text/html": [
       "\n",
       "            <style>\n",
       "                .geemap-dark {\n",
       "                    --jp-widgets-color: white;\n",
       "                    --jp-widgets-label-color: white;\n",
       "                    --jp-ui-font-color1: white;\n",
       "                    --jp-layout-color2: #454545;\n",
       "                    background-color: #383838;\n",
       "                }\n",
       "\n",
       "                .geemap-dark .jupyter-button {\n",
       "                    --jp-layout-color3: #383838;\n",
       "                }\n",
       "\n",
       "                .geemap-colab {\n",
       "                    background-color: var(--colab-primary-surface-color, white);\n",
       "                }\n",
       "\n",
       "                .geemap-colab .jupyter-button {\n",
       "                    --jp-layout-color3: var(--colab-primary-surface-color, white);\n",
       "                }\n",
       "            </style>\n",
       "            "
      ],
      "text/plain": [
       "<IPython.core.display.HTML object>"
      ]
     },
     "metadata": {},
     "output_type": "display_data"
    },
    {
     "ename": "RefreshError",
     "evalue": "Access token refresh failed: invalid_grant: Bad Request",
     "output_type": "error",
     "traceback": [
      "\u001b[0;31m---------------------------------------------------------------------------\u001b[0m",
      "\u001b[0;31mHttpAccessTokenRefreshError\u001b[0m               Traceback (most recent call last)",
      "File \u001b[0;32m~/project_flood/.venv/lib/python3.10/site-packages/pydrive/auth.py:475\u001b[0m, in \u001b[0;36mGoogleAuth.Refresh\u001b[0;34m(self)\u001b[0m\n\u001b[1;32m    474\u001b[0m \u001b[38;5;28;01mtry\u001b[39;00m:\n\u001b[0;32m--> 475\u001b[0m   \u001b[38;5;28;43mself\u001b[39;49m\u001b[38;5;241;43m.\u001b[39;49m\u001b[43mcredentials\u001b[49m\u001b[38;5;241;43m.\u001b[39;49m\u001b[43mrefresh\u001b[49m\u001b[43m(\u001b[49m\u001b[38;5;28;43mself\u001b[39;49m\u001b[38;5;241;43m.\u001b[39;49m\u001b[43mhttp\u001b[49m\u001b[43m)\u001b[49m\n\u001b[1;32m    476\u001b[0m \u001b[38;5;28;01mexcept\u001b[39;00m AccessTokenRefreshError \u001b[38;5;28;01mas\u001b[39;00m error:\n",
      "File \u001b[0;32m~/project_flood/.venv/lib/python3.10/site-packages/oauth2client/client.py:545\u001b[0m, in \u001b[0;36mOAuth2Credentials.refresh\u001b[0;34m(self, http)\u001b[0m\n\u001b[1;32m    539\u001b[0m \u001b[38;5;250m\u001b[39m\u001b[38;5;124;03m\"\"\"Forces a refresh of the access_token.\u001b[39;00m\n\u001b[1;32m    540\u001b[0m \n\u001b[1;32m    541\u001b[0m \u001b[38;5;124;03mArgs:\u001b[39;00m\n\u001b[1;32m    542\u001b[0m \u001b[38;5;124;03m    http: httplib2.Http, an http object to be used to make the refresh\u001b[39;00m\n\u001b[1;32m    543\u001b[0m \u001b[38;5;124;03m          request.\u001b[39;00m\n\u001b[1;32m    544\u001b[0m \u001b[38;5;124;03m\"\"\"\u001b[39;00m\n\u001b[0;32m--> 545\u001b[0m \u001b[38;5;28;43mself\u001b[39;49m\u001b[38;5;241;43m.\u001b[39;49m\u001b[43m_refresh\u001b[49m\u001b[43m(\u001b[49m\u001b[43mhttp\u001b[49m\u001b[43m)\u001b[49m\n",
      "File \u001b[0;32m~/project_flood/.venv/lib/python3.10/site-packages/oauth2client/client.py:761\u001b[0m, in \u001b[0;36mOAuth2Credentials._refresh\u001b[0;34m(self, http)\u001b[0m\n\u001b[1;32m    760\u001b[0m     \u001b[38;5;28;01melse\u001b[39;00m:\n\u001b[0;32m--> 761\u001b[0m         \u001b[38;5;28;43mself\u001b[39;49m\u001b[38;5;241;43m.\u001b[39;49m\u001b[43m_do_refresh_request\u001b[49m\u001b[43m(\u001b[49m\u001b[43mhttp\u001b[49m\u001b[43m)\u001b[49m\n\u001b[1;32m    762\u001b[0m \u001b[38;5;28;01mfinally\u001b[39;00m:\n",
      "File \u001b[0;32m~/project_flood/.venv/lib/python3.10/site-packages/oauth2client/client.py:819\u001b[0m, in \u001b[0;36mOAuth2Credentials._do_refresh_request\u001b[0;34m(self, http)\u001b[0m\n\u001b[1;32m    818\u001b[0m     \u001b[38;5;28;01mpass\u001b[39;00m\n\u001b[0;32m--> 819\u001b[0m \u001b[38;5;28;01mraise\u001b[39;00m HttpAccessTokenRefreshError(error_msg, status\u001b[38;5;241m=\u001b[39mresp\u001b[38;5;241m.\u001b[39mstatus)\n",
      "\u001b[0;31mHttpAccessTokenRefreshError\u001b[0m: invalid_grant: Bad Request",
      "\nDuring handling of the above exception, another exception occurred:\n",
      "\u001b[0;31mRefreshError\u001b[0m                              Traceback (most recent call last)",
      "Cell \u001b[0;32mIn[8], line 2\u001b[0m\n\u001b[1;32m      1\u001b[0m gauth\u001b[38;5;241m.\u001b[39mLoadCredentialsFile(google_drive_oauth_path)\n\u001b[0;32m----> 2\u001b[0m \u001b[43mgauth\u001b[49m\u001b[38;5;241;43m.\u001b[39;49m\u001b[43mLocalWebserverAuth\u001b[49m\u001b[43m(\u001b[49m\u001b[43m)\u001b[49m\n",
      "File \u001b[0;32m~/project_flood/.venv/lib/python3.10/site-packages/pydrive/auth.py:120\u001b[0m, in \u001b[0;36mCheckAuth.<locals>._decorated\u001b[0;34m(self, *args, **kwargs)\u001b[0m\n\u001b[1;32m    118\u001b[0m \u001b[38;5;28;01mif\u001b[39;00m \u001b[38;5;28mself\u001b[39m\u001b[38;5;241m.\u001b[39maccess_token_expired:\n\u001b[1;32m    119\u001b[0m   \u001b[38;5;28;01mif\u001b[39;00m \u001b[38;5;28mself\u001b[39m\u001b[38;5;241m.\u001b[39mcredentials\u001b[38;5;241m.\u001b[39mrefresh_token \u001b[38;5;129;01mis\u001b[39;00m \u001b[38;5;129;01mnot\u001b[39;00m \u001b[38;5;28;01mNone\u001b[39;00m:\n\u001b[0;32m--> 120\u001b[0m     \u001b[38;5;28;43mself\u001b[39;49m\u001b[38;5;241;43m.\u001b[39;49m\u001b[43mRefresh\u001b[49m\u001b[43m(\u001b[49m\u001b[43m)\u001b[49m\n\u001b[1;32m    121\u001b[0m   \u001b[38;5;28;01melse\u001b[39;00m:\n\u001b[1;32m    122\u001b[0m     code \u001b[38;5;241m=\u001b[39m decoratee(\u001b[38;5;28mself\u001b[39m, \u001b[38;5;241m*\u001b[39margs, \u001b[38;5;241m*\u001b[39m\u001b[38;5;241m*\u001b[39mkwargs)\n",
      "File \u001b[0;32m~/project_flood/.venv/lib/python3.10/site-packages/pydrive/auth.py:477\u001b[0m, in \u001b[0;36mGoogleAuth.Refresh\u001b[0;34m(self)\u001b[0m\n\u001b[1;32m    475\u001b[0m   \u001b[38;5;28mself\u001b[39m\u001b[38;5;241m.\u001b[39mcredentials\u001b[38;5;241m.\u001b[39mrefresh(\u001b[38;5;28mself\u001b[39m\u001b[38;5;241m.\u001b[39mhttp)\n\u001b[1;32m    476\u001b[0m \u001b[38;5;28;01mexcept\u001b[39;00m AccessTokenRefreshError \u001b[38;5;28;01mas\u001b[39;00m error:\n\u001b[0;32m--> 477\u001b[0m   \u001b[38;5;28;01mraise\u001b[39;00m RefreshError(\u001b[38;5;124m'\u001b[39m\u001b[38;5;124mAccess token refresh failed: \u001b[39m\u001b[38;5;132;01m%s\u001b[39;00m\u001b[38;5;124m'\u001b[39m \u001b[38;5;241m%\u001b[39m error)\n",
      "\u001b[0;31mRefreshError\u001b[0m: Access token refresh failed: invalid_grant: Bad Request"
     ]
    }
   ],
   "source": [
    "gauth.LoadCredentialsFile(google_drive_oauth_path)\n",
    "gauth.LocalWebserverAuth()"
   ]
  },
  {
   "cell_type": "code",
   "execution_count": null,
   "id": "a977fd0d",
   "metadata": {},
   "outputs": [],
   "source": [
    "\n",
    "# Get folder id from config\n",
    "with open('config.json') as config_file:\n",
    "    config = json.load(config_file)\n",
    "folder_id = config['soil_moisture_folder_id']\n",
    "\n",
    "# drive = GoogleDrive(gauth)\n",
    "drive = authenticate('config.json')\n",
    "\n",
    "\n",
    "file_name = os.path.basename(\"./download.nc\")\n",
    "overwrite=True\n",
    "if overwrite:\n",
    "    # Search for the file with the same name in the target folder; delete if it exists\n",
    "    file_list = drive.ListFile({'q': f\"title = '{file_name}' and '{folder_id}' in parents and trashed=false\"}).GetList()\n",
    "    for file in file_list:\n",
    "        file.Delete()\n",
    "\n",
    "file = drive.CreateFile({'title': file_name, 'parents': [{'id': folder_id}]})\n",
    "file.SetContentFile(\"./download.nc\")\n",
    "file.Upload()\n",
    "file = None"
   ]
  },
  {
   "cell_type": "markdown",
   "id": "6b507e50",
   "metadata": {},
   "source": [
    "Testing moving files from shared to personal GDrive"
   ]
  },
  {
   "cell_type": "code",
   "execution_count": null,
   "id": "59ee451e",
   "metadata": {},
   "outputs": [],
   "source": [
    "\"\"\"List files shared with the user.\"\"\"\n",
    "file_list = drive.ListFile({'q': \"'me' in owners\"}).GetList()\n",
    "file_list"
   ]
  },
  {
   "cell_type": "code",
   "execution_count": null,
   "id": "c11f26e6",
   "metadata": {},
   "outputs": [],
   "source": [
    "timestamp = pd.Timestamp('2024-06-26')\n",
    "\n",
    "start_time = timestamp - pd.Timedelta(days=2)\n",
    "end_time = timestamp + pd.Timedelta(days=1)\n",
    "\n",
    "timestamps = pd.date_range(start=start_time, end=end_time, freq='3h')\n",
    "timestamps = timestamps.tolist()[:-1]\n",
    "\n",
    "\n",
    "print(f\"{timestamps[3].hour:02}\", timestamps[0], timestamps[0].year)"
   ]
  },
  {
   "cell_type": "code",
   "execution_count": null,
   "id": "4b918660",
   "metadata": {},
   "outputs": [],
   "source": [
    "def generate_timestamps(date, days_before: int, days_after: int):\n",
    "    start_time = date - pd.Timedelta(days=days_before)\n",
    "    end_time = date + pd.Timedelta(days=days_after)\n",
    "\n",
    "    timestamps = pd.date_range(start=start_time, end=end_time, freq='3h')\n",
    "    # don't include final forecast as it takes us into day t+days_after+1\n",
    "    return timestamps.tolist()[:-1]\n",
    "\n",
    "def convert_date_to_MSWEP_file_name(timestamp):\n",
    "    return f\"{timestamp.year}{timestamp.dayofyear}.{timestamp.hour:02}.nc\"\n",
    "\n",
    "def generate_files_of_interest(timestamps):\n",
    "    return [convert_date_to_MSWEP_file_name(timestamp) for timestamp in timestamps]\n",
    "\n",
    "timestamp = pd.Timestamp('2014-06-26')\n",
    "timestamps = generate_timestamps(timestamp, 2, 1)\n",
    "file_names = generate_files_of_interest(timestamps)\n",
    "\n",
    "with open(\"config.json\") as config_file:\n",
    "    config = json.load(config_file)\n",
    "folder_id = config['MSWEP_Past_3hr_folder_id']\n",
    "\n",
    "# query = f\"title='{file_names[0]}' and '{folder_id}' in parents\"\n",
    "# query\n"
   ]
  },
  {
   "cell_type": "code",
   "execution_count": null,
   "id": "4a54263d",
   "metadata": {},
   "outputs": [],
   "source": [
    "files = []\n",
    "for file_name in file_names:\n",
    "    query = f\"title='{file_name}' and '{folder_id}' in parents\"\n",
    "    file_list = drive.ListFile({'q': query}).GetList()\n",
    "    files.extend(file_list)"
   ]
  },
  {
   "cell_type": "code",
   "execution_count": null,
   "id": "dfe09e2c",
   "metadata": {},
   "outputs": [],
   "source": [
    "print(type(files[0]))\n",
    "# files[0].GetContentFile(file_names[0])\n",
    "files[0]['id']\n",
    "# files[0].keys()"
   ]
  },
  {
   "cell_type": "code",
   "execution_count": null,
   "id": "e4e2a573",
   "metadata": {},
   "outputs": [],
   "source": [
    "new_file = drive.CreateFile({'id': files[0]['id']})\n",
    "new_path = os.path.join(\"./data/temp\", f\"{timestamp.year}{timestamp.dayofyear}.{timestamp.hour:02}.nc\")\n",
    "temp_path = os.path.join(\"./data/temp\", f\"{timestamp.year}{timestamp.dayofyear}.{timestamp.hour:02}_tmp.nc\")\n",
    "new_file.GetContentFile(new_path)\n",
    "\n",
    "data = xr.open_dataset(new_path, engine=\"netcdf4\")\n",
    "data"
   ]
  },
  {
   "cell_type": "code",
   "execution_count": null,
   "id": "ca902e29",
   "metadata": {},
   "outputs": [],
   "source": [
    "geojson = [mapping(polygon)] # Use GeoJSON of the shape\n",
    "with xr.open_dataset(new_path, engine=\"netcdf4\") as data:\n",
    "    data = data['precipitation']\n",
    "    data.rio.set_spatial_dims('lon', 'lat', inplace=True)\n",
    "    data.rio.write_crs(\"EPSG:4326\", inplace=True)\n",
    "    \n",
    "    data_clipped = data.rio.clip(geojson, all_touched=True)\n",
    "\n",
    "data_clipped.to_netcdf(temp_path, mode='w')\n",
    "os.remove(new_path)\n",
    "os.rename(temp_path, new_path)"
   ]
  },
  {
   "cell_type": "code",
   "execution_count": null,
   "id": "445676c1",
   "metadata": {},
   "outputs": [],
   "source": [
    "data_clipped.to_netcdf(new_path, mode='w')"
   ]
  },
  {
   "cell_type": "code",
   "execution_count": null,
   "id": "3e179f3b",
   "metadata": {},
   "outputs": [],
   "source": [
    "with open(\"config.json\") as config_file:\n",
    "    config = json.load(config_file)\n",
    "target_folder_id = config['bangladesh_rainfall_folder_id']\n",
    "\n",
    "file = files[0]\n",
    "file.FetchMetadata()  # Get the file metadata\n",
    "copied_file = drive.CreateFile({\n",
    "    'title': file['title'],\n",
    "    'parents': [{'id': target_folder_id}],\n",
    "    'mimeType': file['mimeType']\n",
    "})\n",
    "\n",
    "# Copy the content\n",
    "copied_file.SetContentString(file.GetContentString())\n",
    "copied_file.Upload()\n",
    "\n",
    "# copied_file = drive.CreateFile({'title': file_name, 'parents': [{'id': folder_id}]})\n",
    "# copied_file.SetContentFile(file)\n",
    "# copied_file.Upload()"
   ]
  },
  {
   "cell_type": "markdown",
   "id": "e3288bc6",
   "metadata": {},
   "source": [
    "GDAL testing"
   ]
  },
  {
   "cell_type": "code",
   "execution_count": null,
   "id": "0542473f",
   "metadata": {},
   "outputs": [],
   "source": [
    "# 2020365.21.nc\n",
    "\n",
    "# Path to your NetCDF file\n",
    "netcdf_file = '2020365.21.nc'\n",
    "output_tif_file = 'gdal_testing.tif'\n",
    "dataset = gdal.Open('NETCDF:\"{}\":precipitation'.format(netcdf_file))\n",
    "# dataset\n",
    "\n",
    "driver = gdal.GetDriverByName('GTiff')\n",
    "output_dataset = driver.CreateCopy(output_tif_file, dataset, 0)\n",
    "\n",
    "output_dataset.SetProjection('EPSG:4326')\n",
    "\n",
    "dataset = None\n",
    "output_dataset = None\n",
    "\n",
    "print(f\"Converted {netcdf_file} to {output_tif_file} with EPSG:4326\")"
   ]
  },
  {
   "cell_type": "markdown",
   "id": "05ba05d1",
   "metadata": {},
   "source": [
    "Upsampling"
   ]
  },
  {
   "cell_type": "code",
   "execution_count": null,
   "id": "c196a736",
   "metadata": {},
   "outputs": [],
   "source": [
    "from rasterio.warp import calculate_default_transform, reproject, Resampling\n",
    "\n",
    "# File paths\n",
    "file_path_1 = 'BangladeshFloodedCombo.tif'\n",
    "# BangladeshFloodedCombo\n",
    "# ERA5-LAND_withmask\n",
    "file_path_2 = 'precipitation_data_Bangladesh.tif'\n",
    "output_path = 'upsampled_precipitation_data_Bangladesh.tif'\n",
    "\n",
    "# Open the first image to get its resolution\n",
    "image_1 = rasterio.open(file_path_1)\n",
    "resolution_1 = image_1.res\n",
    "print(resolution_1)\n",
    "\n",
    "# Open the second image to resample\n",
    "image_2 = rasterio.open(file_path_2)\n",
    "resolution_2 = image_2.res\n",
    "print(resolution_2)\n",
    "print(image_1.crs)\n",
    "print(image_2.crs)\n",
    "print(image_1.width)\n",
    "print(image_1.height)\n",
    "print(*image_1.bounds)\n",
    "print(image_1.transform)\n",
    "print(image_1.meta)\n",
    "print(image_2.meta)\n"
   ]
  },
  {
   "cell_type": "code",
   "execution_count": null,
   "id": "21a4f7e1",
   "metadata": {},
   "outputs": [],
   "source": [
    "with rasterio.open('precipitation_data_Bangladesh_new.tif') as src:\n",
    "    \n",
    "    src_transform = src.transform\n",
    "    data = src.read()\n",
    "    print(data.shape)\n",
    "    with rasterio.open('BangladeshFloodedCombo_MASTER.tif') as target:\n",
    "        target_transform = target.transform\n",
    "        target_width = target.width\n",
    "        target_height = target.height\n",
    "        kwargs = src.meta\n",
    "        kwargs.update({\n",
    "            'height': target_height,\n",
    "            'width': target_width,\n",
    "            'transform': target_transform\n",
    "        })\n",
    "    # print(kwargs)\n",
    "    with rasterio.open('precipitation_upsampled_no_compress.tif', 'w', **kwargs) as dst:\n",
    "\n",
    "        for i, band in enumerate(data, 1):\n",
    "            dest = np.zeros((target_height, target_width), dtype=np.float32)\n",
    "\n",
    "            reproject(\n",
    "                source=band,\n",
    "                destination=dest,\n",
    "                src_transform=src_transform,\n",
    "                src_crs=src.crs,\n",
    "                dst_transform=target_transform,\n",
    "                dst_crs=src.crs,\n",
    "                resampling=Resampling.bilinear)\n",
    "            print(dest.shape)\n",
    "            print(dest.max())\n",
    "\n",
    "\n",
    "            dst.write(dest, indexes=i)\n",
    "    \n",
    "print(data.max())\n"
   ]
  },
  {
   "cell_type": "code",
   "execution_count": 4,
   "id": "7f0b9047",
   "metadata": {},
   "outputs": [
    {
     "data": {
      "text/html": [
       "\n",
       "            <style>\n",
       "                .geemap-dark {\n",
       "                    --jp-widgets-color: white;\n",
       "                    --jp-widgets-label-color: white;\n",
       "                    --jp-ui-font-color1: white;\n",
       "                    --jp-layout-color2: #454545;\n",
       "                    background-color: #383838;\n",
       "                }\n",
       "\n",
       "                .geemap-dark .jupyter-button {\n",
       "                    --jp-layout-color3: #383838;\n",
       "                }\n",
       "\n",
       "                .geemap-colab {\n",
       "                    background-color: var(--colab-primary-surface-color, white);\n",
       "                }\n",
       "\n",
       "                .geemap-colab .jupyter-button {\n",
       "                    --jp-layout-color3: var(--colab-primary-surface-color, white);\n",
       "                }\n",
       "            </style>\n",
       "            "
      ],
      "text/plain": [
       "<IPython.core.display.HTML object>"
      ]
     },
     "metadata": {},
     "output_type": "display_data"
    },
    {
     "name": "stdout",
     "output_type": "stream",
     "text": [
      "168850.8\n",
      "{'driver': 'GTiff', 'dtype': 'uint16', 'nodata': 0.0, 'width': 2044, 'height': 2573, 'count': 1, 'crs': CRS.from_epsg(4326), 'transform': Affine(0.002245788210298804, 0.0, 88.08430518433968,\n",
      "       0.0, -0.002245788210298804, 26.44864775268901)}\n",
      "65535\n"
     ]
    }
   ],
   "source": [
    "\n",
    "with rasterio.open('2007174.06.tif', 'r') as src:\n",
    "    data = src.read(1)  # Assuming it is a single band raster\n",
    "    data = data * 10000\n",
    "    print(data.max())\n",
    "    data = data.astype(np.uint16)\n",
    "    \n",
    "    \n",
    "    new_meta = src.meta.copy()\n",
    "    new_meta.update({\n",
    "        'dtype': 'uint16',\n",
    "        'nodata': 0,\n",
    "        'compress': 'lzw'\n",
    "    })\n",
    "\n",
    "    with rasterio.open('2007174.06_no_compress.tif', 'w', **new_meta) as dst:\n",
    "        dst.write(data, 1)\n",
    "\n",
    "# Verify the dtype of the new file\n",
    "with rasterio.open('2007174.06_no_compress.tif') as new_src:\n",
    "    print(new_src.meta)\n",
    "    new_data = new_src.read()\n",
    "\n",
    "print(new_data.max())"
   ]
  },
  {
   "cell_type": "code",
   "execution_count": null,
   "id": "24987407",
   "metadata": {},
   "outputs": [],
   "source": [
    "with rasterio.open('precipitation_upsampled_no_compress.tif', 'r+') as src:\n",
    "    # Read the existing data\n",
    "    data = src.read()\n",
    "    \n",
    "data.min()"
   ]
  },
  {
   "cell_type": "code",
   "execution_count": null,
   "id": "aa1f447b",
   "metadata": {},
   "outputs": [],
   "source": [
    "with rasterio.open('precipitation_upsampled.tif') as data:\n",
    "    dataset = data.read()\n",
    "\n",
    "print(np.isnan(dataset).any())"
   ]
  },
  {
   "cell_type": "code",
   "execution_count": null,
   "id": "fa279328",
   "metadata": {},
   "outputs": [],
   "source": [
    "import numpy as np\n",
    "from rasterio.warp import reproject, Resampling\n",
    "\n",
    "# File paths\n",
    "source_path = 'precipitation_data_Bangladesh_new.tif'\n",
    "target_path = 'precipitation_upsampled.tif'\n",
    "\n",
    "# Open source file\n",
    "with rasterio.open(source_path) as src:\n",
    "    src_transform = src.transform\n",
    "    data = src.read()\n",
    "    src_crs = src.crs\n",
    "    src_meta = src.meta\n",
    "    \n",
    "    # Open target file to get target dimensions and transform\n",
    "    with rasterio.open('BangladeshFloodedCombo_MASTER.tif') as target:\n",
    "        target_transform = target.transform\n",
    "        target_width = target.width\n",
    "        target_height = target.height\n",
    "        target_crs = target.crs\n",
    "        \n",
    "        # Update metadata for the new file\n",
    "        kwargs = src.meta\n",
    "        kwargs.update({\n",
    "            'height': target_height,\n",
    "            'width': target_width,\n",
    "            'transform': target_transform,\n",
    "            'crs': target_crs,\n",
    "            'compress': 'lzw'\n",
    "        })\n",
    "        print(kwargs)\n",
    "\n",
    "    \n",
    "    with rasterio.open(target_path, 'w', **kwargs) as dst:\n",
    "        for i, band in enumerate(data, 1): # Go through bands\n",
    "            dest = np.zeros((target_height, target_width), dtype=np.float32)\n",
    "            \n",
    "            reproject(\n",
    "                source=band,\n",
    "                destination=dest,\n",
    "                src_transform=src_transform,\n",
    "                src_crs=src_crs,\n",
    "                dst_transform=target_transform,\n",
    "                dst_crs=target_crs,\n",
    "                resampling=Resampling.bilinear\n",
    "            )\n",
    "            print(dest)\n",
    "            # data[i-1] = dest\n",
    "            dst.write(dest, indexes=i)\n",
    "\n"
   ]
  },
  {
   "cell_type": "code",
   "execution_count": null,
   "id": "c9166520",
   "metadata": {},
   "outputs": [],
   "source": [
    "# File paths\n",
    "file_path_1 = 'BangladeshFloodedCombo_MASTER.tif'\n",
    "\n",
    "# Open the first image to get its resolution\n",
    "with rasterio.open(file_path_1) as image_1:\n",
    "    resolution_1 = image_1.res\n",
    "    profile_1 = image_1.profile\n",
    "\n",
    "\n",
    "print(profile_1)\n",
    "print(type(profile_1['transform']))\n",
    "print(\"a:\", profile_1['transform'].a)\n",
    "print(\"b:\", profile_1['transform'].b)\n",
    "print(\"c:\", profile_1['transform'].c)\n",
    "print(\"d:\", profile_1['transform'].d)\n",
    "print(\"tx (e):\", profile_1['transform'].e)\n",
    "print(\"ty (f):\", profile_1['transform'].f)\n"
   ]
  },
  {
   "cell_type": "code",
   "execution_count": null,
   "id": "efe29042",
   "metadata": {},
   "outputs": [],
   "source": [
    "from rasterio.enums import Resampling\n",
    "\n",
    "# File paths\n",
    "input_file_path = 'ERA5-LAND_withmask.tif'\n",
    "output_file_path = 'ERA5-LAND_withmask_readable.tif'\n",
    "\n",
    "# Open the input image\n",
    "with rasterio.open(input_file_path) as src:\n",
    "    # Read the image data\n",
    "    data = src.read()\n",
    "\n",
    "    # Normalize the data for 8-bit conversion\n",
    "    data_min = data.min()\n",
    "    data_max = data.max()\n",
    "    data = (data - data_min) / (data_max - data_min) * 255\n",
    "    data = data.astype(np.float16)\n",
    "    \n",
    "    # Define a new profile with updated dtype and count\n",
    "    profile = src.profile\n",
    "    profile.update(dtype=rasterio.uint8, count=data.shape[0])\n",
    "\n",
    "    # Save the new image as a readable TIFF\n",
    "    with rasterio.open(output_file_path, 'w', **profile) as dst:\n",
    "        dst.write(data)\n",
    "\n",
    "print(f\"Readable TIFF image saved as {output_file_path}\")\n"
   ]
  },
  {
   "cell_type": "markdown",
   "id": "22456cf9",
   "metadata": {},
   "source": [
    "Affine transformations"
   ]
  },
  {
   "cell_type": "code",
   "execution_count": null,
   "id": "c4707c59",
   "metadata": {},
   "outputs": [],
   "source": [
    "# Open the second GeoTIFF file\n",
    "file_path_2 = 'BangladeshFloodedCombo.tif'\n",
    "# upsampled_precipitation_data_Bangladesh_scipy_new\n",
    "# ERA5-LAND_withmask_readable\n",
    "# BangladeshFloodedCombo\n",
    "dataset_2 = rasterio.open(file_path_2)\n",
    "\n",
    "# Extract the metadata\n",
    "metadata_2 = dataset_2.meta\n",
    "band_count_2 = dataset_2.count\n",
    "bounds_2 = dataset_2.bounds\n",
    "crs_2 = dataset_2.crs\n",
    "transform_2 = dataset_2.transform\n",
    "\n",
    "metadata_summary_2 = {\n",
    "    \"Driver\": metadata_2['driver'],\n",
    "    \"Width\": metadata_2['width'],\n",
    "    \"Height\": metadata_2['height'],\n",
    "    \"Count of Bands\": band_count_2,\n",
    "    \"Dtype\": metadata_2['dtype'],\n",
    "    \"Bounds\": bounds_2,\n",
    "    \"Coordinate Reference System\": crs_2,\n",
    "    \"Transform\": transform_2\n",
    "}\n",
    "\n",
    "metadata_summary_2\n"
   ]
  },
  {
   "cell_type": "code",
   "execution_count": 10,
   "id": "cdbdc3b4",
   "metadata": {},
   "outputs": [
    {
     "data": {
      "text/html": [
       "\n",
       "            <style>\n",
       "                .geemap-dark {\n",
       "                    --jp-widgets-color: white;\n",
       "                    --jp-widgets-label-color: white;\n",
       "                    --jp-ui-font-color1: white;\n",
       "                    --jp-layout-color2: #454545;\n",
       "                    background-color: #383838;\n",
       "                }\n",
       "\n",
       "                .geemap-dark .jupyter-button {\n",
       "                    --jp-layout-color3: #383838;\n",
       "                }\n",
       "\n",
       "                .geemap-colab {\n",
       "                    background-color: var(--colab-primary-surface-color, white);\n",
       "                }\n",
       "\n",
       "                .geemap-colab .jupyter-button {\n",
       "                    --jp-layout-color3: var(--colab-primary-surface-color, white);\n",
       "                }\n",
       "            </style>\n",
       "            "
      ],
      "text/plain": [
       "<IPython.core.display.HTML object>"
      ]
     },
     "metadata": {},
     "output_type": "display_data"
    },
    {
     "data": {
      "text/plain": [
       "[Timestamp('2002-03-15 00:00:00'),\n",
       " Timestamp('2007-02-04 00:00:00'),\n",
       " Timestamp('2008-01-24 00:00:00'),\n",
       " Timestamp('2011-03-06 00:00:00'),\n",
       " Timestamp('2014-03-17 00:00:00'),\n",
       " Timestamp('2017-03-17 00:00:00'),\n",
       " Timestamp('2014-01-28 00:00:00'),\n",
       " Timestamp('2013-03-16 00:00:00'),\n",
       " Timestamp('2016-03-11 00:00:00'),\n",
       " Timestamp('2003-03-18 00:00:00'),\n",
       " Timestamp('2009-01-11 00:00:00'),\n",
       " Timestamp('2016-02-12 00:00:00'),\n",
       " Timestamp('2008-02-11 00:00:00'),\n",
       " Timestamp('2007-01-31 00:00:00'),\n",
       " Timestamp('2015-03-27 00:00:00'),\n",
       " Timestamp('2006-02-26 00:00:00'),\n",
       " Timestamp('2011-02-11 00:00:00'),\n",
       " Timestamp('2003-03-15 00:00:00'),\n",
       " Timestamp('2016-03-22 00:00:00'),\n",
       " Timestamp('2012-03-15 00:00:00'),\n",
       " Timestamp('2018-03-02 00:00:00'),\n",
       " Timestamp('2018-04-13 00:00:00'),\n",
       " Timestamp('2012-03-09 00:00:00'),\n",
       " Timestamp('2012-04-10 00:00:00'),\n",
       " Timestamp('2005-03-22 00:00:00'),\n",
       " Timestamp('2013-01-26 00:00:00'),\n",
       " Timestamp('2018-02-04 00:00:00'),\n",
       " Timestamp('2018-03-21 00:00:00'),\n",
       " Timestamp('2002-01-19 00:00:00'),\n",
       " Timestamp('2018-01-13 00:00:00'),\n",
       " Timestamp('2002-03-09 00:00:00'),\n",
       " Timestamp('2013-02-25 00:00:00'),\n",
       " Timestamp('2006-02-16 00:00:00'),\n",
       " Timestamp('2008-03-26 00:00:00'),\n",
       " Timestamp('2011-04-04 00:00:00'),\n",
       " Timestamp('2008-01-27 00:00:00'),\n",
       " Timestamp('2007-04-07 00:00:00'),\n",
       " Timestamp('2002-04-05 00:00:00'),\n",
       " Timestamp('2010-02-28 00:00:00'),\n",
       " Timestamp('2012-02-15 00:00:00')]"
      ]
     },
     "execution_count": 10,
     "metadata": {},
     "output_type": "execute_result"
    }
   ],
   "source": [
    "a = pd.read_csv(\"to_rerun.csv\", header=None)\n",
    "a = list(a.values.flatten())\n",
    "a = [pd.Timestamp(i) for i in a]\n",
    "a"
   ]
  },
  {
   "cell_type": "code",
   "execution_count": 11,
   "id": "7ef168c3",
   "metadata": {},
   "outputs": [
    {
     "data": {
      "text/html": [
       "\n",
       "            <style>\n",
       "                .geemap-dark {\n",
       "                    --jp-widgets-color: white;\n",
       "                    --jp-widgets-label-color: white;\n",
       "                    --jp-ui-font-color1: white;\n",
       "                    --jp-layout-color2: #454545;\n",
       "                    background-color: #383838;\n",
       "                }\n",
       "\n",
       "                .geemap-dark .jupyter-button {\n",
       "                    --jp-layout-color3: #383838;\n",
       "                }\n",
       "\n",
       "                .geemap-colab {\n",
       "                    background-color: var(--colab-primary-surface-color, white);\n",
       "                }\n",
       "\n",
       "                .geemap-colab .jupyter-button {\n",
       "                    --jp-layout-color3: var(--colab-primary-surface-color, white);\n",
       "                }\n",
       "            </style>\n",
       "            "
      ],
      "text/plain": [
       "<IPython.core.display.HTML object>"
      ]
     },
     "metadata": {},
     "output_type": "display_data"
    },
    {
     "data": {
      "text/plain": [
       "'2002074.00.nc'"
      ]
     },
     "execution_count": 11,
     "metadata": {},
     "output_type": "execute_result"
    }
   ],
   "source": [
    "def convert_date_to_MSWEP_file_name(timestamp: pd.Timestamp):\n",
    "    return f\"{timestamp.year}{timestamp.dayofyear:03}.{timestamp.hour:02}.nc\"\n",
    "\n",
    "convert_date_to_MSWEP_file_name(a[0])"
   ]
  },
  {
   "cell_type": "code",
   "execution_count": 12,
   "id": "415cc840",
   "metadata": {},
   "outputs": [
    {
     "data": {
      "text/html": [
       "\n",
       "            <style>\n",
       "                .geemap-dark {\n",
       "                    --jp-widgets-color: white;\n",
       "                    --jp-widgets-label-color: white;\n",
       "                    --jp-ui-font-color1: white;\n",
       "                    --jp-layout-color2: #454545;\n",
       "                    background-color: #383838;\n",
       "                }\n",
       "\n",
       "                .geemap-dark .jupyter-button {\n",
       "                    --jp-layout-color3: #383838;\n",
       "                }\n",
       "\n",
       "                .geemap-colab {\n",
       "                    background-color: var(--colab-primary-surface-color, white);\n",
       "                }\n",
       "\n",
       "                .geemap-colab .jupyter-button {\n",
       "                    --jp-layout-color3: var(--colab-primary-surface-color, white);\n",
       "                }\n",
       "            </style>\n",
       "            "
      ],
      "text/plain": [
       "<IPython.core.display.HTML object>"
      ]
     },
     "metadata": {},
     "output_type": "display_data"
    },
    {
     "name": "stdout",
     "output_type": "stream",
     "text": [
      "Your browser has been opened to visit:\n",
      "\n",
      "    https://accounts.google.com/o/oauth2/auth?client_id=629975352601-slkn7n0p99o6udme02pkj26fa9vvnb28.apps.googleusercontent.com&redirect_uri=http%3A%2F%2Flocalhost%3A8080%2F&scope=https%3A%2F%2Fwww.googleapis.com%2Fauth%2Fdrive&access_type=offline&response_type=code\n",
      "\n",
      "Authentication successful.\n"
     ]
    }
   ],
   "source": [
    "gauth = GoogleAuth()\n",
    "with open(\"config.json\") as config_file:\n",
    "    config = json.load(config_file)\n",
    "google_drive_credentials_path = config['google_drive_credentials']\n",
    "google_drive_oauth_path = config['google_drive_oauth']\n",
    "gauth.LoadClientConfigFile(google_drive_credentials_path)\n",
    "gauth.LocalWebserverAuth()\n",
    "drive = GoogleDrive(gauth)"
   ]
  },
  {
   "cell_type": "code",
   "execution_count": 16,
   "id": "d2445bc1",
   "metadata": {},
   "outputs": [
    {
     "data": {
      "text/html": [
       "\n",
       "            <style>\n",
       "                .geemap-dark {\n",
       "                    --jp-widgets-color: white;\n",
       "                    --jp-widgets-label-color: white;\n",
       "                    --jp-ui-font-color1: white;\n",
       "                    --jp-layout-color2: #454545;\n",
       "                    background-color: #383838;\n",
       "                }\n",
       "\n",
       "                .geemap-dark .jupyter-button {\n",
       "                    --jp-layout-color3: #383838;\n",
       "                }\n",
       "\n",
       "                .geemap-colab {\n",
       "                    background-color: var(--colab-primary-surface-color, white);\n",
       "                }\n",
       "\n",
       "                .geemap-colab .jupyter-button {\n",
       "                    --jp-layout-color3: var(--colab-primary-surface-color, white);\n",
       "                }\n",
       "            </style>\n",
       "            "
      ],
      "text/plain": [
       "<IPython.core.display.HTML object>"
      ]
     },
     "metadata": {},
     "output_type": "display_data"
    },
    {
     "data": {
      "text/plain": [
       "[GoogleDriveFile({'kind': 'drive#file', 'userPermission': {'id': 'me', 'type': 'user', 'role': 'reader', 'kind': 'drive#permission', 'selfLink': 'https://www.googleapis.com/drive/v2/files/17T5mCJMnxrxCrZI5Eqi9xFU_tzGVFleX/permissions/me', 'etag': '\"kmG_ECqYAs5XDxfdAet1-0P_Fo4\"', 'pendingOwner': False}, 'fileExtension': 'nc', 'md5Checksum': '153eb791e0fac85e6ba57e273bddace9', 'selfLink': 'https://www.googleapis.com/drive/v2/files/17T5mCJMnxrxCrZI5Eqi9xFU_tzGVFleX', 'ownerNames': ['gloh2o.org'], 'lastModifyingUserName': 'gloh2o.org', 'editable': False, 'writersCanShare': True, 'downloadUrl': 'https://www.googleapis.com/drive/v2/files/17T5mCJMnxrxCrZI5Eqi9xFU_tzGVFleX?alt=media&source=downloadUrl', 'mimeType': 'application/x-netcdf', 'parents': [{'selfLink': 'https://www.googleapis.com/drive/v2/files/17T5mCJMnxrxCrZI5Eqi9xFU_tzGVFleX/parents/1DVR90Ud1C444bTOPeENX-3I7tgqPLnao', 'id': '1DVR90Ud1C444bTOPeENX-3I7tgqPLnao', 'isRoot': False, 'kind': 'drive#parentReference', 'parentLink': 'https://www.googleapis.com/drive/v2/files/1DVR90Ud1C444bTOPeENX-3I7tgqPLnao'}], 'appDataContents': False, 'iconLink': 'https://drive-thirdparty.googleusercontent.com/16/type/application/x-netcdf', 'shared': True, 'lastModifyingUser': {'displayName': 'gloh2o.org', 'kind': 'drive#user', 'isAuthenticatedUser': False, 'permissionId': '04582572561001553310', 'emailAddress': 'gloh2o.org@gmail.com', 'picture': {'url': 'https://lh3.googleusercontent.com/a-/ALV-UjVl3b9ccNf6GHSdlCykzatj0F9na8qwoLQ0oOyHAl7rr2GLhQ=s64'}}, 'owners': [{'displayName': 'gloh2o.org', 'kind': 'drive#user', 'isAuthenticatedUser': False, 'permissionId': '04582572561001553310', 'emailAddress': 'gloh2o.org@gmail.com', 'picture': {'url': 'https://lh3.googleusercontent.com/a-/ALV-UjVl3b9ccNf6GHSdlCykzatj0F9na8qwoLQ0oOyHAl7rr2GLhQ=s64'}}], 'headRevisionId': '0B2dnSpICnSIVZ09mTTYvUHoxSzZJVXlVV0tsckU4TDN1T1FZPQ', 'copyable': True, 'etag': '\"MTY0MDYzMzc5Mjk4NQ\"', 'alternateLink': 'https://drive.google.com/file/d/17T5mCJMnxrxCrZI5Eqi9xFU_tzGVFleX/view?usp=drivesdk', 'embedLink': 'https://drive.google.com/file/d/17T5mCJMnxrxCrZI5Eqi9xFU_tzGVFleX/preview?usp=drivesdk', 'webContentLink': 'https://drive.google.com/uc?id=17T5mCJMnxrxCrZI5Eqi9xFU_tzGVFleX&export=download', 'fileSize': '2350870', 'copyRequiresWriterPermission': False, 'spaces': ['drive'], 'id': '17T5mCJMnxrxCrZI5Eqi9xFU_tzGVFleX', 'title': '2017085.00.nc', 'description': '2017085.00.nc', 'labels': {'viewed': False, 'restricted': False, 'starred': False, 'hidden': False, 'trashed': False}, 'explicitlyTrashed': False, 'createdDate': '2021-12-27T22:28:47.692Z', 'modifiedDate': '2021-12-27T19:36:32.985Z', 'markedViewedByMeDate': '1970-01-01T00:00:00.000Z', 'quotaBytesUsed': '2350870', 'version': '3', 'originalFilename': '2017085.00.nc', 'capabilities': {'canEdit': False, 'canCopy': True}})]"
      ]
     },
     "execution_count": 16,
     "metadata": {},
     "output_type": "execute_result"
    }
   ],
   "source": [
    "query = f\"title='2017085.00.nc' and '1DVR90Ud1C444bTOPeENX-3I7tgqPLnao' in parents\"\n",
    "file_list = drive.ListFile({'q': query}).GetList()\n",
    "file_list"
   ]
  },
  {
   "cell_type": "code",
   "execution_count": 10,
   "id": "d1e515da",
   "metadata": {},
   "outputs": [
    {
     "data": {
      "text/html": [
       "\n",
       "            <style>\n",
       "                .geemap-dark {\n",
       "                    --jp-widgets-color: white;\n",
       "                    --jp-widgets-label-color: white;\n",
       "                    --jp-ui-font-color1: white;\n",
       "                    --jp-layout-color2: #454545;\n",
       "                    background-color: #383838;\n",
       "                }\n",
       "\n",
       "                .geemap-dark .jupyter-button {\n",
       "                    --jp-layout-color3: #383838;\n",
       "                }\n",
       "\n",
       "                .geemap-colab {\n",
       "                    background-color: var(--colab-primary-surface-color, white);\n",
       "                }\n",
       "\n",
       "                .geemap-colab .jupyter-button {\n",
       "                    --jp-layout-color3: var(--colab-primary-surface-color, white);\n",
       "                }\n",
       "            </style>\n",
       "            "
      ],
      "text/plain": [
       "<IPython.core.display.HTML object>"
      ]
     },
     "metadata": {},
     "output_type": "display_data"
    }
   ],
   "source": [
    "def store_flood_dates(events_dict, config_file):\n",
    "    dates = [i for i in events_dict.keys()]\n",
    "    df = pd.DataFrame(dates, columns=[\"Dates\"])\n",
    "    with open(config_file) as config_file:\n",
    "        config = json.load(config_file)\n",
    "    target_path = config[\"final_flood_dates\"]\n",
    "    df.to_excel(target_path, index=False)"
   ]
  }
 ],
 "metadata": {
  "kernelspec": {
   "display_name": "Python 3 (ipykernel)",
   "language": "python",
   "name": "python3"
  },
  "language_info": {
   "codemirror_mode": {
    "name": "ipython",
    "version": 3
   },
   "file_extension": ".py",
   "mimetype": "text/x-python",
   "name": "python",
   "nbconvert_exporter": "python",
   "pygments_lexer": "ipython3",
   "version": "3.10.12"
  }
 },
 "nbformat": 4,
 "nbformat_minor": 5
}
