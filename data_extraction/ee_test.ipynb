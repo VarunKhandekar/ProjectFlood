{
 "cells": [
  {
   "cell_type": "code",
   "execution_count": 35,
   "id": "b9a42c62",
   "metadata": {
    "metadata": {}
   },
   "outputs": [
    {
     "data": {
      "text/html": [
       "\n",
       "            <style>\n",
       "                .geemap-dark {\n",
       "                    --jp-widgets-color: white;\n",
       "                    --jp-widgets-label-color: white;\n",
       "                    --jp-ui-font-color1: white;\n",
       "                    --jp-layout-color2: #454545;\n",
       "                    background-color: #383838;\n",
       "                }\n",
       "\n",
       "                .geemap-dark .jupyter-button {\n",
       "                    --jp-layout-color3: #383838;\n",
       "                }\n",
       "\n",
       "                .geemap-colab {\n",
       "                    background-color: var(--colab-primary-surface-color, white);\n",
       "                }\n",
       "\n",
       "                .geemap-colab .jupyter-button {\n",
       "                    --jp-layout-color3: var(--colab-primary-surface-color, white);\n",
       "                }\n",
       "            </style>\n",
       "            "
      ],
      "text/plain": [
       "<IPython.core.display.HTML object>"
      ]
     },
     "metadata": {},
     "output_type": "display_data"
    },
    {
     "name": "stdout",
     "output_type": "stream",
     "text": [
      "['/usr/lib/python310.zip', '/usr/lib/python3.10', '/usr/lib/python3.10/lib-dynload', '', '/home/vkhandekar/project_flood/.venv/lib/python3.10/site-packages', '/homes/vk223/ProjectFlood', '/home/vkhandekar/project_flood']\n",
      "/home/vkhandekar/project_flood/data_extraction\n",
      "/home/vkhandekar/project_flood/static/local_data_paths.json\n"
     ]
    }
   ],
   "source": [
    "import sys\n",
    "paths_to_add = [\"/homes/vk223/ProjectFlood\", \"/home/vkhandekar/project_flood\"]\n",
    "for p in paths_to_add:\n",
    "    if p not in sys.path:\n",
    "        sys.path.append(p)\n",
    "print(sys.path)\n",
    "# import ipyleaflet\n",
    "import geopandas as gpd\n",
    "from shapely.geometry import box\n",
    "import os\n",
    "print(os.getcwd())\n",
    "# os.chdir(\"/home/vkhandekar/project_flood\")\n",
    "# import rioxarray\n",
    "# from pathlib import Path\n",
    "import ee\n",
    "# import geemap.core as geemap\n",
    "import geemap\n",
    "import xarray as xr\n",
    "import cdsapi\n",
    "import zipfile\n",
    "import json\n",
    "import pandas as pd\n",
    "import numpy as np\n",
    "import rasterio\n",
    "import uuid\n",
    "from rasterio.mask import mask\n",
    "from rasterio.transform import from_origin\n",
    "import geopandas as gpd\n",
    "from shapely.geometry import Polygon, mapping, box\n",
    "import matplotlib.pyplot as plt\n",
    "# from osgeo import gdal\n",
    "from scipy.ndimage import zoom\n",
    "from pydrive.auth import GoogleAuth\n",
    "from pydrive.drive import GoogleDrive\n",
    "# import cfgrib\n",
    "print(os.environ['PROJECT_FLOOD_DATA'])\n"
   ]
  },
  {
   "cell_type": "code",
   "execution_count": 3,
   "id": "4c57898f",
   "metadata": {},
   "outputs": [
    {
     "data": {
      "text/html": [
       "\n",
       "            <style>\n",
       "                .geemap-dark {\n",
       "                    --jp-widgets-color: white;\n",
       "                    --jp-widgets-label-color: white;\n",
       "                    --jp-ui-font-color1: white;\n",
       "                    --jp-layout-color2: #454545;\n",
       "                    background-color: #383838;\n",
       "                }\n",
       "\n",
       "                .geemap-dark .jupyter-button {\n",
       "                    --jp-layout-color3: #383838;\n",
       "                }\n",
       "\n",
       "                .geemap-colab {\n",
       "                    background-color: var(--colab-primary-surface-color, white);\n",
       "                }\n",
       "\n",
       "                .geemap-colab .jupyter-button {\n",
       "                    --jp-layout-color3: var(--colab-primary-surface-color, white);\n",
       "                }\n",
       "            </style>\n",
       "            "
      ],
      "text/plain": [
       "<IPython.core.display.HTML object>"
      ]
     },
     "metadata": {},
     "output_type": "display_data"
    },
    {
     "name": "stdout",
     "output_type": "stream",
     "text": [
      "Hello from the Earth Engine servers!\n"
     ]
    }
   ],
   "source": [
    "ee.Authenticate()\n",
    "ee.Initialize(project='ee-varunkhandekar')\n",
    "print(ee.String('Hello from the Earth Engine servers!').getInfo())"
   ]
  },
  {
   "cell_type": "code",
   "execution_count": 32,
   "id": "ab11e447",
   "metadata": {},
   "outputs": [
    {
     "data": {
      "text/html": [
       "\n",
       "            <style>\n",
       "                .geemap-dark {\n",
       "                    --jp-widgets-color: white;\n",
       "                    --jp-widgets-label-color: white;\n",
       "                    --jp-ui-font-color1: white;\n",
       "                    --jp-layout-color2: #454545;\n",
       "                    background-color: #383838;\n",
       "                }\n",
       "\n",
       "                .geemap-dark .jupyter-button {\n",
       "                    --jp-layout-color3: #383838;\n",
       "                }\n",
       "\n",
       "                .geemap-colab {\n",
       "                    background-color: var(--colab-primary-surface-color, white);\n",
       "                }\n",
       "\n",
       "                .geemap-colab .jupyter-button {\n",
       "                    --jp-layout-color3: var(--colab-primary-surface-color, white);\n",
       "                }\n",
       "            </style>\n",
       "            "
      ],
      "text/plain": [
       "<IPython.core.display.HTML object>"
      ]
     },
     "metadata": {},
     "output_type": "display_data"
    },
    {
     "name": "stdout",
     "output_type": "stream",
     "text": [
      "(88.084422, 20.670883, 92.672721, 26.446526)\n",
      "{'geodesic': False, 'type': 'Polygon', 'coordinates': [[[88.084422, 20.670882999999975], [92.672721, 20.670882999999975], [92.672721, 26.446526000000024], [88.084422, 26.446526000000024], [88.084422, 20.670882999999975]]]}\n"
     ]
    }
   ],
   "source": [
    "shapefile_path = '/home/vkhandekar/project_flood/static/bangladesh-outline_68.geojson'\n",
    "# 'bangladesh-detailed-boundary_858.geojson' 'bangladesh-outline_68.geojson'\n",
    "\n",
    "\n",
    "with open(shapefile_path, 'r') as file:\n",
    "    geojson_data = json.load(file)\n",
    "\n",
    "# Extract polygon coordinates\n",
    "polygon_coordinates = []\n",
    "\n",
    "for feature in geojson_data['features']:\n",
    "    if feature['geometry']['type'] == 'Polygon':\n",
    "        polygon_coordinates.append(feature['geometry']['coordinates'])\n",
    "    elif feature['geometry']['type'] == 'MultiPolygon':\n",
    "        for polygon in feature['geometry']['coordinates']:\n",
    "            polygon_coordinates.append(polygon)\n",
    "\n",
    "ee_geometry = ee.Geometry.MultiPolygon(polygon_coordinates)\n",
    "# Create the polygon\n",
    "polygon = Polygon(polygon_coordinates[0][0])\n",
    "\n",
    "# print(ee_geometry.getInfo()['coordinates'])\n",
    "# print(polygon_coordinates[0])\n",
    "# print(ee_geometry.getInfo()['coordinates']==polygon_coordinates[0])\n",
    "print(polygon.bounds)\n",
    "print(ee_geometry.bounds().getInfo())\n",
    "bbox_ee = ee.Geometry.BBox(*polygon.bounds)\n",
    "\n",
    "bbox = box(*polygon.bounds)\n",
    "\n",
    "geojson = [mapping(bbox)]\n",
    "geojson\n",
    "\n",
    "\n",
    "def generate_square_coordinates_from_polygon(polygon: Polygon):\n",
    "    min_lon, min_lat, max_lon, max_lat = polygon.bounds\n",
    "    width = max_lon - min_lon\n",
    "    height = max_lat - min_lat\n",
    "    square_size = max(width, height)\n",
    "\n",
    "    center_lon = (min_lon + max_lon) / 2\n",
    "    center_lat = (min_lat + max_lat) / 2\n",
    "\n",
    "    new_min_lon = center_lon - square_size / 2\n",
    "    new_min_lat = center_lat - square_size / 2\n",
    "    new_max_lon = center_lon + square_size / 2\n",
    "    new_max_lat = center_lat + square_size / 2\n",
    "    return new_min_lon, new_min_lat, new_max_lon, new_max_lat\n",
    "\n",
    "\n",
    "\n",
    "bangladesh_bounding_box_square_ee = ee.Geometry.BBox(*generate_square_coordinates_from_polygon(polygon))"
   ]
  },
  {
   "cell_type": "code",
   "execution_count": null,
   "id": "c5ebfeae",
   "metadata": {},
   "outputs": [],
   "source": [
    "# precipitation_upsampled\n",
    "# ERA5-LAND\n",
    "# BangladeshTopology\n",
    "# BangladeshFloodedCombo_MASTER\n",
    "# BangladeshFloodedCombo_vF\n",
    "with rasterio.open(\"precipitation_upsampled.tif\") as src:\n",
    "    dataset = src.read()\n",
    "\n",
    "print(dataset)\n",
    "print(dataset.dtype)\n",
    "print(dataset.max())\n",
    "print(dataset.mean())\n",
    "print(dataset.min())\n",
    "print(dataset.size)\n",
    "print(dataset.shape)"
   ]
  },
  {
   "cell_type": "markdown",
   "id": "4774e728",
   "metadata": {},
   "source": [
    "Initial Exploration with Landsat Dataset"
   ]
  },
  {
   "cell_type": "code",
   "execution_count": null,
   "id": "ef23c987",
   "metadata": {},
   "outputs": [],
   "source": [
    "# Load an image.\n",
    "image = ee.Image('LANDSAT/LC08/C02/T1_TOA/LC08_044034_20140318')\n",
    "\n",
    "\n",
    "point = ee.Geometry.Point(-122.1899, 37.5010)\n",
    "\n",
    "# Get the pixel values at the defined point\n",
    "pixel_values = image.reduceRegion(\n",
    "    reducer=ee.Reducer.first(),\n",
    "    geometry=point,\n",
    "    scale=30\n",
    ")\n",
    "\n",
    "# Print the pixel values to the console\n",
    "print(pixel_values.getInfo())\n"
   ]
  },
  {
   "cell_type": "code",
   "execution_count": null,
   "id": "40fdd7f7",
   "metadata": {},
   "outputs": [],
   "source": [
    "\n",
    "# Extract individual bands\n",
    "band5 = image.select('B5')\n",
    "band4 = image.select('B4')\n",
    "band3 = image.select('B3')\n",
    "\n",
    "# Apply a color palette to the bands\n",
    "band5_colored = band5.visualize(min=0, max=0.5, palette=['#add8e6'])  # Light blue\n",
    "band4_colored = band4.visualize(min=0, max=0.5, palette=['#00008b'])  # Dark blue\n",
    "band3_colored = band3.visualize(min=0, max=0.5, palette=['#008b8b'])  # Cyan as an example\n",
    "\n",
    "# Combine the colored bands into an RGB image\n",
    "rgb_image = ee.ImageCollection([band5_colored, band4_colored, band3_colored]).mosaic()\n",
    "\n",
    "# Define a map centered on San Francisco Bay.\n",
    "map_l8 = geemap.Map(center=[37.5010, -122.1899], zoom=10)\n",
    "\n",
    "# Add the image layer to the map and display it.\n",
    "map_l8.addLayer(rgb_image, {}, 'Custom Color Composite')\n",
    "map_l8"
   ]
  },
  {
   "cell_type": "code",
   "execution_count": null,
   "id": "dfeabd80",
   "metadata": {
    "metadata": {}
   },
   "outputs": [],
   "source": [
    "Map = geemap.Map()\n",
    "\n",
    "image = ee.Image('LANDSAT/LC08/C02/T1_TOA/LC08_044034_20140318').select(\n",
    "    ['B5', 'B4', 'B3']\n",
    ")\n",
    "\n",
    "vis_params = {'min': 0, 'max': 0.5, 'gamma': [0.95, 1.1, 1]}\n",
    "\n",
    "region = ee.Geometry.BBox(-122.5955, 37.5339, -122.0982, 37.8252) #bottom left to top right\n",
    "clipped_image = image.clip(region) #clipping event to bounding box\n",
    "\n",
    "\n",
    "Map.centerObject(image, 8)\n",
    "Map.addLayer(image, vis_params, 'Landsat')\n",
    "# Map.addLayer(clipped_image, vis_params, 'Landsat')\n",
    "Map"
   ]
  },
  {
   "cell_type": "code",
   "execution_count": null,
   "id": "4e1c86db",
   "metadata": {
    "metadata": {}
   },
   "outputs": [],
   "source": [
    "\n",
    "fc = ee.FeatureCollection(region)\n",
    "style = {'color': 'ffff00ff', 'fillColor': '00000000'}\n",
    "Map.addLayer(fc.style(**style), {}, 'ROI')\n",
    "Map"
   ]
  },
  {
   "cell_type": "code",
   "execution_count": null,
   "id": "3b484894",
   "metadata": {
    "metadata": {}
   },
   "outputs": [],
   "source": [
    "geemap.ee_export_image(image, filename=\"landsat.tif\", scale=30, region=region)"
   ]
  },
  {
   "cell_type": "code",
   "execution_count": null,
   "id": "900d05b4",
   "metadata": {},
   "outputs": [],
   "source": [
    "# # Load the shapefile\n",
    "# shapefile_path = 'hybas_as_lev05_v1c.shp'\n",
    "# gdf = gpd.read_file(shapefile_path)\n",
    "\n",
    "# # Define the bounding box (xmin, ymin, xmax, ymax)\n",
    "# bbox = box(xmin, ymin, xmax, ymax)\n",
    "\n",
    "# # Create a GeoDataFrame for the bounding box\n",
    "# bbox_gdf = gpd.GeoDataFrame([[1]], geometry=[bbox], crs=gdf.crs)\n",
    "\n",
    "# # Find the polygons that intersect with the bounding box\n",
    "# intersecting_polygons = gdf[gdf.intersects(bbox)]\n",
    "\n",
    "# # Output the result\n",
    "# print(intersecting_polygons)\n",
    "\n",
    "# # Optionally, save the intersecting polygons to a new shapefile\n",
    "# intersecting_polygons.to_file('intersecting_polygons.shp')\n",
    "\n"
   ]
  },
  {
   "cell_type": "markdown",
   "id": "321f2ee9",
   "metadata": {},
   "source": [
    "Permanent Water Overlay"
   ]
  },
  {
   "cell_type": "code",
   "execution_count": null,
   "id": "ac9d4b9a",
   "metadata": {},
   "outputs": [],
   "source": [
    "Map = geemap.Map()\n",
    "\n",
    "# Load the dataset and filter for the month of December\n",
    "dataset = ee.ImageCollection('JRC/GSW1_4/MonthlyRecurrence')\n",
    "im = ee.Image(dataset.filterMetadata('month', 'equals', 12).first())\n",
    "print(im.getInfo())\n",
    "\n",
    "occurrence_band = im.select('monthly_recurrence')\n",
    "\n",
    "# Apply a threshold to filter values greater than x%\n",
    "filtered_occurrence = occurrence_band.gt(25) #boolean output\n",
    "print(filtered_occurrence.getInfo())\n",
    "\n",
    "point = ee.Geometry.Point(89.97, 23.65)\n",
    "\n",
    "# Get the pixel values at the defined point\n",
    "pixel_values = filtered_occurrence.reduceRegion(\n",
    "    reducer=ee.Reducer.first(),\n",
    "    geometry=point,\n",
    "    scale=30\n",
    ")\n",
    "# Print the pixel values to the console\n",
    "print(pixel_values.getInfo())\n",
    "\n",
    "# Set visualization parameters\n",
    "visualization = {\n",
    "    'min': 0.0,\n",
    "    'max': 100.0,\n",
    "    'palette': ['blue']\n",
    "}\n",
    "\n",
    "# Add the filtered layer to the map\n",
    "Map.setCenter(89.42, 24.23, 9)\n",
    "Map.addLayer(filtered_occurrence.selfMask(), visualization, 'Monthly Recurrence')\n",
    "\n",
    "\n",
    "fc = ee.FeatureCollection(ee_geometry)\n",
    "style = {'color': 'ffff00ff', 'fillColor': '00000000'}\n",
    "Map.addLayer(fc.style(**style), {}, 'ROI')\n",
    "\n",
    "# Display the map\n",
    "Map"
   ]
  },
  {
   "cell_type": "markdown",
   "id": "685526f5",
   "metadata": {},
   "source": [
    "Topology"
   ]
  },
  {
   "cell_type": "code",
   "execution_count": null,
   "id": "8e13eaff",
   "metadata": {},
   "outputs": [],
   "source": [
    "# \"NASA/NASADEM_HGT/001\"\n",
    "\n",
    "Map = geemap.Map()\n",
    "\n",
    "# Load the dataset and filter for the month of December\n",
    "# dataset = ee.ImageCollection('JRC/GSW1_4/MonthlyRecurrence')\n",
    "bangladeshTopology = ee.Image(\"NASA/NASADEM_HGT/001\").select(\"elevation\")\n",
    "print(bangladeshTopology.getInfo())\n",
    "\n",
    "# Set visualization parameters\n",
    "visualization = {\n",
    "    'min': 0.0,\n",
    "    'max': 2000.0,\n",
    "}\n",
    "\n",
    "# Replace all no data values with 0\n",
    "bangladeshTopology = bangladeshTopology.unmask(0)\n",
    "\n",
    "# kernel = ee.Kernel.gaussian(radius=1, sigma=1, units='pixels', normalize=True)\n",
    "# smoothed_im = im.convolve(kernel)\n",
    "\n",
    "# background = ee.Image(1);\n",
    "# Map.addLayer(background, {min: 0, max: 1});\n",
    "# print(background.getInfo())\n",
    "\n",
    "# Add the filtered layer to the map\n",
    "Map.setCenter(89.42, 24.23, 9)\n",
    "# Map.addLayer(smoothed_im, visualization, 'Elevation')\n",
    "Map.addLayer(bangladeshTopology, visualization, 'Elevation')\n",
    "\n",
    "\n",
    "print(ee_geometry.getInfo())\n",
    "\n",
    "fc = ee.FeatureCollection(ee_geometry)\n",
    "style = {'color': 'ffff00ff', 'fillColor': '00000000'}\n",
    "Map.addLayer(fc.style(**style), {}, 'ROI')\n",
    "\n",
    "# Display the map\n",
    "Map"
   ]
  },
  {
   "cell_type": "code",
   "execution_count": 37,
   "id": "ecd210ba",
   "metadata": {},
   "outputs": [
    {
     "data": {
      "text/html": [
       "\n",
       "            <style>\n",
       "                .geemap-dark {\n",
       "                    --jp-widgets-color: white;\n",
       "                    --jp-widgets-label-color: white;\n",
       "                    --jp-ui-font-color1: white;\n",
       "                    --jp-layout-color2: #454545;\n",
       "                    background-color: #383838;\n",
       "                }\n",
       "\n",
       "                .geemap-dark .jupyter-button {\n",
       "                    --jp-layout-color3: #383838;\n",
       "                }\n",
       "\n",
       "                .geemap-colab {\n",
       "                    background-color: var(--colab-primary-surface-color, white);\n",
       "                }\n",
       "\n",
       "                .geemap-colab .jupyter-button {\n",
       "                    --jp-layout-color3: var(--colab-primary-surface-color, white);\n",
       "                }\n",
       "            </style>\n",
       "            "
      ],
      "text/plain": [
       "<IPython.core.display.HTML object>"
      ]
     },
     "metadata": {},
     "output_type": "display_data"
    },
    {
     "ename": "EEException",
     "evalue": "Unknown configuration options: {'requestId': 'aaeb8d44-6164-456c-839c-87a8387ee6d5'}.",
     "output_type": "error",
     "traceback": [
      "\u001b[0;31m---------------------------------------------------------------------------\u001b[0m",
      "\u001b[0;31mEEException\u001b[0m                               Traceback (most recent call last)",
      "Cell \u001b[0;32mIn[37], line 2\u001b[0m\n\u001b[1;32m      1\u001b[0m \u001b[38;5;28mid\u001b[39m \u001b[38;5;241m=\u001b[39m \u001b[38;5;28mstr\u001b[39m(uuid\u001b[38;5;241m.\u001b[39muuid4())\n\u001b[0;32m----> 2\u001b[0m export_task \u001b[38;5;241m=\u001b[39m \u001b[43mee\u001b[49m\u001b[38;5;241;43m.\u001b[39;49m\u001b[43mbatch\u001b[49m\u001b[38;5;241;43m.\u001b[39;49m\u001b[43mExport\u001b[49m\u001b[38;5;241;43m.\u001b[39;49m\u001b[43mimage\u001b[49m\u001b[38;5;241;43m.\u001b[39;49m\u001b[43mtoDrive\u001b[49m\u001b[43m(\u001b[49m\n\u001b[1;32m      3\u001b[0m \u001b[43m    \u001b[49m\u001b[43mimage\u001b[49m\u001b[38;5;241;43m=\u001b[39;49m\u001b[43mbangladeshTopology\u001b[49m\u001b[43m,\u001b[49m\n\u001b[1;32m      4\u001b[0m \u001b[43m    \u001b[49m\u001b[43mdescription\u001b[49m\u001b[38;5;241;43m=\u001b[39;49m\u001b[38;5;124;43m'\u001b[39;49m\u001b[38;5;124;43mBangladeshTopology\u001b[39;49m\u001b[38;5;124;43m'\u001b[39;49m\u001b[43m,\u001b[49m\n\u001b[1;32m      5\u001b[0m \u001b[43m    \u001b[49m\u001b[43mfolder\u001b[49m\u001b[38;5;241;43m=\u001b[39;49m\u001b[38;5;124;43m'\u001b[39;49m\u001b[38;5;124;43mTopology\u001b[39;49m\u001b[38;5;124;43m'\u001b[39;49m\u001b[43m,\u001b[49m\n\u001b[1;32m      6\u001b[0m \u001b[43m    \u001b[49m\u001b[43mfileNamePrefix\u001b[49m\u001b[38;5;241;43m=\u001b[39;49m\u001b[38;5;124;43m'\u001b[39;49m\u001b[38;5;124;43muuidtest\u001b[39;49m\u001b[38;5;124;43m'\u001b[39;49m\u001b[43m,\u001b[49m\n\u001b[1;32m      7\u001b[0m \u001b[43m    \u001b[49m\u001b[43mregion\u001b[49m\u001b[38;5;241;43m=\u001b[39;49m\u001b[43mbbox_ee\u001b[49m\u001b[43m,\u001b[49m\n\u001b[1;32m      8\u001b[0m \u001b[43m    \u001b[49m\u001b[43mcrs\u001b[49m\u001b[38;5;241;43m=\u001b[39;49m\u001b[38;5;124;43m'\u001b[39;49m\u001b[38;5;124;43mEPSG:4326\u001b[39;49m\u001b[38;5;124;43m'\u001b[39;49m\u001b[43m,\u001b[49m\n\u001b[1;32m      9\u001b[0m \u001b[43m    \u001b[49m\u001b[38;5;66;43;03m# scale=250,  # Adjust the scale as needed\u001b[39;49;00m\n\u001b[1;32m     10\u001b[0m \u001b[43m    \u001b[49m\u001b[43mcrsTransform\u001b[49m\u001b[38;5;241;43m=\u001b[39;49m\u001b[43m[\u001b[49m\u001b[38;5;241;43m0.0226492347869873\u001b[39;49m\u001b[43m,\u001b[49m\u001b[43m \u001b[49m\u001b[38;5;241;43m0.0\u001b[39;49m\u001b[43m,\u001b[49m\u001b[43m \u001b[49m\u001b[38;5;241;43m88.08430518433968\u001b[39;49m\u001b[43m,\u001b[49m\u001b[43m \u001b[49m\u001b[38;5;241;43m0.0\u001b[39;49m\u001b[43m,\u001b[49m\u001b[43m \u001b[49m\u001b[38;5;241;43m-\u001b[39;49m\u001b[38;5;241;43m0.0226492347869873\u001b[39;49m\u001b[43m,\u001b[49m\u001b[43m \u001b[49m\u001b[38;5;241;43m26.44864775268901\u001b[39;49m\u001b[43m]\u001b[49m\u001b[43m,\u001b[49m\n\u001b[1;32m     11\u001b[0m \u001b[43m    \u001b[49m\u001b[43mmaxPixels\u001b[49m\u001b[38;5;241;43m=\u001b[39;49m\u001b[38;5;241;43m1e13\u001b[39;49m\u001b[43m,\u001b[49m\u001b[43m  \u001b[49m\u001b[38;5;66;43;03m# Adjust maxPixels as needed\u001b[39;49;00m\n\u001b[1;32m     12\u001b[0m \u001b[43m    \u001b[49m\u001b[43mrequestId\u001b[49m\u001b[38;5;241;43m=\u001b[39;49m\u001b[38;5;28;43mid\u001b[39;49m\n\u001b[1;32m     13\u001b[0m \u001b[43m)\u001b[49m\n\u001b[1;32m     14\u001b[0m export_task\u001b[38;5;241m.\u001b[39mstart()\n",
      "File \u001b[0;32m~/project_flood/.venv/lib/python3.10/site-packages/ee/batch.py:499\u001b[0m, in \u001b[0;36mExport.image.toDrive\u001b[0;34m(image, description, folder, fileNamePrefix, dimensions, region, scale, crs, crsTransform, maxPixels, shardSize, fileDimensions, skipEmptyTiles, fileFormat, formatOptions, priority, **kwargs)\u001b[0m\n\u001b[1;32m    448\u001b[0m \u001b[38;5;250m\u001b[39m\u001b[38;5;124;03m\"\"\"Creates a task to export an EE Image to Drive.\u001b[39;00m\n\u001b[1;32m    449\u001b[0m \n\u001b[1;32m    450\u001b[0m \u001b[38;5;124;03mArgs:\u001b[39;00m\n\u001b[0;32m   (...)\u001b[0m\n\u001b[1;32m    496\u001b[0m \u001b[38;5;124;03m  An unstarted Task that exports the image to Drive.\u001b[39;00m\n\u001b[1;32m    497\u001b[0m \u001b[38;5;124;03m\"\"\"\u001b[39;00m\n\u001b[1;32m    498\u001b[0m config \u001b[38;5;241m=\u001b[39m _capture_parameters(\u001b[38;5;28mlocals\u001b[39m(), [\u001b[38;5;124m'\u001b[39m\u001b[38;5;124mimage\u001b[39m\u001b[38;5;124m'\u001b[39m])\n\u001b[0;32m--> 499\u001b[0m config \u001b[38;5;241m=\u001b[39m \u001b[43m_prepare_image_export_config\u001b[49m\u001b[43m(\u001b[49m\u001b[43mimage\u001b[49m\u001b[43m,\u001b[49m\u001b[43m \u001b[49m\u001b[43mconfig\u001b[49m\u001b[43m,\u001b[49m\n\u001b[1;32m    500\u001b[0m \u001b[43m                                      \u001b[49m\u001b[43mTask\u001b[49m\u001b[38;5;241;43m.\u001b[39;49m\u001b[43mExportDestination\u001b[49m\u001b[38;5;241;43m.\u001b[39;49m\u001b[43mDRIVE\u001b[49m\u001b[43m)\u001b[49m\n\u001b[1;32m    501\u001b[0m \u001b[38;5;28;01mreturn\u001b[39;00m _create_export_task(config, Task\u001b[38;5;241m.\u001b[39mType\u001b[38;5;241m.\u001b[39mEXPORT_IMAGE)\n",
      "File \u001b[0;32m~/project_flood/.venv/lib/python3.10/site-packages/ee/batch.py:1199\u001b[0m, in \u001b[0;36m_prepare_image_export_config\u001b[0;34m(image, config, export_destination)\u001b[0m\n\u001b[1;32m   1197\u001b[0m   \u001b[38;5;28;01mif\u001b[39;00m \u001b[38;5;124m'\u001b[39m\u001b[38;5;124mskipEmptyTiles\u001b[39m\u001b[38;5;124m'\u001b[39m \u001b[38;5;129;01min\u001b[39;00m config:\n\u001b[1;32m   1198\u001b[0m     \u001b[38;5;28;01mraise\u001b[39;00m \u001b[38;5;167;01mValueError\u001b[39;00m(\u001b[38;5;124m'\u001b[39m\u001b[38;5;124mskipEmptyTiles is only supported for GeoTIFF exports.\u001b[39m\u001b[38;5;124m'\u001b[39m)\n\u001b[0;32m-> 1199\u001b[0m   \u001b[38;5;28;01mraise\u001b[39;00m ee_exception\u001b[38;5;241m.\u001b[39mEEException(\n\u001b[1;32m   1200\u001b[0m       \u001b[38;5;124m'\u001b[39m\u001b[38;5;124mUnknown configuration options: \u001b[39m\u001b[38;5;132;01m{}\u001b[39;00m\u001b[38;5;124m.\u001b[39m\u001b[38;5;124m'\u001b[39m\u001b[38;5;241m.\u001b[39mformat(config))\n\u001b[1;32m   1202\u001b[0m \u001b[38;5;28;01mreturn\u001b[39;00m request\n",
      "\u001b[0;31mEEException\u001b[0m: Unknown configuration options: {'requestId': 'aaeb8d44-6164-456c-839c-87a8387ee6d5'}."
     ]
    }
   ],
   "source": [
    "# id = str(uuid.uuid4())\n",
    "export_task = ee.batch.Export.image.toDrive(\n",
    "    image=bangladeshTopology,\n",
    "    description='BangladeshTopology',\n",
    "    folder='Topology',\n",
    "    fileNamePrefix='uuidtest',\n",
    "    region=bbox_ee,\n",
    "    crs='EPSG:4326',\n",
    "    # scale=250,  # Adjust the scale as needed\n",
    "    crsTransform=[0.0226492347869873, 0.0, 88.08430518433968, 0.0, -0.0226492347869873, 26.44864775268901],\n",
    "    maxPixels=1e13  # Adjust maxPixels as needed\n",
    "    # requestId=id\n",
    ")\n",
    "export_task.start()"
   ]
  },
  {
   "cell_type": "code",
   "execution_count": null,
   "id": "b73c5b6d",
   "metadata": {},
   "outputs": [],
   "source": [
    "bangladeshTopology = bangladeshTopology.resample(mode=\"bilinear\")\n",
    "export_task = ee.batch.Export.image.toDrive(\n",
    "    image=bangladeshTopology,\n",
    "    description='BangladeshTopology_bilinear',\n",
    "    folder='Topology',\n",
    "    fileNamePrefix='BangladeshTopology_bilinear',\n",
    "    region=bbox_ee,\n",
    "    crs='EPSG:4326',\n",
    "    # scale=250,  # Adjust the scale as needed\n",
    "    crsTransform=[0.002245788210298804, 0.0, 88.08430518433968, 0.0, -0.002245788210298804, 26.44864775268901],\n",
    "    maxPixels=1e13  # Adjust maxPixels as needed\n",
    ")\n",
    "export_task.start()"
   ]
  },
  {
   "cell_type": "code",
   "execution_count": null,
   "id": "e21dbb5a",
   "metadata": {},
   "outputs": [],
   "source": [
    "export_task.status()"
   ]
  },
  {
   "cell_type": "code",
   "execution_count": null,
   "id": "8469d85f",
   "metadata": {},
   "outputs": [],
   "source": [
    "with rasterio.open('BangladeshTopology_bilinear.tif') as src:\n",
    "    # Read the existing data\n",
    "    data = src.read()\n",
    "    \n",
    "data.max()"
   ]
  },
  {
   "cell_type": "code",
   "execution_count": null,
   "id": "09f302b3",
   "metadata": {},
   "outputs": [],
   "source": [
    "with rasterio.open('BangladeshTopology.tif') as src:\n",
    "    # Read the existing data\n",
    "    data = src.read()\n",
    "    \n",
    "data.max()"
   ]
  },
  {
   "cell_type": "markdown",
   "id": "6a4a1f92",
   "metadata": {},
   "source": [
    "Mosaicing Overlapping Flood Events"
   ]
  },
  {
   "cell_type": "code",
   "execution_count": null,
   "id": "86d9f012",
   "metadata": {},
   "outputs": [],
   "source": [
    "Map = geemap.Map()\n",
    "gfd = ee.ImageCollection('GLOBAL_FLOOD_DB/MODIS_EVENTS/V1')\n",
    "\n",
    "bangladeshID1 = 1789\n",
    "bangladeshID2 = 1791\n",
    "bangladesh1 = ee.Image(gfd.filterMetadata('id', 'equals', bangladeshID1).first()).select(['flooded'])\n",
    "bangladesh2 = ee.Image(gfd.filterMetadata('id', 'equals', bangladeshID2).first()).select(['flooded'])\n",
    "\n",
    "# combo = ee.ImageCollection([bangladesh1, bangladesh2]).reduce(ee.Reducer.max())\n",
    "# vis_params = {'min': 0, 'max': 1, 'palette': 'C3EFFE'}\n",
    "\n",
    "vis_params1 = {'min': 0, 'max': 1, 'palette': '#00FFFF'}\n",
    "Map.centerObject(bangladesh1, 9)\n",
    "Map.addLayer(bangladesh1.selfMask(), vis_params1, '1 - Inundation Extent')\n",
    "vis_params2 = {'min': 0, 'max': 1, 'palette': '#FF0000'}\n",
    "Map.centerObject(bangladesh2, 9)\n",
    "Map.addLayer(bangladesh2.selfMask(), vis_params2, '2 - Inundation Extent')\n",
    "Map"
   ]
  },
  {
   "cell_type": "code",
   "execution_count": 4,
   "id": "c303d4c4",
   "metadata": {},
   "outputs": [
    {
     "data": {
      "text/html": [
       "\n",
       "            <style>\n",
       "                .geemap-dark {\n",
       "                    --jp-widgets-color: white;\n",
       "                    --jp-widgets-label-color: white;\n",
       "                    --jp-ui-font-color1: white;\n",
       "                    --jp-layout-color2: #454545;\n",
       "                    background-color: #383838;\n",
       "                }\n",
       "\n",
       "                .geemap-dark .jupyter-button {\n",
       "                    --jp-layout-color3: #383838;\n",
       "                }\n",
       "\n",
       "                .geemap-colab {\n",
       "                    background-color: var(--colab-primary-surface-color, white);\n",
       "                }\n",
       "\n",
       "                .geemap-colab .jupyter-button {\n",
       "                    --jp-layout-color3: var(--colab-primary-surface-color, white);\n",
       "                }\n",
       "            </style>\n",
       "            "
      ],
      "text/plain": [
       "<IPython.core.display.HTML object>"
      ]
     },
     "metadata": {},
     "output_type": "display_data"
    },
    {
     "name": "stdout",
     "output_type": "stream",
     "text": [
      "{'type': 'Image', 'bands': [{'id': 'flooded', 'data_type': {'type': 'PixelType', 'precision': 'int', 'min': 0, 'max': 1}, 'crs': 'EPSG:4326', 'crs_transform': [0.002245788210298804, 0, 88.08430518433968, 0, -0.002245788210298804, 26.44864775268901]}]}\n",
      "{'type': 'Image', 'bands': [{'id': 'flooded', 'data_type': {'type': 'PixelType', 'precision': 'int', 'min': 0, 'max': 1}, 'crs': 'EPSG:4326', 'crs_transform': [0.002245788210298804, 0, 88.08430518433968, 0, -0.002245788210298804, 26.44864775268901]}]}\n",
      "{'type': 'Image', 'bands': [{'id': 'flooded', 'data_type': {'type': 'PixelType', 'precision': 'int', 'min': 0, 'max': 1}, 'dimensions': [7289, 4017], 'crs': 'EPSG:4326', 'crs_transform': [0.002245788210298804, 0, 73.38337555972372, 0, -0.002245788210298804, 31.47023019091714]}], 'properties': {'system:footprint': {'type': 'LinearRing', 'coordinates': [[74.9189332257506, 31.47135703503598], [73.38186075192326, 31.471351758720346], [73.38206428482283, 22.447768263234146], [74.6631941194119, 22.44475082950059], [76.70910714110627, 22.44475079957042], [78.75502022052356, 22.444750845151145], [80.54519417402383, 22.44616079386882], [82.33536810498833, 22.444750830855458], [84.12554203747956, 22.446160717213434], [85.65997678226478, 22.446160787421476], [86.93867244982836, 22.447167851624695], [88.47310728054725, 22.444750818334672], [89.7542370600222, 22.447768258585825], [89.75444062623627, 31.471351754830803], [86.68293334254838, 31.471357033664617], [83.1025854947685, 31.47135701668062], [80.54519417402383, 31.471356977655336], [76.96484634869351, 31.47135703601424], [74.9189332257506, 31.47135703503598]]}}}\n",
      "{'type': 'Image', 'bands': [{'id': 'flooded', 'data_type': {'type': 'PixelType', 'precision': 'int', 'min': 0, 'max': 1}, 'dimensions': [7289, 4017], 'crs': 'EPSG:4326', 'crs_transform': [0.002245788210298804, 0, 73.38337555972372, 0, -0.002245788210298804, 31.47023019091714]}], 'properties': {'system:footprint': {'type': 'LinearRing', 'coordinates': [[74.9189332257506, 31.47135703503598], [73.38186075192326, 31.471351758720346], [73.38206428482283, 22.447768263234146], [74.6631941194119, 22.44475082950059], [76.70910714110627, 22.44475079957042], [78.75502022052356, 22.444750845151145], [80.54519417402383, 22.44616079386882], [82.33536810498833, 22.444750830855458], [84.12554203747956, 22.446160717213434], [85.65997678226478, 22.446160787421476], [86.93867244982836, 22.447167851624695], [88.47310728054725, 22.444750818334672], [89.7542370600222, 22.447768258585825], [89.75444062623627, 31.471351754830803], [86.68293334254838, 31.471357033664617], [83.1025854947685, 31.47135701668062], [80.54519417402383, 31.471356977655336], [76.96484634869351, 31.47135703601424], [74.9189332257506, 31.47135703503598]]}}}\n",
      "{'type': 'Image', 'bands': [{'id': 'flooded_max', 'data_type': {'type': 'PixelType', 'precision': 'int', 'min': 0, 'max': 1}, 'crs': 'EPSG:4326', 'crs_transform': [1, 0, 0, 0, 1, 0]}]}\n"
     ]
    },
    {
     "data": {
      "application/vnd.jupyter.widget-view+json": {
       "model_id": "7a59cc037fcd463cb1cc78c708c1a0ac",
       "version_major": 2,
       "version_minor": 0
      },
      "text/plain": [
       "Map(center=[26.980613506376038, 81.56867324442466], controls=(WidgetControl(options=['position', 'transparent_…"
      ]
     },
     "execution_count": 4,
     "metadata": {},
     "output_type": "execute_result"
    }
   ],
   "source": [
    "Map = geemap.Map()\n",
    "gfd = ee.ImageCollection('GLOBAL_FLOOD_DB/MODIS_EVENTS/V1')\n",
    "\n",
    "# Load the dataset\n",
    "dataset = ee.ImageCollection('JRC/GSW1_4/MonthlyRecurrence')\n",
    "im = ee.Image(dataset.filterMetadata('month', 'equals', 12).first())\n",
    "\n",
    "occurrence_band = im.select('monthly_recurrence')\n",
    "\n",
    "# Apply a threshold to filter values greater than x%\n",
    "filtered_occurrence = occurrence_band.gt(50)\n",
    "filtered_occurrence = filtered_occurrence.rename('flooded')\n",
    "# filtered_occurrence = filtered_occurrence.resample(mode=\"bilinear\")\n",
    "\n",
    "# print(filtered_occurrence.projection().crs().getInfo())\n",
    "\n",
    "filtered_occurrence = filtered_occurrence.setDefaultProjection(\"EPSG:4326\", [0.002245788210298804, 0.0, 88.08430518433968, 0.0, -0.002245788210298804, 26.44864775268901])\n",
    "filtered_occurrence = filtered_occurrence.reduceResolution(reducer=ee.Reducer.mode())\n",
    "print(filtered_occurrence.getInfo())\n",
    "\n",
    "sea = ee.Image(ee.ImageCollection('MODIS/006/MOD44W').filterDate('2015-01-01', '2015-01-02').first()).select(['water_mask'])\n",
    "sea = sea.gt(0.5)\n",
    "sea = sea.rename('flooded')\n",
    "sea = sea.setDefaultProjection(\"EPSG:4326\", [0.002245788210298804, 0.0, 88.08430518433968, 0.0, -0.002245788210298804, 26.44864775268901])\n",
    "# sea = sea.resample(mode=\"bicubic\")\n",
    "print(sea.getInfo())\n",
    "\n",
    "bangladeshID1 = 1789\n",
    "bangladeshID2 = 1791\n",
    "bangladesh1 = ee.Image(gfd.filterMetadata('id', 'equals', bangladeshID1).first()).select(['flooded'])\n",
    "bangladesh1 = bangladesh1.gt(0.5)\n",
    "# bangladesh1 = bangladesh1.resample(mode=\"bilinear\")\n",
    "# bangladesh1 = bangladesh1.reduceResolution(reducer=ee.Reducer.mode())\n",
    "# print(bangladesh1.projection().crs().getInfo())\n",
    "# print(bangladesh1.projection().transform())\n",
    "print(bangladesh1.getInfo())\n",
    "\n",
    "bangladesh2 = ee.Image(gfd.filterMetadata('id', 'equals', bangladeshID2).first()).select(['flooded'])\n",
    "bangladesh2 = bangladesh2.gt(0.5)\n",
    "print(bangladesh2.getInfo())\n",
    "# bangladesh2 = bangladesh2.resample(mode=\"bilinear\")\n",
    "# bangladesh2 = bangladesh2.reduceResolution(reducer=ee.Reducer.mode())\n",
    "\n",
    "combo = ee.ImageCollection([bangladesh1, bangladesh2, filtered_occurrence, sea]).reduce(ee.Reducer.max())\n",
    "# combo = ee.ImageCollection([bangladesh1, bangladesh2, filtered_occurrence]).reduce(ee.Reducer.max())\n",
    "# print(type(combo))\n",
    "\n",
    "\n",
    "# combo = combo.setDefaultProjection(\"EPSG:4326\", [0.002245788210298804, 0.0, 88.08430518433968, 0.0, -0.002245788210298804, 26.44864775268901]).reduceResolution(ee.Reducer.mode())\n",
    "print(combo.getInfo())\n",
    "# point = ee.Geometry.Point(89.97, 23.65)\n",
    "\n",
    "# # Get the pixel values at the defined point\n",
    "# pixel_values = combo.reduceRegion(\n",
    "#     reducer=ee.Reducer.first(),\n",
    "#     geometry=point,\n",
    "#     scale=30\n",
    "# )\n",
    "# # Print the pixel values to the console\n",
    "# print(pixel_values.getInfo())\n",
    "\n",
    "# combo_gfd = ee.ImageCollection([bangladesh1, bangladesh2])\n",
    "# filtered_occurrence = ee.ImageCollection([filtered_occurrence])\n",
    "\n",
    "# combo = combo_gfd.merge(filtered_occurrence).max()\n",
    "\n",
    "vis_params = {'min': 0, 'max': 1, 'palette': '#00FFFF'}\n",
    "\n",
    "Map.centerObject(bangladesh1, 9)\n",
    "Map.addLayer(combo.selfMask(), vis_params, 'combo - Inundation Extent')\n",
    "Map"
   ]
  },
  {
   "cell_type": "code",
   "execution_count": 5,
   "id": "a1e2b786",
   "metadata": {},
   "outputs": [
    {
     "data": {
      "text/html": [
       "\n",
       "            <style>\n",
       "                .geemap-dark {\n",
       "                    --jp-widgets-color: white;\n",
       "                    --jp-widgets-label-color: white;\n",
       "                    --jp-ui-font-color1: white;\n",
       "                    --jp-layout-color2: #454545;\n",
       "                    background-color: #383838;\n",
       "                }\n",
       "\n",
       "                .geemap-dark .jupyter-button {\n",
       "                    --jp-layout-color3: #383838;\n",
       "                }\n",
       "\n",
       "                .geemap-colab {\n",
       "                    background-color: var(--colab-primary-surface-color, white);\n",
       "                }\n",
       "\n",
       "                .geemap-colab .jupyter-button {\n",
       "                    --jp-layout-color3: var(--colab-primary-surface-color, white);\n",
       "                }\n",
       "            </style>\n",
       "            "
      ],
      "text/plain": [
       "<IPython.core.display.HTML object>"
      ]
     },
     "metadata": {},
     "output_type": "display_data"
    }
   ],
   "source": [
    "export_task = ee.batch.Export.image.toDrive(\n",
    "    image=combo,\n",
    "    description='BangladeshFloodedCombo_vF',\n",
    "    folder='ProjectFlood',\n",
    "    fileNamePrefix='BangladeshFloodedCombo_vF_128',\n",
    "    region=bbox_ee,\n",
    "    crs='EPSG:4326',\n",
    "    # scale=250,  # Adjust the scale as needed\n",
    "    crsTransform=[0.0905969391479492,0.0,88.08430518433968,0.0, -0.0905969391479492, 26.44864775268901],\n",
    "    maxPixels=1e13  # Adjust maxPixels as needed\n",
    ")\n",
    "export_task.start()\n",
    "\n",
    "# [0.002245788210298804, 0.0, 88.08430518433968, 0.0, -0.002245788210298804, 26.44864775268901] approx 250m\n",
    "# [0.0905969391479492,0.0,88.08430518433968,0.0,−0.0905969391479492,26.44864775268901] widthx128\n",
    "# [0.0226492347869873, 0.0, 88.08430518433968, 0.0, -0.0226492347869873, 26.44864775268901] heightx256"
   ]
  },
  {
   "cell_type": "code",
   "execution_count": null,
   "id": "bcea155f",
   "metadata": {},
   "outputs": [],
   "source": [
    "transform = [0.0226492347869873, 0.0, 88.08430518433968, 0.0, -0.0226492347869873, 26.44864775268901]\n",
    "transform_high_res = [0.002245788210298804, 0.0, 88.08430518433968, 0.0, -0.002245788210298804, 26.44864775268901]\n",
    "gfd = ee.ImageCollection('GLOBAL_FLOOD_DB/MODIS_EVENTS/V1')\n",
    "perm_water = ee.ImageCollection('JRC/GSW1_4/MonthlyRecurrence')\n",
    "inundation_images = []\n",
    "bangladeshID1 = 1789\n",
    "bangladeshID2 = 1791\n",
    "bangladesh1 = ee.Image(gfd.filterMetadata('id', 'equals', bangladeshID1).first()).select(['flooded']).toByte()\n",
    "bangladesh2 = ee.Image(gfd.filterMetadata('id', 'equals', bangladeshID2).first()).select(['flooded']).toByte()\n",
    "\n",
    "inundation_images.append(bangladesh1)\n",
    "inundation_images.append(bangladesh2)\n",
    "\n",
    "# Add permanent water overlay\n",
    "water_overlay = ee.Image(perm_water.filterMetadata('month', 'equals', 12).first())\n",
    "occurrence_band = water_overlay.select('monthly_recurrence')\n",
    "water_overlay_filtered = occurrence_band.gt(0.5)\n",
    "water_overlay_filtered = water_overlay_filtered.rename('flooded')\n",
    "water_overlay_filtered = water_overlay_filtered.setDefaultProjection(\"EPSG:4326\", transform_high_res)\n",
    "inundation_images.append(water_overlay_filtered.toByte())\n",
    "\n",
    "# Add sea overlay\n",
    "sea = ee.Image(ee.ImageCollection('MODIS/006/MOD44W').filterDate('2015-01-01', '2015-01-02').first()).select(['water_mask'])\n",
    "sea = sea.rename('flooded')\n",
    "sea = sea.setDefaultProjection(\"EPSG:4326\", transform_high_res)\n",
    "inundation_images.append(sea.toByte())\n",
    "\n",
    "# Export combo image to gdrive\n",
    "combo = ee.ImageCollection(inundation_images).reduce(ee.Reducer.max())\n",
    "print(combo.getInfo())"
   ]
  },
  {
   "cell_type": "code",
   "execution_count": null,
   "id": "13a84bd6",
   "metadata": {},
   "outputs": [],
   "source": [
    "export_task = ee.batch.Export.image.toDrive(\n",
    "    image=combo,\n",
    "    description='BangladeshFloodedCombo_vF_high_res_shrink',\n",
    "    folder='ProjectFlood',\n",
    "    fileNamePrefix='BangladeshFloodedCombo_vF_high_res_shrink',\n",
    "    region=bbox_ee,\n",
    "    crs='EPSG:4326',\n",
    "    # scale=250,  # Adjust the scale as needed\n",
    "    crsTransform=transform,\n",
    "    maxPixels=1e13  # Adjust maxPixels as needed\n",
    ")\n",
    "\n",
    "export_task.start()"
   ]
  },
  {
   "cell_type": "code",
   "execution_count": 6,
   "id": "a631ef0b",
   "metadata": {},
   "outputs": [
    {
     "data": {
      "text/html": [
       "\n",
       "            <style>\n",
       "                .geemap-dark {\n",
       "                    --jp-widgets-color: white;\n",
       "                    --jp-widgets-label-color: white;\n",
       "                    --jp-ui-font-color1: white;\n",
       "                    --jp-layout-color2: #454545;\n",
       "                    background-color: #383838;\n",
       "                }\n",
       "\n",
       "                .geemap-dark .jupyter-button {\n",
       "                    --jp-layout-color3: #383838;\n",
       "                }\n",
       "\n",
       "                .geemap-colab {\n",
       "                    background-color: var(--colab-primary-surface-color, white);\n",
       "                }\n",
       "\n",
       "                .geemap-colab .jupyter-button {\n",
       "                    --jp-layout-color3: var(--colab-primary-surface-color, white);\n",
       "                }\n",
       "            </style>\n",
       "            "
      ],
      "text/plain": [
       "<IPython.core.display.HTML object>"
      ]
     },
     "metadata": {},
     "output_type": "display_data"
    },
    {
     "data": {
      "text/plain": [
       "{'state': 'FAILED',\n",
       " 'description': 'BangladeshFloodedCombo_vF',\n",
       " 'priority': 100,\n",
       " 'creation_timestamp_ms': 1723449382575,\n",
       " 'update_timestamp_ms': 1723449392561,\n",
       " 'start_timestamp_ms': 1723449385695,\n",
       " 'task_type': 'EXPORT_IMAGE',\n",
       " 'attempt': 1,\n",
       " 'error_message': 'Too many input pixels per output pixel. Need 1628, but only 64 allowed.',\n",
       " 'id': 'L62JYFJPA4YYSEB2AHLNIQDX',\n",
       " 'name': 'projects/ee-varunkhandekar/operations/L62JYFJPA4YYSEB2AHLNIQDX'}"
      ]
     },
     "execution_count": 6,
     "metadata": {},
     "output_type": "execute_result"
    }
   ],
   "source": [
    "export_task.status()"
   ]
  },
  {
   "cell_type": "code",
   "execution_count": null,
   "id": "6a435485",
   "metadata": {},
   "outputs": [],
   "source": [
    "export_task = ee.batch.Export.image.toDrive(\n",
    "    image=combo,\n",
    "    description='BangladeshFloodedCombo_vF_highres',\n",
    "    folder='ProjectFlood',\n",
    "    fileNamePrefix='BangladeshFloodedCombo_vF_highres',\n",
    "    region=bbox_ee,\n",
    "    # crs='EPSG:4326',\n",
    "    scale=30,  # Adjust the scale as needed\n",
    "    # crsTransform=[0.002245788210298804, 0.0, 88.08430518433968, 0.0, -0.002245788210298804, 26.44864775268901],\n",
    "    maxPixels=1e13  # Adjust maxPixels as needed\n",
    ")\n",
    "export_task.start()"
   ]
  },
  {
   "cell_type": "code",
   "execution_count": null,
   "id": "8a48a17a",
   "metadata": {},
   "outputs": [],
   "source": [
    "export_task.status()"
   ]
  },
  {
   "cell_type": "markdown",
   "id": "a1047e5d",
   "metadata": {},
   "source": [
    "Rainfall Data"
   ]
  },
  {
   "cell_type": "code",
   "execution_count": null,
   "id": "0141a0dc",
   "metadata": {},
   "outputs": [],
   "source": [
    "# 2020365.21.nc\n",
    "data = xr.open_dataset(\"2020365.21.nc\", engine=\"netcdf4\")\n",
    "print(data)\n",
    "# print(data.variables)\n",
    "\n",
    "\n",
    "\n",
    "# Map = geemap.Map()\n",
    "# Map.add_netcdf(\n",
    "#     \"2020365.21.nc\",\n",
    "#     variables=[\"v_wind\"],\n",
    "#     palette=\"coolwarm\",\n",
    "#     shift_lon=True,\n",
    "#     layer_name=\"v_wind\",\n",
    "# )\n",
    "# Map"
   ]
  },
  {
   "cell_type": "code",
   "execution_count": null,
   "id": "f97e125e",
   "metadata": {},
   "outputs": [],
   "source": [
    "data = geemap.read_netcdf(\"2020365.21.nc\")\n",
    "\n",
    "# precipitation_at_time = data['precipitation'].isel(time=0)\n",
    "data"
   ]
  },
  {
   "cell_type": "code",
   "execution_count": null,
   "id": "a7b2bbb7",
   "metadata": {},
   "outputs": [],
   "source": [
    "# data.sizes\n",
    "# data_at_time = data.isel(time=0).squeeze()\n",
    "# data_at_time.dims"
   ]
  },
  {
   "cell_type": "code",
   "execution_count": null,
   "id": "0a96f779",
   "metadata": {},
   "outputs": [],
   "source": [
    "# Extract precipitation data\n",
    "data = xr.open_dataset(\"2020365.21.nc\", engine=\"netcdf4\")\n",
    "precipitation = data['precipitation']\n",
    "precipitation.plot()\n",
    "print(precipitation.dtype)\n",
    "print(precipitation.min())"
   ]
  },
  {
   "cell_type": "code",
   "execution_count": null,
   "id": "4706c42e",
   "metadata": {},
   "outputs": [],
   "source": [
    "\n",
    "# Set the spatial dimensions\n",
    "precipitation.rio.set_spatial_dims('lon', 'lat', inplace=True)\n",
    "precipitation.rio.write_crs(\"EPSG:4326\", inplace=True)\n",
    "\n",
    "# Save the precipitation data to GeoTIFF\n",
    "precipitation.rio.to_raster(\"precipitation_data.tif\")\n",
    "\n",
    "# Initialize the map\n",
    "Map = geemap.Map()\n",
    "\n",
    "# Add the GeoTIFF file to the map\n",
    "geotiff_path = \"precipitation_data.tif\"\n",
    "Map.add_raster(geotiff_path, vmin=0, vmax = 3, layer_name=\"Precipitation\")\n",
    "\n",
    "# image = geemap.ee_image_from_drive(geotiff_path)\n",
    "\n",
    "# # Define visualization parameters\n",
    "# vis_params = {\n",
    "#     'min': 0,\n",
    "#     'max': 10,  # Adjust these values based on your data range\n",
    "#     'palette': ['blue', 'green', 'red']\n",
    "# }\n",
    "\n",
    "# # Add the image to the map\n",
    "# Map.addLayer(image, vis_params, 'Precipitation')\n",
    "\n",
    "# Display the map\n",
    "fc = ee.FeatureCollection(ee_geometry)\n",
    "style = {'color': 'ffff00ff', 'fillColor': '00000000'}\n",
    "Map.addLayer(fc.style(**style), {}, 'ROI')\n",
    "Map"
   ]
  },
  {
   "cell_type": "code",
   "execution_count": null,
   "id": "a6106157",
   "metadata": {},
   "outputs": [],
   "source": [
    "# from rasterio.enums import Resampling\n",
    "# Open the NetCDF file\n",
    "data = xr.open_dataset(\"2020365.21.nc\", engine=\"netcdf4\")\n",
    "precipitation = data['precipitation']\n",
    "precipitation.max()"
   ]
  },
  {
   "cell_type": "code",
   "execution_count": null,
   "id": "1b014ba4",
   "metadata": {},
   "outputs": [],
   "source": [
    "\n",
    "# Set spatial dimensions and CRS\n",
    "precipitation.rio.set_spatial_dims('lon', 'lat', inplace=True)\n",
    "precipitation.rio.write_crs(\"EPSG:4326\", inplace=True)\n",
    "\n",
    "# Define the output path for the GeoTIFF file\n",
    "output_path = 'precipitation_data_Bangladesh_new.tif'\n",
    "\n",
    "\n",
    "# Clip the precipitation data using the polygon\n",
    "precipitation_clipped = precipitation.rio.clip(geojson, all_touched=True)\n",
    "precipitation_clipped.max()"
   ]
  },
  {
   "cell_type": "code",
   "execution_count": null,
   "id": "b3323a56",
   "metadata": {},
   "outputs": [],
   "source": [
    "\n",
    "# Save the clipped data to GeoTIFF\n",
    "precipitation_clipped.rio.to_raster(output_path)\n",
    "\n",
    "print(f\"Clipped image saved to {output_path}\")\n",
    "\n",
    "# Map = geemap.Map()\n",
    "\n",
    "# Add the GeoTIFF file to the map\n",
    "# geotiff_path = \"precipitation_data_Bangladesh_new.tif\"\n",
    "# Map.add_raster(geotiff_path, vmin=0, vmax = 3, layer_name=\"Precipitation\")\n",
    "\n",
    "# # Display the map\n",
    "# fc = ee.FeatureCollection(ee_geometry)\n",
    "# style = {'color': 'ffff00ff', 'fillColor': '00000000'}\n",
    "# Map.addLayer(fc.style(**style), {}, 'ROI')\n",
    "# Map"
   ]
  },
  {
   "cell_type": "code",
   "execution_count": null,
   "id": "5640dbbd",
   "metadata": {},
   "outputs": [],
   "source": [
    "with rasterio.open('precipitation_data_Bangladesh_new.tif') as src:\n",
    "    \n",
    "    src_transform = src.transform\n",
    "    data = src.read()\n",
    "    print(data.dtype)"
   ]
  },
  {
   "cell_type": "markdown",
   "id": "27c957fc",
   "metadata": {},
   "source": [
    "Soil Moisture"
   ]
  },
  {
   "cell_type": "code",
   "execution_count": null,
   "id": "91ef1f1f",
   "metadata": {},
   "outputs": [],
   "source": [
    "c = cdsapi.Client()\n",
    "\n",
    "c.retrieve(\n",
    "    'satellite-soil-moisture',\n",
    "    {\n",
    "        'format': 'zip',\n",
    "        'year': '2019',\n",
    "        'day':'01',\n",
    "        'variable': 'surface_soil_moisture',\n",
    "        'type_of_sensor': 'active',\n",
    "        'time_aggregation': 'day_average',\n",
    "        'month': '01',\n",
    "        'type_of_record': 'cdr',\n",
    "        'version': 'v202212',\n",
    "    },\n",
    "    'download.zip'\n",
    ")\n",
    "with zipfile.ZipFile('download.zip', 'r') as zip_ref:\n",
    "    file_list = zip_ref.namelist()\n",
    "    zip_ref.extract(file_list[0], path='.')\n",
    "\n",
    "    new_path = os.path.join('.', f'soil_moisture_bangladesh_test.nc')\n",
    "    os.rename(file_list[0], new_path)\n",
    "    print(f'File extracted and renamed to: {new_path}')\n",
    "os.remove('download.zip')\n",
    "\n"
   ]
  },
  {
   "cell_type": "code",
   "execution_count": null,
   "id": "7947d9fc",
   "metadata": {},
   "outputs": [],
   "source": [
    "# from rasterio.enums import Resampling\n",
    "# Open the NetCDF file\n",
    "data = xr.open_dataset(\"C3S-SOILMOISTURE-L3S-SSMS-ACTIVE-DAILY-20190104000000-TCDR-v202212.0.0.nc\", engine=\"netcdf4\")\n",
    "data"
   ]
  },
  {
   "cell_type": "code",
   "execution_count": null,
   "id": "49dbdb39",
   "metadata": {},
   "outputs": [],
   "source": [
    "\n",
    "soil_moisture = data['sm']\n",
    "\n",
    "# Set spatial dimensions and CRS\n",
    "soil_moisture.rio.set_spatial_dims('lon', 'lat', inplace=True)\n",
    "soil_moisture.rio.write_crs(\"EPSG:4326\", inplace=True)\n",
    "soil_moisture.max()\n"
   ]
  },
  {
   "cell_type": "code",
   "execution_count": null,
   "id": "7cd38067",
   "metadata": {},
   "outputs": [],
   "source": [
    "\n",
    "soil_moisture.rio.to_raster(\"soil_moisture_test.tif\")\n",
    "\n",
    "# Initialize the map\n",
    "Map = geemap.Map()\n",
    "\n",
    "# Add the GeoTIFF file to the map\n",
    "geotiff_path = \"soil_moisture_test.tif\"\n",
    "Map.add_raster(geotiff_path, vmin=0, vmax = 100, layer_name=\"Soil_Moisture\")\n",
    "Map\n",
    "\n",
    "# Display the map\n",
    "# fc = ee.FeatureCollection(ee_geometry)\n",
    "# style = {'color': 'ffff00ff', 'fillColor': '00000000'}\n",
    "# Map.addLayer(fc.style(**style), {}, 'ROI')\n",
    "# Map\n"
   ]
  },
  {
   "cell_type": "code",
   "execution_count": null,
   "id": "cacc5524",
   "metadata": {},
   "outputs": [],
   "source": [
    "# Define the output path for the GeoTIFF file\n",
    "output_path = 'soil_moisture_test_Bangladesh.tif'\n",
    "\n",
    "\n",
    "# Get the bounding box\n",
    "minx, miny, maxx, maxy = polygon.bounds\n",
    "\n",
    "print(f\"Bounding box: ({minx}, {miny}, {maxx}, {maxy})\")\n"
   ]
  },
  {
   "cell_type": "code",
   "execution_count": null,
   "id": "a59f57a3",
   "metadata": {},
   "outputs": [],
   "source": [
    "\n",
    "# Convert the polygon to GeoJSON format\n",
    "geojson = [mapping(polygon)]\n",
    "\n",
    "# Clip the precipitation data using the polygon\n",
    "soil_moisture_clipped = soil_moisture.rio.clip(geojson, all_touched=True)\n",
    "\n",
    "# Save the clipped data to GeoTIFF\n",
    "soil_moisture_clipped.rio.to_raster(output_path)\n",
    "\n",
    "print(f\"Clipped image saved to {output_path}\")\n",
    "\n",
    "Map = geemap.Map()\n",
    "\n",
    "# Add the GeoTIFF file to the map\n",
    "geotiff_path = \"soil_moisture_test.tif\"\n",
    "Map.add_raster(geotiff_path, vmin=0, vmax = 100, layer_name=\"Soil_Moisture\")\n",
    "\n",
    "# Display the map\n",
    "fc = ee.FeatureCollection(ee_geometry)\n",
    "style = {'color': 'ffff00ff', 'fillColor': '00000000'}\n",
    "Map.addLayer(fc.style(**style), {}, 'ROI')\n",
    "Map"
   ]
  },
  {
   "cell_type": "code",
   "execution_count": null,
   "id": "978625bf",
   "metadata": {},
   "outputs": [],
   "source": [
    "c = cdsapi.Client()\n",
    "\n",
    "c.retrieve(\n",
    "    'satellite-soil-moisture',\n",
    "    {\n",
    "        'format': 'zip',\n",
    "        'year': '2019',\n",
    "        'day':'01',\n",
    "        'variable': 'surface_soil_moisture',\n",
    "        'type_of_sensor': 'active',\n",
    "        'time_aggregation': 'day_average',\n",
    "        'month': '01',\n",
    "        'type_of_record': 'cdr',\n",
    "        'version': 'v202212',\n",
    "    },\n",
    "    'download.zip'\n",
    ")\n",
    "new_path = os.path.join('.', f'soil_moisture_bangladesh_test.nc')\n",
    "with zipfile.ZipFile('download.zip', 'r') as zip_ref:\n",
    "    file_list = zip_ref.namelist()\n",
    "    zip_ref.extract(file_list[0], path='.')\n",
    "\n",
    "    \n",
    "    os.rename(file_list[0], new_path)\n",
    "    print(f'File extracted and renamed to: {new_path}')\n",
    "os.remove('download.zip')\n"
   ]
  },
  {
   "cell_type": "code",
   "execution_count": null,
   "id": "7f0bad3c",
   "metadata": {},
   "outputs": [],
   "source": [
    "new_path = os.path.join('.', f'soil_moisture_bangladesh_test.nc')\n",
    "geojson = [mapping(polygon)] # Use GeoJSON of the shape\n",
    "with xr.open_dataset(new_path, engine=\"netcdf4\") as data:\n",
    "    data = data['sm']\n",
    "    data.rio.set_spatial_dims('lon', 'lat', inplace=True)\n",
    "    data.rio.write_crs(\"EPSG:4326\", inplace=True)\n",
    "    \n",
    "    data_clipped = data.rio.clip(geojson, all_touched=True)\n",
    "data_clipped.to_netcdf(new_path)\n",
    "# data_clipped.rio.to_raster('soil_moisture_bangladesh_test_clipping.tif')\n",
    "\n"
   ]
  },
  {
   "cell_type": "code",
   "execution_count": null,
   "id": "f6570eb2",
   "metadata": {},
   "outputs": [],
   "source": [
    "print(data_clipped.to_dataframe().values)"
   ]
  },
  {
   "cell_type": "code",
   "execution_count": null,
   "id": "7c34c768",
   "metadata": {},
   "outputs": [],
   "source": [
    "import numpy as np\n",
    "\n",
    "df = data_clipped.to_dataframe()\n",
    "nan_indices = np.isnan(df['sm'])\n",
    "nan_indices = list(df.index[nan_indices].droplevel('time'))\n",
    "# nan_indices.droplevel('time')\n",
    "\n",
    "nan_indices"
   ]
  },
  {
   "cell_type": "code",
   "execution_count": null,
   "id": "d80f8a75",
   "metadata": {},
   "outputs": [],
   "source": [
    "pivot_df = df.reset_index().pivot(index='lat', columns='lon', values='sm')\n",
    "pivot_df = pivot_df.iloc[::-1]\n",
    "pivot_df\n"
   ]
  },
  {
   "cell_type": "code",
   "execution_count": null,
   "id": "f082b0be",
   "metadata": {},
   "outputs": [],
   "source": [
    "\n",
    "plt.figure(figsize=(10, 8))\n",
    "# plt.imshow(pivot_df, cmap='viridis', origin='lower', extent=[-180, 180, -90, 90])\n",
    "lat_min, lat_max = pivot_df.index.min(), pivot_df.index.max()\n",
    "lon_min, lon_max = pivot_df.columns.min(), pivot_df.columns.max()\n",
    "plt.imshow(pivot_df, cmap='viridis', origin='upper', extent = [lon_min, lon_max, lat_min, lat_max])\n",
    "plt.colorbar(label='Value')\n",
    "plt.xlabel('Longitude')\n",
    "plt.ylabel('Latitude')\n",
    "plt.title('Grid Plot of Values')\n",
    "plt.show()"
   ]
  },
  {
   "cell_type": "code",
   "execution_count": null,
   "id": "2f0eb614",
   "metadata": {},
   "outputs": [],
   "source": [
    "def get_band_number_by_name(src, band_name):\n",
    "    # Assuming the band names are stored in the metadata under 'band_descriptions'\n",
    "    descriptions = src.descriptions\n",
    "    for i, desc in enumerate(descriptions):\n",
    "        if desc == band_name:\n",
    "            return i + 1  # Bands are 1-indexed in rasterio\n",
    "    raise ValueError(f\"Band name '{band_name}' not found\")\n",
    "\n",
    "def element_wise_average(arr1, arr2):\n",
    "    # Create masks for NaN values\n",
    "    mask1 = np.isnan(arr1)\n",
    "    mask2 = np.isnan(arr2)\n",
    "    \n",
    "    # Replace NaNs in arr1 with values from arr2\n",
    "    arr1[mask1] = arr2[mask1]\n",
    "    \n",
    "    # Replace NaNs in arr2 with values from arr1\n",
    "    arr2[mask2] = arr1[mask2]\n",
    "    \n",
    "    # Calculate the average\n",
    "    avg_array = (arr1 + arr2) / 2\n",
    "    \n",
    "    return avg_array"
   ]
  },
  {
   "cell_type": "code",
   "execution_count": null,
   "id": "97528a90",
   "metadata": {},
   "outputs": [],
   "source": [
    "# SMAP L3\n",
    "dataset = ee.ImageCollection('NASA/SMAP/SPL3SMP_E/005')\n",
    "im = ee.Image(dataset.filterDate('2019-01-01', '2019-01-02').first())\n",
    "print(im.getInfo())\n",
    "\n",
    "# ee_geometry.getInfo()['coordinates']\n",
    "print(type(im))\n"
   ]
  },
  {
   "cell_type": "code",
   "execution_count": null,
   "id": "c706340f",
   "metadata": {},
   "outputs": [],
   "source": [
    "export_task = ee.batch.Export.image.toDrive(\n",
    "    image=im,\n",
    "    description='SMAP_test_L3',\n",
    "    folder='ProjectFlood',\n",
    "    fileNamePrefix='SMAP_test_L3',\n",
    "    region=ee_geometry.getInfo()['coordinates'],\n",
    "    scale=11000,  # Adjust the scale as needed\n",
    "    maxPixels=1e13  # Adjust maxPixels as needed\n",
    ")\n",
    "export_task.start()\n"
   ]
  },
  {
   "cell_type": "code",
   "execution_count": null,
   "id": "c8f62fd7",
   "metadata": {},
   "outputs": [],
   "source": [
    "export_task.status()"
   ]
  },
  {
   "cell_type": "code",
   "execution_count": null,
   "id": "bc26f76c",
   "metadata": {},
   "outputs": [],
   "source": [
    "with rasterio.open(\"SMAP_test_L3.tif\") as src:\n",
    "    band_name = \"soil_moisture_am\"\n",
    "    band_number = get_band_number_by_name(src, band_name)\n",
    "    # print(band_number)\n",
    "    band1 = src.read(band_number)  # Read the first band\n",
    "    print(band1)\n",
    "\n",
    "    band_name = \"soil_moisture_pm\"\n",
    "    band_number = get_band_number_by_name(src, band_name)\n",
    "    # print(band_number)\n",
    "    band2 = src.read(band_number)  # Read the first band\n",
    "    print(\"=================\")\n",
    "    print(band2)\n",
    "\n",
    "\n",
    "    avg_band = element_wise_average(band1.copy(), band2.copy())\n",
    "    print(\"=================\")\n",
    "    print(avg_band)\n",
    "    \n",
    "    # Get the coordinates of the pixels\n",
    "    rows, cols = np.indices(avg_band.shape)\n",
    "    xs, ys = rasterio.transform.xy(src.transform, rows, cols)\n",
    "    lats = np.array(ys).flatten()\n",
    "    lons = np.array(xs).flatten()\n",
    "    values = avg_band.flatten()\n",
    "\n",
    "    # Create a DataFrame\n",
    "    df = pd.DataFrame({\n",
    "        'latitude': lats,\n",
    "        'longitude': lons,\n",
    "        'value': values\n",
    "    })\n",
    "\n",
    "df = df.pivot_table(index='latitude', columns='longitude', values='value')\n",
    "df = df.iloc[::-1]\n",
    "\n",
    "# df = df/0.9\n",
    "# print(df.head())\n"
   ]
  },
  {
   "cell_type": "code",
   "execution_count": null,
   "id": "1dc857e1",
   "metadata": {},
   "outputs": [],
   "source": [
    "plt.figure(figsize=(10, 8))\n",
    "# plt.imshow(pivot_df, cmap='viridis', origin='lower', extent=[-180, 180, -90, 90])\n",
    "lat_min, lat_max = df.index.min(), df.index.max()\n",
    "lon_min, lon_max = df.columns.min(), df.columns.max()\n",
    "plt.imshow(df, cmap='viridis', origin='upper', extent = [lon_min, lon_max, lat_min, lat_max])\n",
    "plt.colorbar(label='Value')\n",
    "plt.xlabel('Longitude')\n",
    "plt.ylabel('Latitude')\n",
    "plt.title('Grid Plot of Values')\n",
    "plt.show()"
   ]
  },
  {
   "cell_type": "code",
   "execution_count": null,
   "id": "290eaa93",
   "metadata": {},
   "outputs": [],
   "source": [
    "with rasterio.open(\"SMAP_test_L4.tif\") as src:\n",
    "    band_name = \"sm_surface\"\n",
    "    band_number = get_band_number_by_name(src, band_name)\n",
    "    # print(band_number)\n",
    "    band = src.read(band_number)  # Read the first band\n",
    "    # print(type(band))\n",
    "    # Get the coordinates of the pixels\n",
    "    rows, cols = np.indices(band.shape)\n",
    "    xs, ys = rasterio.transform.xy(src.transform, rows, cols)\n",
    "    lats = np.array(ys).flatten()\n",
    "    lons = np.array(xs).flatten()\n",
    "    values = band.flatten()\n",
    "\n",
    "    # Create a DataFrame\n",
    "    df = pd.DataFrame({\n",
    "        'latitude': lats,\n",
    "        'longitude': lons,\n",
    "        'value': values\n",
    "    })\n",
    "\n",
    "df = df.pivot_table(index='latitude', columns='longitude', values='value')\n",
    "df = df.iloc[::-1]\n",
    "df = df/0.9\n",
    "# df\n"
   ]
  },
  {
   "cell_type": "code",
   "execution_count": null,
   "id": "403529ee",
   "metadata": {},
   "outputs": [],
   "source": [
    "plt.figure(figsize=(10, 8))\n",
    "# plt.imshow(pivot_df, cmap='viridis', origin='lower', extent=[-180, 180, -90, 90])\n",
    "lat_min, lat_max = df.index.min(), df.index.max()\n",
    "lon_min, lon_max = df.columns.min(), df.columns.max()\n",
    "plt.imshow(df, cmap='viridis', origin='upper', extent = [lon_min, lon_max, lat_min, lat_max])\n",
    "plt.colorbar(label='Value')\n",
    "plt.xlabel('Longitude')\n",
    "plt.ylabel('Latitude')\n",
    "plt.title('Grid Plot of Values')\n",
    "plt.show()"
   ]
  },
  {
   "cell_type": "code",
   "execution_count": 9,
   "id": "81393426",
   "metadata": {},
   "outputs": [
    {
     "data": {
      "text/html": [
       "\n",
       "            <style>\n",
       "                .geemap-dark {\n",
       "                    --jp-widgets-color: white;\n",
       "                    --jp-widgets-label-color: white;\n",
       "                    --jp-ui-font-color1: white;\n",
       "                    --jp-layout-color2: #454545;\n",
       "                    background-color: #383838;\n",
       "                }\n",
       "\n",
       "                .geemap-dark .jupyter-button {\n",
       "                    --jp-layout-color3: #383838;\n",
       "                }\n",
       "\n",
       "                .geemap-colab {\n",
       "                    background-color: var(--colab-primary-surface-color, white);\n",
       "                }\n",
       "\n",
       "                .geemap-colab .jupyter-button {\n",
       "                    --jp-layout-color3: var(--colab-primary-surface-color, white);\n",
       "                }\n",
       "            </style>\n",
       "            "
      ],
      "text/plain": [
       "<IPython.core.display.HTML object>"
      ]
     },
     "metadata": {},
     "output_type": "display_data"
    },
    {
     "name": "stdout",
     "output_type": "stream",
     "text": [
      "{'type': 'Image', 'bands': [{'id': 'volumetric_soil_water_layer_1', 'data_type': {'type': 'PixelType', 'precision': 'double'}, 'dimensions': [3601, 1801], 'crs': 'EPSG:4326', 'crs_transform': [0.1, 0, -180.05, 0, -0.1, 90.05]}], 'version': 1724130942698911, 'id': 'ECMWF/ERA5_LAND/DAILY_AGGR/20190101', 'properties': {'system:time_start': 1546300800000, 'month': 1, 'year': 2019, 'system:footprint': {'type': 'LinearRing', 'coordinates': [[-180, -90], [180, -90], [180, 90], [-180, 90], [-180, -90]]}, 'system:time_end': 1546387200000, 'system:asset_size': 940588144, 'day': 1, 'system:index': '20190101'}}\n",
      "<class 'ee.image.Image'>\n"
     ]
    },
    {
     "data": {
      "application/vnd.jupyter.widget-view+json": {
       "model_id": "cc378aed3a1741e38b0a63a1be827caf",
       "version_major": 2,
       "version_minor": 0
      },
      "text/plain": [
       "Map(center=[0, 0], controls=(WidgetControl(options=['position', 'transparent_bg'], widget=SearchDataGUI(childr…"
      ]
     },
     "execution_count": 9,
     "metadata": {},
     "output_type": "execute_result"
    }
   ],
   "source": [
    "# Load the dataset and filter for the month of December\n",
    "dataset = ee.ImageCollection('ECMWF/ERA5_LAND/DAILY_AGGR')\n",
    "im = ee.Image(dataset.filterDate('2019-01-01', '2019-01-02').first())\n",
    "\n",
    "# im = im.toFloat()\n",
    "im = im.select(\"volumetric_soil_water_layer_1\")\n",
    "print(im.getInfo())\n",
    "# ee_geometry.getInfo()['coordinates']\n",
    "print(type(im))\n",
    "Map = geemap.Map()\n",
    "\n",
    "vis_params1 = {'min': 0, 'max': 1, 'palette': ['#000000', '#FFFFFF']}\n",
    "Map.addLayer(im, vis_params1, 'Landsat')\n",
    "Map"
   ]
  },
  {
   "cell_type": "code",
   "execution_count": 30,
   "id": "6bdf4944",
   "metadata": {},
   "outputs": [
    {
     "data": {
      "text/html": [
       "\n",
       "            <style>\n",
       "                .geemap-dark {\n",
       "                    --jp-widgets-color: white;\n",
       "                    --jp-widgets-label-color: white;\n",
       "                    --jp-ui-font-color1: white;\n",
       "                    --jp-layout-color2: #454545;\n",
       "                    background-color: #383838;\n",
       "                }\n",
       "\n",
       "                .geemap-dark .jupyter-button {\n",
       "                    --jp-layout-color3: #383838;\n",
       "                }\n",
       "\n",
       "                .geemap-colab {\n",
       "                    background-color: var(--colab-primary-surface-color, white);\n",
       "                }\n",
       "\n",
       "                .geemap-colab .jupyter-button {\n",
       "                    --jp-layout-color3: var(--colab-primary-surface-color, white);\n",
       "                }\n",
       "            </style>\n",
       "            "
      ],
      "text/plain": [
       "<IPython.core.display.HTML object>"
      ]
     },
     "metadata": {},
     "output_type": "display_data"
    },
    {
     "name": "stdout",
     "output_type": "stream",
     "text": [
      "0.20474687132083308\n"
     ]
    },
    {
     "data": {
      "application/vnd.jupyter.widget-view+json": {
       "model_id": "982017a70c7e44d58743f89645fbfe53",
       "version_major": 2,
       "version_minor": 0
      },
      "text/plain": [
       "Map(center=[0, 0], controls=(WidgetControl(options=['position', 'transparent_bg'], widget=SearchDataGUI(childr…"
      ]
     },
     "execution_count": 30,
     "metadata": {},
     "output_type": "execute_result"
    }
   ],
   "source": [
    "perm_water = ee.ImageCollection('JRC/GSW1_4/MonthlyRecurrence')\n",
    "water_overlay = ee.Image(perm_water.filterMetadata('month', 'equals', 1).first())\n",
    "occurrence_band = water_overlay.select('monthly_recurrence')\n",
    "water_overlay_filtered = occurrence_band.gt(0.99) \n",
    "\n",
    "\n",
    "# Mask the soil moisture image using the sea mask\n",
    "masked_soil_moisture = im.updateMask(water_overlay_filtered.eq(1))\n",
    "\n",
    "# Reduce the masked soil moisture image to get the average soil moisture value\n",
    "average_soil_moisture = masked_soil_moisture.reduceRegion(\n",
    "    reducer=ee.Reducer.mean(),\n",
    "    geometry=bbox_ee,\n",
    "    crs='EPSG:4326',\n",
    "    crsTransform=[0.002245788210298804, 0.0, 88.08430518433968, 0.0, -0.002245788210298804, 26.44864775268901]\n",
    ").getInfo()\n",
    "\n",
    "im2 = im.unmask(average_soil_moisture['volumetric_soil_water_layer_1'])\n",
    "# # Extract the mean value from the result\n",
    "print(average_soil_moisture['volumetric_soil_water_layer_1'])\n",
    "\n",
    "Map = geemap.Map()\n",
    "\n",
    "vis_params1 = {'min': 0, 'max': 1, 'palette': ['#000000', '#FFFFFF']}\n",
    "Map.addLayer(masked_soil_moisture, vis_params1, 'Landsat')\n",
    "Map"
   ]
  },
  {
   "cell_type": "code",
   "execution_count": null,
   "id": "39200b0d",
   "metadata": {},
   "outputs": [],
   "source": [
    "\n",
    "# Replace N/A values in the original soil moisture array with the calculated mean value\n",
    "na_mask = np.isnan(soil_moisture_array)\n",
    "soil_moisture_array[na_mask] = mean_value"
   ]
  },
  {
   "cell_type": "code",
   "execution_count": null,
   "id": "bd050bb8",
   "metadata": {},
   "outputs": [],
   "source": [
    "im = im.unmask(1)\n",
    "# im = im.resample(mode=\"bicubic\")\n",
    "export_task = ee.batch.Export.image.toDrive(\n",
    "    image=im,\n",
    "    description='ERA5-LAND',\n",
    "    folder='ProjectFlood',\n",
    "    fileNamePrefix='ERA5-LAND',\n",
    "    region=bbox_ee,\n",
    "    crs='EPSG:4326',\n",
    "    # scale=250,  # Adjust the scale as needed\n",
    "    crsTransform=[0.002245788210298804, 0.0, 88.08430518433968, 0.0, -0.002245788210298804, 26.44864775268901],\n",
    "    maxPixels=1e8  # Adjust maxPixels as needed\n",
    ")\n",
    "export_task.start()\n"
   ]
  },
  {
   "cell_type": "code",
   "execution_count": null,
   "id": "c9f38c00",
   "metadata": {},
   "outputs": [],
   "source": [
    "export_task.status()"
   ]
  },
  {
   "cell_type": "code",
   "execution_count": null,
   "id": "91fe198b",
   "metadata": {},
   "outputs": [],
   "source": [
    "with rasterio.open('ERA5-LAND.tif') as src:\n",
    "    # Read the existing data\n",
    "    data_era5 = src.read()\n",
    "    \n",
    "data_era5.nbytes"
   ]
  },
  {
   "cell_type": "code",
   "execution_count": null,
   "id": "53393ecc",
   "metadata": {},
   "outputs": [],
   "source": [
    "with rasterio.open('ERA5-LAND_bilinear.tif') as src:\n",
    "    # Read the existing data\n",
    "    data_era5_bl = src.read()\n",
    "    \n",
    "data_era5_bl.nbytes"
   ]
  },
  {
   "cell_type": "code",
   "execution_count": null,
   "id": "70deb59c",
   "metadata": {},
   "outputs": [],
   "source": [
    "with rasterio.open(\"ERA5-LAND.tif\") as src:\n",
    "    band_name = \"volumetric_soil_water_layer_1\"\n",
    "    band_number = get_band_number_by_name(src, band_name)\n",
    "    print(band_number)\n",
    "    band = src.read(band_number)\n",
    "    # Get the coordinates of the pixels\n",
    "    rows, cols = np.indices(band.shape)\n",
    "    xs, ys = rasterio.transform.xy(src.transform, rows, cols)\n",
    "    lats = np.array(ys).flatten()\n",
    "    lons = np.array(xs).flatten()\n",
    "    values = band.flatten()\n",
    "\n",
    "    # Create a DataFrame\n",
    "    df = pd.DataFrame({\n",
    "        'latitude': lats,\n",
    "        'longitude': lons,\n",
    "        'value': values\n",
    "    })\n",
    "\n",
    "df = df.pivot_table(index='latitude', columns='longitude', values='value')\n",
    "df = df.iloc[::-1]\n",
    "# df = df/0.9\n",
    "df\n"
   ]
  },
  {
   "cell_type": "code",
   "execution_count": null,
   "id": "2a4f2c95",
   "metadata": {},
   "outputs": [],
   "source": [
    "plt.figure(figsize=(10, 8))\n",
    "# plt.imshow(pivot_df, cmap='viridis', origin='lower', extent=[-180, 180, -90, 90])\n",
    "lat_min, lat_max = df.index.min(), df.index.max()\n",
    "lon_min, lon_max = df.columns.min(), df.columns.max()\n",
    "plt.imshow(df, cmap='viridis', origin='upper', extent = [lon_min, lon_max, lat_min, lat_max])\n",
    "plt.colorbar(label='Value')\n",
    "plt.xlabel('Longitude')\n",
    "plt.ylabel('Latitude')\n",
    "plt.title('Grid Plot of Values')\n",
    "plt.show()"
   ]
  },
  {
   "cell_type": "code",
   "execution_count": null,
   "id": "d9ed3c8a",
   "metadata": {},
   "outputs": [],
   "source": [
    "c = cdsapi.Client()\n",
    "\n",
    "c.retrieve(\n",
    "    'reanalysis-era5-land-monthly-means',\n",
    "    {\n",
    "        'product_type': 'monthly_averaged_reanalysis',\n",
    "        'variable': 'volumetric_soil_water_layer_1',\n",
    "        'year': '2019',\n",
    "        'month': '01',\n",
    "        'time': '00:00',\n",
    "        'area': [\n",
    "            26.4, 88.12, 20.63,\n",
    "            92.63,\n",
    "        ],\n",
    "        'format': 'grib',\n",
    "    },\n",
    "    'era5_land_soil_moisture_test.grib')"
   ]
  },
  {
   "cell_type": "code",
   "execution_count": null,
   "id": "6f9abca6",
   "metadata": {},
   "outputs": [],
   "source": [
    "\n",
    "ds = cfgrib.open_dataset('era5_land_soil_moisture_test.grib')"
   ]
  },
  {
   "cell_type": "code",
   "execution_count": null,
   "id": "6482c091",
   "metadata": {},
   "outputs": [],
   "source": [
    "# Open the NetCDF file\n",
    "nc_file = 'input.nc'\n",
    "variable_name = 'surface_soil_moisture'\n",
    "dataset = gdal.Open(f'NETCDF:\"{new_path}\":{variable_name}')\n",
    "\n",
    "# Check if the dataset was successfully opened\n",
    "if dataset is None:\n",
    "    print(\"Failed to open the NetCDF file.\")\n",
    "else:\n",
    "    # Define the output GeoTIFF file\n",
    "    tif_file = os.path.basename(new_path).split('.')[0] + '.tif'\n",
    "    \n",
    "    # Convert the dataset to GeoTIFF format\n",
    "    gdal.Translate(tif_file, dataset, format='GTiff', noData=-9999)\n",
    "\n",
    "    print(\"Conversion complete. Output saved to\", tif_file)"
   ]
  },
  {
   "cell_type": "code",
   "execution_count": null,
   "id": "07b0d22c",
   "metadata": {},
   "outputs": [],
   "source": [
    "os.path.basename(new_path).split('.')[0] + '.tif'"
   ]
  },
  {
   "cell_type": "code",
   "execution_count": null,
   "id": "914a10a2",
   "metadata": {},
   "outputs": [],
   "source": [
    "Map = geemap.Map()\n",
    "\n",
    "# Add the GeoTIFF file to the map\n",
    "geotiff_path = 'soil_moisture_bangladesh_test_clipping.tif'\n",
    "Map.add_raster(geotiff_path, vmin=0, vmax = 100, layer_name=\"Soil_Moisture\")\n",
    "Map"
   ]
  },
  {
   "cell_type": "markdown",
   "id": "bbc71990",
   "metadata": {},
   "source": [
    "Testing sending files from local to gdrive"
   ]
  },
  {
   "cell_type": "code",
   "execution_count": null,
   "id": "bec4fa6b",
   "metadata": {},
   "outputs": [],
   "source": [
    "\n",
    "def authenticate(config_file_path=\"config.json\"):\n",
    "    \"\"\"Authenticate using PyDrive and return a GoogleDrive object.\"\"\"\n",
    "    with open(config_file_path) as config_file:\n",
    "        config = json.load(config_file)\n",
    "    google_drive_credentials_path = config['google_drive_credentials']\n",
    "    google_drive_oauth_path = config['google_drive_oauth']\n",
    "\n",
    "    gauth = GoogleAuth()\n",
    "    gauth.LoadClientConfigFile(google_drive_credentials_path)\n",
    "\n",
    "    # Try to load saved credentials\n",
    "    gauth.LoadCredentialsFile(google_drive_oauth_path)\n",
    "    if gauth.credentials is None:\n",
    "        try:\n",
    "            gauth.LocalWebserverAuth()  # Creates local webserver and auto handles authentication\n",
    "        except:\n",
    "            gauth.CommandLineAuth()  # Use this if LocalWebserverAuth fails\n",
    "        gauth.SaveCredentialsFile(google_drive_oauth_path)\n",
    "    elif gauth.access_token_expired:\n",
    "        gauth.Refresh()\n",
    "        gauth.SaveCredentialsFile(google_drive_oauth_path)\n",
    "    else:\n",
    "        gauth.Authorize()\n",
    "\n",
    "    return GoogleDrive(gauth)"
   ]
  },
  {
   "cell_type": "code",
   "execution_count": null,
   "id": "d1a957a7",
   "metadata": {},
   "outputs": [],
   "source": [
    "with open(\"config.json\") as config_file:\n",
    "    config = json.load(config_file)\n",
    "google_drive_credentials_path = config['google_drive_credentials']\n",
    "google_drive_oauth_path = config['google_drive_oauth']\n",
    "\n",
    "gauth = GoogleAuth()\n"
   ]
  },
  {
   "cell_type": "code",
   "execution_count": null,
   "id": "4ccf98cd",
   "metadata": {},
   "outputs": [],
   "source": [
    "gauth.LocalWebserverAuth()"
   ]
  },
  {
   "cell_type": "code",
   "execution_count": null,
   "id": "11386b87",
   "metadata": {},
   "outputs": [],
   "source": [
    "\n",
    "gauth.LoadClientConfigFile(google_drive_credentials_path)\n"
   ]
  },
  {
   "cell_type": "code",
   "execution_count": null,
   "id": "eb5dd1e8",
   "metadata": {},
   "outputs": [],
   "source": [
    "\n",
    "# Try to load saved credentials\n",
    "gauth.LoadCredentialsFile(google_drive_oauth_path)\n",
    "if gauth.credentials is None:\n",
    "    try:\n",
    "        gauth.LocalWebserverAuth()  # Creates local webserver and auto handles authentication\n",
    "    except:\n",
    "        gauth.CommandLineAuth()  # Use this if LocalWebserverAuth fails\n",
    "    gauth.SaveCredentialsFile(google_drive_oauth_path)\n",
    "elif gauth.access_token_expired:\n",
    "    gauth.Refresh()\n",
    "    gauth.SaveCredentialsFile(google_drive_oauth_path)\n",
    "else:\n",
    "    gauth.Authorize()"
   ]
  },
  {
   "cell_type": "code",
   "execution_count": null,
   "id": "cb92abad",
   "metadata": {},
   "outputs": [],
   "source": [
    "gauth.LoadCredentialsFile(google_drive_oauth_path)\n",
    "gauth.LocalWebserverAuth()"
   ]
  },
  {
   "cell_type": "code",
   "execution_count": null,
   "id": "a977fd0d",
   "metadata": {},
   "outputs": [],
   "source": [
    "\n",
    "# Get folder id from config\n",
    "with open('config.json') as config_file:\n",
    "    config = json.load(config_file)\n",
    "folder_id = config['soil_moisture_folder_id']\n",
    "\n",
    "# drive = GoogleDrive(gauth)\n",
    "drive = authenticate('config.json')\n",
    "\n",
    "\n",
    "file_name = os.path.basename(\"./download.nc\")\n",
    "overwrite=True\n",
    "if overwrite:\n",
    "    # Search for the file with the same name in the target folder; delete if it exists\n",
    "    file_list = drive.ListFile({'q': f\"title = '{file_name}' and '{folder_id}' in parents and trashed=false\"}).GetList()\n",
    "    for file in file_list:\n",
    "        file.Delete()\n",
    "\n",
    "file = drive.CreateFile({'title': file_name, 'parents': [{'id': folder_id}]})\n",
    "file.SetContentFile(\"./download.nc\")\n",
    "file.Upload()\n",
    "file = None"
   ]
  },
  {
   "cell_type": "markdown",
   "id": "6b507e50",
   "metadata": {},
   "source": [
    "Testing moving files from shared to personal GDrive"
   ]
  },
  {
   "cell_type": "code",
   "execution_count": null,
   "id": "59ee451e",
   "metadata": {},
   "outputs": [],
   "source": [
    "\"\"\"List files shared with the user.\"\"\"\n",
    "file_list = drive.ListFile({'q': \"'me' in owners\"}).GetList()\n",
    "file_list"
   ]
  },
  {
   "cell_type": "code",
   "execution_count": null,
   "id": "c11f26e6",
   "metadata": {},
   "outputs": [],
   "source": [
    "timestamp = pd.Timestamp('2024-06-26')\n",
    "\n",
    "start_time = timestamp - pd.Timedelta(days=2)\n",
    "end_time = timestamp + pd.Timedelta(days=1)\n",
    "\n",
    "timestamps = pd.date_range(start=start_time, end=end_time, freq='3h')\n",
    "timestamps = timestamps.tolist()[:-1]\n",
    "\n",
    "\n",
    "print(f\"{timestamps[3].hour:02}\", timestamps[0], timestamps[0].year)"
   ]
  },
  {
   "cell_type": "code",
   "execution_count": null,
   "id": "4b918660",
   "metadata": {},
   "outputs": [],
   "source": [
    "def generate_timestamps(date, days_before: int, days_after: int):\n",
    "    start_time = date - pd.Timedelta(days=days_before)\n",
    "    end_time = date + pd.Timedelta(days=days_after)\n",
    "\n",
    "    timestamps = pd.date_range(start=start_time, end=end_time, freq='3h')\n",
    "    # don't include final forecast as it takes us into day t+days_after+1\n",
    "    return timestamps.tolist()[:-1]\n",
    "\n",
    "def convert_date_to_MSWEP_file_name(timestamp):\n",
    "    return f\"{timestamp.year}{timestamp.dayofyear}.{timestamp.hour:02}.nc\"\n",
    "\n",
    "def generate_files_of_interest(timestamps):\n",
    "    return [convert_date_to_MSWEP_file_name(timestamp) for timestamp in timestamps]\n",
    "\n",
    "timestamp = pd.Timestamp('2014-06-26')\n",
    "timestamps = generate_timestamps(timestamp, 2, 1)\n",
    "file_names = generate_files_of_interest(timestamps)\n",
    "\n",
    "with open(\"config.json\") as config_file:\n",
    "    config = json.load(config_file)\n",
    "folder_id = config['MSWEP_Past_3hr_folder_id']\n",
    "\n",
    "# query = f\"title='{file_names[0]}' and '{folder_id}' in parents\"\n",
    "# query\n"
   ]
  },
  {
   "cell_type": "code",
   "execution_count": null,
   "id": "4a54263d",
   "metadata": {},
   "outputs": [],
   "source": [
    "files = []\n",
    "for file_name in file_names:\n",
    "    query = f\"title='{file_name}' and '{folder_id}' in parents\"\n",
    "    file_list = drive.ListFile({'q': query}).GetList()\n",
    "    files.extend(file_list)"
   ]
  },
  {
   "cell_type": "code",
   "execution_count": null,
   "id": "dfe09e2c",
   "metadata": {},
   "outputs": [],
   "source": [
    "print(type(files[0]))\n",
    "# files[0].GetContentFile(file_names[0])\n",
    "files[0]['id']\n",
    "# files[0].keys()"
   ]
  },
  {
   "cell_type": "code",
   "execution_count": null,
   "id": "e4e2a573",
   "metadata": {},
   "outputs": [],
   "source": [
    "new_file = drive.CreateFile({'id': files[0]['id']})\n",
    "new_path = os.path.join(\"./data/temp\", f\"{timestamp.year}{timestamp.dayofyear}.{timestamp.hour:02}.nc\")\n",
    "temp_path = os.path.join(\"./data/temp\", f\"{timestamp.year}{timestamp.dayofyear}.{timestamp.hour:02}_tmp.nc\")\n",
    "new_file.GetContentFile(new_path)\n",
    "\n",
    "data = xr.open_dataset(new_path, engine=\"netcdf4\")\n",
    "data"
   ]
  },
  {
   "cell_type": "code",
   "execution_count": null,
   "id": "ca902e29",
   "metadata": {},
   "outputs": [],
   "source": [
    "geojson = [mapping(polygon)] # Use GeoJSON of the shape\n",
    "with xr.open_dataset(new_path, engine=\"netcdf4\") as data:\n",
    "    data = data['precipitation']\n",
    "    data.rio.set_spatial_dims('lon', 'lat', inplace=True)\n",
    "    data.rio.write_crs(\"EPSG:4326\", inplace=True)\n",
    "    \n",
    "    data_clipped = data.rio.clip(geojson, all_touched=True)\n",
    "\n",
    "data_clipped.to_netcdf(temp_path, mode='w')\n",
    "os.remove(new_path)\n",
    "os.rename(temp_path, new_path)"
   ]
  },
  {
   "cell_type": "code",
   "execution_count": null,
   "id": "445676c1",
   "metadata": {},
   "outputs": [],
   "source": [
    "data_clipped.to_netcdf(new_path, mode='w')"
   ]
  },
  {
   "cell_type": "code",
   "execution_count": null,
   "id": "3e179f3b",
   "metadata": {},
   "outputs": [],
   "source": [
    "with open(\"config.json\") as config_file:\n",
    "    config = json.load(config_file)\n",
    "target_folder_id = config['bangladesh_rainfall_folder_id']\n",
    "\n",
    "file = files[0]\n",
    "file.FetchMetadata()  # Get the file metadata\n",
    "copied_file = drive.CreateFile({\n",
    "    'title': file['title'],\n",
    "    'parents': [{'id': target_folder_id}],\n",
    "    'mimeType': file['mimeType']\n",
    "})\n",
    "\n",
    "# Copy the content\n",
    "copied_file.SetContentString(file.GetContentString())\n",
    "copied_file.Upload()\n",
    "\n",
    "# copied_file = drive.CreateFile({'title': file_name, 'parents': [{'id': folder_id}]})\n",
    "# copied_file.SetContentFile(file)\n",
    "# copied_file.Upload()"
   ]
  },
  {
   "cell_type": "markdown",
   "id": "e3288bc6",
   "metadata": {},
   "source": [
    "GDAL testing"
   ]
  },
  {
   "cell_type": "code",
   "execution_count": null,
   "id": "0542473f",
   "metadata": {},
   "outputs": [],
   "source": [
    "# 2020365.21.nc\n",
    "\n",
    "# Path to your NetCDF file\n",
    "netcdf_file = '2020365.21.nc'\n",
    "output_tif_file = 'gdal_testing.tif'\n",
    "dataset = gdal.Open('NETCDF:\"{}\":precipitation'.format(netcdf_file))\n",
    "# dataset\n",
    "\n",
    "driver = gdal.GetDriverByName('GTiff')\n",
    "output_dataset = driver.CreateCopy(output_tif_file, dataset, 0)\n",
    "\n",
    "output_dataset.SetProjection('EPSG:4326')\n",
    "\n",
    "dataset = None\n",
    "output_dataset = None\n",
    "\n",
    "print(f\"Converted {netcdf_file} to {output_tif_file} with EPSG:4326\")"
   ]
  },
  {
   "cell_type": "markdown",
   "id": "05ba05d1",
   "metadata": {},
   "source": [
    "Upsampling"
   ]
  },
  {
   "cell_type": "code",
   "execution_count": null,
   "id": "c196a736",
   "metadata": {},
   "outputs": [],
   "source": [
    "from rasterio.warp import calculate_default_transform, reproject, Resampling\n",
    "\n",
    "# File paths\n",
    "file_path_1 = 'BangladeshFloodedCombo.tif'\n",
    "# BangladeshFloodedCombo\n",
    "# ERA5-LAND_withmask\n",
    "file_path_2 = 'precipitation_data_Bangladesh.tif'\n",
    "output_path = 'upsampled_precipitation_data_Bangladesh.tif'\n",
    "\n",
    "# Open the first image to get its resolution\n",
    "image_1 = rasterio.open(file_path_1)\n",
    "resolution_1 = image_1.res\n",
    "print(resolution_1)\n",
    "\n",
    "# Open the second image to resample\n",
    "image_2 = rasterio.open(file_path_2)\n",
    "resolution_2 = image_2.res\n",
    "print(resolution_2)\n",
    "print(image_1.crs)\n",
    "print(image_2.crs)\n",
    "print(image_1.width)\n",
    "print(image_1.height)\n",
    "print(*image_1.bounds)\n",
    "print(image_1.transform)\n",
    "print(image_1.meta)\n",
    "print(image_2.meta)\n"
   ]
  },
  {
   "cell_type": "code",
   "execution_count": null,
   "id": "21a4f7e1",
   "metadata": {},
   "outputs": [],
   "source": [
    "with rasterio.open('precipitation_data_Bangladesh_new.tif') as src:\n",
    "    \n",
    "    src_transform = src.transform\n",
    "    data = src.read()\n",
    "    print(data.shape)\n",
    "    with rasterio.open('BangladeshFloodedCombo_MASTER.tif') as target:\n",
    "        target_transform = target.transform\n",
    "        target_width = target.width\n",
    "        target_height = target.height\n",
    "        kwargs = src.meta\n",
    "        kwargs.update({\n",
    "            'height': target_height,\n",
    "            'width': target_width,\n",
    "            'transform': target_transform\n",
    "        })\n",
    "    # print(kwargs)\n",
    "    with rasterio.open('precipitation_upsampled_no_compress.tif', 'w', **kwargs) as dst:\n",
    "\n",
    "        for i, band in enumerate(data, 1):\n",
    "            dest = np.zeros((target_height, target_width), dtype=np.float32)\n",
    "\n",
    "            reproject(\n",
    "                source=band,\n",
    "                destination=dest,\n",
    "                src_transform=src_transform,\n",
    "                src_crs=src.crs,\n",
    "                dst_transform=target_transform,\n",
    "                dst_crs=src.crs,\n",
    "                resampling=Resampling.bilinear)\n",
    "            print(dest.shape)\n",
    "            print(dest.max())\n",
    "\n",
    "\n",
    "            dst.write(dest, indexes=i)\n",
    "    \n",
    "print(data.max())\n"
   ]
  },
  {
   "cell_type": "code",
   "execution_count": null,
   "id": "7f0b9047",
   "metadata": {},
   "outputs": [],
   "source": [
    "\n",
    "with rasterio.open('2007174.06.tif', 'r') as src:\n",
    "    data = src.read(1)  # Assuming it is a single band raster\n",
    "    data = data * 10000\n",
    "    print(data.max())\n",
    "    data = data.astype(np.uint16)\n",
    "    \n",
    "    \n",
    "    new_meta = src.meta.copy()\n",
    "    new_meta.update({\n",
    "        'dtype': 'uint16',\n",
    "        'nodata': 0,\n",
    "        'compress': 'lzw'\n",
    "    })\n",
    "\n",
    "    with rasterio.open('2007174.06_no_compress.tif', 'w', **new_meta) as dst:\n",
    "        dst.write(data, 1)\n",
    "\n",
    "# Verify the dtype of the new file\n",
    "with rasterio.open('2007174.06_no_compress.tif') as new_src:\n",
    "    print(new_src.meta)\n",
    "    new_data = new_src.read()\n",
    "\n",
    "print(new_data.max())"
   ]
  },
  {
   "cell_type": "code",
   "execution_count": null,
   "id": "24987407",
   "metadata": {},
   "outputs": [],
   "source": [
    "with rasterio.open('precipitation_upsampled_no_compress.tif', 'r+') as src:\n",
    "    # Read the existing data\n",
    "    data = src.read()\n",
    "    \n",
    "data.min()"
   ]
  },
  {
   "cell_type": "code",
   "execution_count": null,
   "id": "aa1f447b",
   "metadata": {},
   "outputs": [],
   "source": [
    "with rasterio.open('precipitation_upsampled.tif') as data:\n",
    "    dataset = data.read()\n",
    "\n",
    "print(np.isnan(dataset).any())"
   ]
  },
  {
   "cell_type": "code",
   "execution_count": null,
   "id": "fa279328",
   "metadata": {},
   "outputs": [],
   "source": [
    "import numpy as np\n",
    "from rasterio.warp import reproject, Resampling\n",
    "\n",
    "# File paths\n",
    "source_path = 'precipitation_data_Bangladesh_new.tif'\n",
    "target_path = 'precipitation_upsampled.tif'\n",
    "\n",
    "# Open source file\n",
    "with rasterio.open(source_path) as src:\n",
    "    src_transform = src.transform\n",
    "    data = src.read()\n",
    "    src_crs = src.crs\n",
    "    src_meta = src.meta\n",
    "    \n",
    "    # Open target file to get target dimensions and transform\n",
    "    with rasterio.open('BangladeshFloodedCombo_MASTER.tif') as target:\n",
    "        target_transform = target.transform\n",
    "        target_width = target.width\n",
    "        target_height = target.height\n",
    "        target_crs = target.crs\n",
    "        \n",
    "        # Update metadata for the new file\n",
    "        kwargs = src.meta\n",
    "        kwargs.update({\n",
    "            'height': target_height,\n",
    "            'width': target_width,\n",
    "            'transform': target_transform,\n",
    "            'crs': target_crs,\n",
    "            'compress': 'lzw'\n",
    "        })\n",
    "        print(kwargs)\n",
    "\n",
    "    \n",
    "    with rasterio.open(target_path, 'w', **kwargs) as dst:\n",
    "        for i, band in enumerate(data, 1): # Go through bands\n",
    "            dest = np.zeros((target_height, target_width), dtype=np.float32)\n",
    "            \n",
    "            reproject(\n",
    "                source=band,\n",
    "                destination=dest,\n",
    "                src_transform=src_transform,\n",
    "                src_crs=src_crs,\n",
    "                dst_transform=target_transform,\n",
    "                dst_crs=target_crs,\n",
    "                resampling=Resampling.bilinear\n",
    "            )\n",
    "            print(dest)\n",
    "            # data[i-1] = dest\n",
    "            dst.write(dest, indexes=i)\n",
    "\n"
   ]
  },
  {
   "cell_type": "code",
   "execution_count": null,
   "id": "c9166520",
   "metadata": {},
   "outputs": [],
   "source": [
    "# File paths\n",
    "file_path_1 = 'BangladeshFloodedCombo_MASTER.tif'\n",
    "\n",
    "# Open the first image to get its resolution\n",
    "with rasterio.open(file_path_1) as image_1:\n",
    "    resolution_1 = image_1.res\n",
    "    profile_1 = image_1.profile\n",
    "\n",
    "\n",
    "print(profile_1)\n",
    "print(type(profile_1['transform']))\n",
    "print(\"a:\", profile_1['transform'].a)\n",
    "print(\"b:\", profile_1['transform'].b)\n",
    "print(\"c:\", profile_1['transform'].c)\n",
    "print(\"d:\", profile_1['transform'].d)\n",
    "print(\"tx (e):\", profile_1['transform'].e)\n",
    "print(\"ty (f):\", profile_1['transform'].f)\n"
   ]
  },
  {
   "cell_type": "code",
   "execution_count": null,
   "id": "efe29042",
   "metadata": {},
   "outputs": [],
   "source": [
    "from rasterio.enums import Resampling\n",
    "\n",
    "# File paths\n",
    "input_file_path = 'ERA5-LAND_withmask.tif'\n",
    "output_file_path = 'ERA5-LAND_withmask_readable.tif'\n",
    "\n",
    "# Open the input image\n",
    "with rasterio.open(input_file_path) as src:\n",
    "    # Read the image data\n",
    "    data = src.read()\n",
    "\n",
    "    # Normalize the data for 8-bit conversion\n",
    "    data_min = data.min()\n",
    "    data_max = data.max()\n",
    "    data = (data - data_min) / (data_max - data_min) * 255\n",
    "    data = data.astype(np.float16)\n",
    "    \n",
    "    # Define a new profile with updated dtype and count\n",
    "    profile = src.profile\n",
    "    profile.update(dtype=rasterio.uint8, count=data.shape[0])\n",
    "\n",
    "    # Save the new image as a readable TIFF\n",
    "    with rasterio.open(output_file_path, 'w', **profile) as dst:\n",
    "        dst.write(data)\n",
    "\n",
    "print(f\"Readable TIFF image saved as {output_file_path}\")\n"
   ]
  },
  {
   "cell_type": "markdown",
   "id": "22456cf9",
   "metadata": {},
   "source": [
    "Affine transformations"
   ]
  },
  {
   "cell_type": "code",
   "execution_count": null,
   "id": "c4707c59",
   "metadata": {},
   "outputs": [],
   "source": [
    "# Open the second GeoTIFF file\n",
    "file_path_2 = 'BangladeshFloodedCombo.tif'\n",
    "# upsampled_precipitation_data_Bangladesh_scipy_new\n",
    "# ERA5-LAND_withmask_readable\n",
    "# BangladeshFloodedCombo\n",
    "dataset_2 = rasterio.open(file_path_2)\n",
    "\n",
    "# Extract the metadata\n",
    "metadata_2 = dataset_2.meta\n",
    "band_count_2 = dataset_2.count\n",
    "bounds_2 = dataset_2.bounds\n",
    "crs_2 = dataset_2.crs\n",
    "transform_2 = dataset_2.transform\n",
    "\n",
    "metadata_summary_2 = {\n",
    "    \"Driver\": metadata_2['driver'],\n",
    "    \"Width\": metadata_2['width'],\n",
    "    \"Height\": metadata_2['height'],\n",
    "    \"Count of Bands\": band_count_2,\n",
    "    \"Dtype\": metadata_2['dtype'],\n",
    "    \"Bounds\": bounds_2,\n",
    "    \"Coordinate Reference System\": crs_2,\n",
    "    \"Transform\": transform_2\n",
    "}\n",
    "\n",
    "metadata_summary_2\n"
   ]
  },
  {
   "cell_type": "code",
   "execution_count": null,
   "id": "cdbdc3b4",
   "metadata": {},
   "outputs": [],
   "source": [
    "a = pd.read_csv(\"to_rerun.csv\", header=None)\n",
    "a = list(a.values.flatten())\n",
    "a = [pd.Timestamp(i) for i in a]\n",
    "a"
   ]
  },
  {
   "cell_type": "code",
   "execution_count": null,
   "id": "7ef168c3",
   "metadata": {},
   "outputs": [],
   "source": [
    "def convert_date_to_MSWEP_file_name(timestamp: pd.Timestamp):\n",
    "    return f\"{timestamp.year}{timestamp.dayofyear:03}.{timestamp.hour:02}.nc\"\n",
    "\n",
    "convert_date_to_MSWEP_file_name(a[0])"
   ]
  },
  {
   "cell_type": "code",
   "execution_count": null,
   "id": "415cc840",
   "metadata": {},
   "outputs": [],
   "source": [
    "gauth = GoogleAuth()\n",
    "with open(\"config.json\") as config_file:\n",
    "    config = json.load(config_file)\n",
    "google_drive_credentials_path = config['google_drive_credentials']\n",
    "google_drive_oauth_path = config['google_drive_oauth']\n",
    "gauth.LoadClientConfigFile(google_drive_credentials_path)\n",
    "gauth.LocalWebserverAuth()\n",
    "drive = GoogleDrive(gauth)"
   ]
  },
  {
   "cell_type": "code",
   "execution_count": null,
   "id": "d2445bc1",
   "metadata": {},
   "outputs": [],
   "source": [
    "query = f\"title='2017085.00.nc' and '1DVR90Ud1C444bTOPeENX-3I7tgqPLnao' in parents\"\n",
    "file_list = drive.ListFile({'q': query}).GetList()\n",
    "file_list"
   ]
  },
  {
   "cell_type": "code",
   "execution_count": null,
   "id": "d1e515da",
   "metadata": {},
   "outputs": [],
   "source": [
    "def store_flood_dates(events_dict, config_file):\n",
    "    dates = [i for i in events_dict.keys()]\n",
    "    df = pd.DataFrame(dates, columns=[\"Dates\"])\n",
    "    with open(config_file) as config_file:\n",
    "        config = json.load(config_file)\n",
    "    target_path = config[\"final_flood_dates\"]\n",
    "    df.to_excel(target_path, index=False)"
   ]
  },
  {
   "cell_type": "code",
   "execution_count": null,
   "id": "0248c708",
   "metadata": {},
   "outputs": [],
   "source": [
    "shape = bbox\n",
    "zzz = \"/home/vkhandekar/project_flood/archive/2014175.00.nc\"\n",
    "yyy = \"/home/vkhandekar/project_flood/archive/2014175_testing_without_GDAL_20240731.tif\"\n",
    "geojson = [mapping(shape)] # Use GeoJSON of the shape\n",
    "with xr.open_dataset(zzz, engine=\"netcdf4\") as data:\n",
    "    data = data['precipitation']\n",
    "    data.rio.set_spatial_dims('lon', 'lat', inplace=True)\n",
    "    data.rio.write_crs(\"EPSG:4326\", inplace=True)\n",
    "    \n",
    "    data_clipped = data.rio.clip(geojson, all_touched=True)\n",
    "    # data_clipped = ((data_clipped*1000)//1).astype(np.uint16) # QUANTIZATION\n",
    "    data_clipped = data_clipped.squeeze()\n",
    "print(type(data_clipped.dtype))\n",
    "print(data_clipped.values.mean())"
   ]
  },
  {
   "cell_type": "code",
   "execution_count": null,
   "id": "0682daf2",
   "metadata": {},
   "outputs": [],
   "source": [
    "def get_transform_from_xarray(data_array):\n",
    "    # Assuming the coordinates are named 'lon' and 'lat' and are regularly spaced\n",
    "    lon_res = data_array.lon[1] - data_array.lon[0]  # Longitude resolution\n",
    "    lat_res = data_array.lat[1] - data_array.lat[0]  # Latitude resolution\n",
    "    transform = from_origin(data_array.lon.min(), data_array.lat.max(), lon_res, abs(lat_res))\n",
    "    return transform"
   ]
  },
  {
   "cell_type": "code",
   "execution_count": null,
   "id": "19bc503b",
   "metadata": {},
   "outputs": [],
   "source": [
    "metadata = {\n",
    "        'driver': 'GTiff',\n",
    "        'height': data_clipped.shape[0],\n",
    "        'width': data_clipped.shape[1],\n",
    "        'count': 1,\n",
    "        'dtype': data_clipped.dtype,  # Using the numpy dtype directly\n",
    "        'crs': 'EPSG:4326',  # Assuming the CRS is WGS84\n",
    "        'transform': get_transform_from_xarray(data_clipped)\n",
    "    }\n",
    "with rasterio.open(yyy, 'w', **metadata) as dst:\n",
    "    dst.write(data_clipped.values, 1)"
   ]
  },
  {
   "cell_type": "code",
   "execution_count": null,
   "id": "82ef54e4",
   "metadata": {},
   "outputs": [],
   "source": [
    "print(os.getcwd())\n",
    "\n",
    "with open(\"/home/vkhandekar/project_flood/static/local_data_paths.json\") as config_file:\n",
    "    config = json.load(config_file)\n",
    "os.listdir(config[\"topology_path_2044_2573\"])\n"
   ]
  }
 ],
 "metadata": {
  "kernelspec": {
   "display_name": "Python 3 (ipykernel)",
   "language": "python",
   "name": "python3"
  },
  "language_info": {
   "codemirror_mode": {
    "name": "ipython",
    "version": 3
   },
   "file_extension": ".py",
   "mimetype": "text/x-python",
   "name": "python",
   "nbconvert_exporter": "python",
   "pygments_lexer": "ipython3",
   "version": "3.10.12"
  }
 },
 "nbformat": 4,
 "nbformat_minor": 5
}
