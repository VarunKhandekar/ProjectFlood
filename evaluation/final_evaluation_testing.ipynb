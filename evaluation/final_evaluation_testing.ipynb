{
 "cells": [
  {
   "cell_type": "code",
   "execution_count": 1,
   "metadata": {},
   "outputs": [
    {
     "name": "stdout",
     "output_type": "stream",
     "text": [
      "['/usr/lib/python310.zip', '/usr/lib/python3.10', '/usr/lib/python3.10/lib-dynload', '', '/vol/bitbucket/vk223/project_flood/projectfloodvenv/lib/python3.10/site-packages', '/homes/vk223/ProjectFlood', '/home/vkhandekar/project_flood']\n",
      "/homes/vk223/ProjectFlood/evaluation\n"
     ]
    }
   ],
   "source": [
    "import sys\n",
    "paths_to_add = [\"/homes/vk223/ProjectFlood\", \"/home/vkhandekar/project_flood\"]\n",
    "for p in paths_to_add:\n",
    "    if p not in sys.path:\n",
    "        sys.path.append(p)\n",
    "print(sys.path)\n",
    "\n",
    "from model_runs.model_run_helpers import *\n",
    "from model_runs.distributed_gpu_helpers import *\n",
    "from visualisations.visualisation_helpers import *\n",
    "import os\n",
    "print(os.getcwd())\n"
   ]
  },
  {
   "cell_type": "code",
   "execution_count": 2,
   "metadata": {},
   "outputs": [
    {
     "name": "stdout",
     "output_type": "stream",
     "text": [
      "/homes/vk223/ProjectFlood/static/imperial_data_paths.json\n"
     ]
    }
   ],
   "source": [
    "from evaluation.model_evaluation_helpers import *\n",
    "os.environ[\"PROJECT_FLOOD_DATA\"] = \"/homes/vk223/ProjectFlood/static/imperial_data_paths.json\"\n",
    "os.environ[\"PROJECT_FLOOD_CORE_PATHS\"] = \"/homes/vk223/ProjectFlood/static/imperial_core_paths.json\"\n",
    "print(os.environ[\"PROJECT_FLOOD_DATA\"])\n"
   ]
  },
  {
   "cell_type": "code",
   "execution_count": 3,
   "metadata": {},
   "outputs": [
    {
     "name": "stdout",
     "output_type": "stream",
     "text": [
      "dict_keys(['epochs', 'batchsize', 'lr', 'precedingrainfall', 'dropout', 'outputchannels', 'convblocklayers', 'convLSTMlayers', 'optim', 'criterion', 'transforms', 'res'])\n",
      "dict_keys(['epochs', 'batchsize', 'lr', 'precedingrainfall', 'dropout', 'outputchannels', 'convblocklayers', 'convLSTMlayers', 'optim', 'criterion', 'transforms', 'res'])\n"
     ]
    },
    {
     "name": "stderr",
     "output_type": "stream",
     "text": [
      "/homes/vk223/ProjectFlood/evaluation/model_evaluation_helpers.py:16: FutureWarning: You are using `torch.load` with `weights_only=False` (the current default value), which uses the default pickle module implicitly. It is possible to construct malicious pickle data which will execute arbitrary code during unpickling (See https://github.com/pytorch/pytorch/blob/main/SECURITY.md#untrusted-models for more details). In a future release, the default value for `weights_only` will be flipped to `True`. This limits the functions that could be executed during unpickling. Arbitrary objects will no longer be allowed to be loaded via this mode unless they are explicitly allowlisted by the user via `torch.serialization.add_safe_globals`. We recommend you start setting `weights_only=True` for any use case where you don't have full control of the loaded file. Please open an issue on GitHub for any issues related to this experimental feature.\n",
      "  checkpoint = torch.load(filepath)\n",
      "/vol/bitbucket/vk223/project_flood/projectfloodvenv/lib/python3.10/site-packages/torch/cuda/__init__.py:205: UserWarning: \n",
      "    Found GPU0 NVIDIA GeForce GT 730 which is of cuda capability 3.5.\n",
      "    PyTorch no longer supports this GPU because it is too old.\n",
      "    The minimum cuda capability supported by this library is 3.7.\n",
      "    \n",
      "  warnings.warn(\n"
     ]
    }
   ],
   "source": [
    "device = torch.device('cuda' if torch.cuda.is_available() else 'cpu')\n",
    "torch.manual_seed(42)\n",
    "# Load newly trained best, final models\n",
    "final_sep_branch_model, _, _, final_sep_branch_params = load_checkpoint(\"/homes/vk223/ProjectFlood/models/saved_models/ConvLSTMMerged_epochs500_batchsize16_lr0p001_precedingrainfall1_dropout0p3_outputchannels8_convblocklayers2_convLSTMlayers2_optimRMSprop_criterionBCELoss_transformsFalse_res256_20240824_500.pt\")\n",
    "final_merged_model, _, _, final_merged_params = load_checkpoint(\"/homes/vk223/ProjectFlood/models/saved_models/ConvLSTMSeparateBranches_epochs500_batchsize32_lr0p001_precedingrainfall1_dropout0p5_outputchannels8_convblocklayers2_convLSTMlayers1_optimRMSprop_criterionBCELoss_transformsFalse_res256_20240824_500.pt\")"
   ]
  },
  {
   "cell_type": "code",
   "execution_count": 4,
   "metadata": {},
   "outputs": [],
   "source": [
    "sep_branch_test_dataloader = get_dataloader(\"test_labels_path\", resolution=256, preceding_rainfall_days=final_sep_branch_params['precedingrainfall'], forecast_rainfall_days=1, \n",
    "                                                transform=None, batch_size=16, shuffle=False, num_workers=4)\n",
    "    \n",
    "merged_test_dataloader = get_dataloader(\"test_labels_path\", resolution=256, preceding_rainfall_days=final_merged_params['precedingrainfall'], forecast_rainfall_days=1, \n",
    "                                            transform=None, batch_size=16, shuffle=False, num_workers=4)"
   ]
  },
  {
   "cell_type": "code",
   "execution_count": 5,
   "metadata": {},
   "outputs": [],
   "source": [
    "from visualisations.visualisation_helpers import *\n",
    "# Plot image\n",
    "with torch.no_grad():\n",
    "    size = 3\n",
    "\n",
    "    sep_branch_flooded_images = []\n",
    "    sep_branch_non_flooded_images = []\n",
    "    for inputs, targets, flooded in sep_branch_test_dataloader:\n",
    "        sep_branch_outputs = final_sep_branch_model(inputs)\n",
    "        for i in range(len(flooded)):\n",
    "            if flooded[i] == 1 and len(sep_branch_flooded_images) < size:\n",
    "                sep_branch_flooded_images.append((sep_branch_outputs[i], targets[i], flooded[i]))\n",
    "            elif flooded[i] == 0 and len(sep_branch_non_flooded_images) < size:\n",
    "                sep_branch_non_flooded_images.append((sep_branch_outputs[i], targets[i], flooded[i]))\n",
    "            # Stop if we've collected 4 images in each category\n",
    "            if len(sep_branch_flooded_images) >= size and len(sep_branch_non_flooded_images) >= size:\n",
    "                break\n",
    "        if len(sep_branch_flooded_images) >= 4 and len(sep_branch_non_flooded_images) >= 4:\n",
    "            break\n",
    "\n",
    "    merged_flooded_images = []\n",
    "    merged_non_flooded_images = []\n",
    "    for inputs, targets, flooded in merged_test_dataloader:\n",
    "        merged_outputs = final_merged_model(inputs)\n",
    "        for i in range(len(flooded)):\n",
    "            if flooded[i] == 1 and len(merged_flooded_images) < size:\n",
    "                merged_flooded_images.append((merged_outputs[i], targets[i], flooded[i]))\n",
    "            elif flooded[i] == 0 and len(merged_non_flooded_images) < size:\n",
    "                merged_non_flooded_images.append((merged_outputs[i], targets[i], flooded[i]))\n",
    "            # Stop if we've collected 4 images in each category\n",
    "            if len(merged_flooded_images) >= size and len(merged_non_flooded_images) >= size:\n",
    "                break\n",
    "        if len(merged_flooded_images) >= 4 and len(merged_non_flooded_images) >= 4:\n",
    "            break\n",
    "    \n",
    "    with open(os.environ[\"PROJECT_FLOOD_CORE_PATHS\"]) as core_config_file:\n",
    "        core_config = json.load(core_config_file)\n",
    "    dimension_string = core_config[f\"rainfall_reprojection_master_256\"]\n",
    "    match = re.search(r'_(\\d+)_(\\d+)\\.tif$', dimension_string)\n",
    "    new_dimension_right, new_dimension_bottom = int(match.group(1)), int(match.group(2))\n",
    "\n",
    "\n",
    "    selected_sep_branch_outputs = [img[0] for img in sep_branch_flooded_images + sep_branch_non_flooded_images]\n",
    "    selected_sep_branch_outputs = [i[:new_dimension_bottom, :new_dimension_right] for i in selected_sep_branch_outputs] #crop\n",
    "\n",
    "\n",
    "    selected_merged_outputs = [img[0] for img in merged_flooded_images + merged_non_flooded_images]\n",
    "    selected_merged_outputs = [i[:new_dimension_bottom, :new_dimension_right] for i in selected_merged_outputs] #crop\n",
    "\n",
    "    model_names = ['Branched', 'Merged']\n",
    "    selected_model_outputs = [selected_sep_branch_outputs, selected_merged_outputs]\n",
    "\n",
    "    selected_targets = [img[1] for img in sep_branch_flooded_images + sep_branch_non_flooded_images]\n",
    "    selected_targets = [i[:new_dimension_bottom, :new_dimension_right] for i in selected_targets] #crop\n",
    "\n",
    "\n",
    "    selected_targets_flooded = [img[2] for img in sep_branch_flooded_images + sep_branch_non_flooded_images] #boolean for flooded or not\n",
    "\n",
    "    # Do plotting\n",
    "    with open(os.environ[\"PROJECT_FLOOD_DATA\"]) as data_config_file:\n",
    "        data_config = json.load(data_config_file)\n",
    "    plot_filename = os.path.join(data_config[\"model_results_path\"], \"final_plots.png\")\n",
    "    plot_final_model_output_vs_label(model_names, selected_model_outputs, selected_targets, selected_targets_flooded, plot_filename)"
   ]
  },
  {
   "cell_type": "code",
   "execution_count": null,
   "metadata": {},
   "outputs": [],
   "source": []
  }
 ],
 "metadata": {
  "kernelspec": {
   "display_name": "projectfloodvenv",
   "language": "python",
   "name": "python3"
  },
  "language_info": {
   "codemirror_mode": {
    "name": "ipython",
    "version": 3
   },
   "file_extension": ".py",
   "mimetype": "text/x-python",
   "name": "python",
   "nbconvert_exporter": "python",
   "pygments_lexer": "ipython3",
   "version": "3.10.12"
  }
 },
 "nbformat": 4,
 "nbformat_minor": 2
}
