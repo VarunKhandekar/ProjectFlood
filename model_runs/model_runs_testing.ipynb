{
 "cells": [
  {
   "cell_type": "code",
   "execution_count": 1,
   "metadata": {},
   "outputs": [
    {
     "ename": "ModuleNotFoundError",
     "evalue": "No module named 'dataloaders'",
     "output_type": "error",
     "traceback": [
      "\u001b[0;31m---------------------------------------------------------------------------\u001b[0m",
      "\u001b[0;31mModuleNotFoundError\u001b[0m                       Traceback (most recent call last)",
      "Cell \u001b[0;32mIn[1], line 6\u001b[0m\n\u001b[1;32m      4\u001b[0m \u001b[38;5;28;01mimport\u001b[39;00m \u001b[38;5;21;01mos\u001b[39;00m\n\u001b[1;32m      5\u001b[0m \u001b[38;5;28;01mfrom\u001b[39;00m \u001b[38;5;21;01mtorch\u001b[39;00m\u001b[38;5;21;01m.\u001b[39;00m\u001b[38;5;21;01mutils\u001b[39;00m\u001b[38;5;21;01m.\u001b[39;00m\u001b[38;5;21;01mdata\u001b[39;00m \u001b[38;5;28;01mimport\u001b[39;00m DataLoader\n\u001b[0;32m----> 6\u001b[0m \u001b[38;5;28;01mfrom\u001b[39;00m \u001b[38;5;21;01mdataloaders\u001b[39;00m\u001b[38;5;21;01m.\u001b[39;00m\u001b[38;5;21;01mconvLSTM_dataloader\u001b[39;00m \u001b[38;5;28;01mimport\u001b[39;00m \u001b[38;5;241m*\u001b[39m\n\u001b[1;32m      7\u001b[0m \u001b[38;5;28;01mfrom\u001b[39;00m \u001b[38;5;21;01mdataloaders\u001b[39;00m\u001b[38;5;21;01m.\u001b[39;00m\u001b[38;5;21;01mcustom_image_transforms\u001b[39;00m \u001b[38;5;28;01mimport\u001b[39;00m \u001b[38;5;241m*\u001b[39m\n\u001b[1;32m      8\u001b[0m \u001b[38;5;28;01mfrom\u001b[39;00m \u001b[38;5;21;01mmodels\u001b[39;00m\u001b[38;5;21;01m.\u001b[39;00m\u001b[38;5;21;01mconvLSTM_separate_branches\u001b[39;00m \u001b[38;5;28;01mimport\u001b[39;00m \u001b[38;5;241m*\u001b[39m\n",
      "\u001b[0;31mModuleNotFoundError\u001b[0m: No module named 'dataloaders'"
     ]
    }
   ],
   "source": [
    "import torch\n",
    "import torch.nn as nn\n",
    "import torch.optim as optim\n",
    "import os\n",
    "from torch.utils.data import DataLoader\n",
    "from dataloaders.convLSTM_dataloader import *\n",
    "from dataloaders.custom_image_transforms import *\n",
    "from models.convLSTM_separate_branches import *\n",
    "from model_runs.model_run_helpers import *\n",
    "\n",
    "\n",
    "# CONFIGURATION AND HYPERPARAMETERS\n",
    "model_run_date = date.today().strftime(r'%Y%m%d')\n",
    "\n",
    "device = torch.device('cuda' if torch.cuda.is_available() else 'cpu')\n",
    "print('Device: {0}'.format(device))\n",
    "# hyperparams = {\n",
    "#     'learning_rate': 0.01,\n",
    "#     'train_batch_size': 32,\n",
    "#     'optimizer_type': 'Adam',  # Note: storing the name as string for serialization\n",
    "#     'num_epochs': 100,\n",
    "#     'preceding_rainfall_days': 1,  # Example for a simple model layer configuration\n",
    "#     'dropout_prob': 0.0,\n",
    "#     'criterion': 'BCEWithLogitsLoss'\n",
    "# }\n",
    "\n",
    "num_epochs = 10000\n",
    "train_batch_size = 32\n",
    "learning_rate = 0.01\n",
    "preceding_rainfall_days = 1\n",
    "dropout_prob=0.0\n",
    "optimizer_str = 'Adam'\n",
    "criterion_str = 'BCEWithLogitsLoss'\n",
    "\n",
    "with open(os.environ[\"PROJECT_FLOOD_DATA\"]) as config_file_path:\n",
    "    config_data = json.load(config_file_path)\n",
    "\n",
    "if not os.path.exists(config_data[\"saved_models_path\"]):\n",
    "    os.makedirs(config_data[\"saved_models_path\"])\n",
    "\n",
    "# Build the model\n",
    "model = ConvLSTMSeparateBranches(preceding_rainfall_days, 1, dropout_prob)\n",
    "model = model.to(device)\n",
    "params = list(model.parameters())\n",
    "\n",
    "# optimizer = getattr(optim, hyperparams['optimizer_type'])(model.parameters(), lr=hyperparams['learning_rate'])\n",
    "\n",
    "optimizer = optim.Adam(params, lr=learning_rate)\n",
    "criterion = nn.BCEWithLogitsLoss()"
   ]
  }
 ],
 "metadata": {
  "kernelspec": {
   "display_name": ".venv",
   "language": "python",
   "name": "python3"
  },
  "language_info": {
   "codemirror_mode": {
    "name": "ipython",
    "version": 3
   },
   "file_extension": ".py",
   "mimetype": "text/x-python",
   "name": "python",
   "nbconvert_exporter": "python",
   "pygments_lexer": "ipython3",
   "version": "3.10.12"
  }
 },
 "nbformat": 4,
 "nbformat_minor": 2
}
